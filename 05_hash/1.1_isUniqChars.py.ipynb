{
 "cells": [
  {
   "cell_type": "code",
   "execution_count": null,
   "metadata": {},
   "outputs": [],
   "source": [
    "\"\"\"\n",
    "return true if the string doesn't have duplicate characters\n",
    "return false if the string has duplicate character \n",
    "\"\"\""
   ]
  },
  {
   "cell_type": "code",
   "execution_count": 12,
   "metadata": {},
   "outputs": [],
   "source": [
    "def isUniqChars(str):\n",
    "    # assume characters are ASCII, total 256 characters\n",
    "    # if the string is greater than 256, there is duplicate\n",
    "    if len(str) > 256: \n",
    "        return False\n",
    "    \n",
    "    # initialize boolean array\n",
    "    hash = [False] * 256\n",
    "    \n",
    "    for ch in str: \n",
    "        # if boolean array is true, then there is duplicate\n",
    "        if hash[ord(ch)] is True:\n",
    "            return False\n",
    "        # if the value in hash is False, the value is not duplicate yet\n",
    "        else: \n",
    "            hash[ord(ch)] = True \n",
    "            \n",
    "    return True \n"
   ]
  },
  {
   "cell_type": "code",
   "execution_count": null,
   "metadata": {},
   "outputs": [],
   "source": []
  },
  {
   "cell_type": "code",
   "execution_count": null,
   "metadata": {
    "collapsed": true
   },
   "outputs": [],
   "source": []
  }
 ],
 "metadata": {
  "kernelspec": {
   "display_name": "Python 3",
   "language": "python",
   "name": "python3"
  },
  "language_info": {
   "codemirror_mode": {
    "name": "ipython",
    "version": 3
   },
   "file_extension": ".py",
   "mimetype": "text/x-python",
   "name": "python",
   "nbconvert_exporter": "python",
   "pygments_lexer": "ipython3",
   "version": "3.6.0"
  }
 },
 "nbformat": 4,
 "nbformat_minor": 2
}
