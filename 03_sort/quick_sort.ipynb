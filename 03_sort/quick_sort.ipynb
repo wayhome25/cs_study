{
 "cells": [
  {
   "cell_type": "code",
   "execution_count": null,
   "metadata": {
    "collapsed": true
   },
   "outputs": [],
   "source": [
    "# 의사코드\n",
    "\n",
    "quicksort(A[], p, r) # A[p...r]을 정렬한다.\n",
    "{\n",
    "    if(p < r) then {\n",
    "        q = partition(A, p, r)\n",
    "        quicksort(A, p, q-1)\n",
    "        quicksort(A, q+1, r)\n",
    "    }\n",
    "}\n",
    "\n",
    "\n",
    "partition(A[], p, r)\n",
    "{\n",
    "    배열 A[p...r]의 원소들을 A[r]을 기준으로 양쪽으로 재배치하고\n",
    "    A[r]이 위치한 자리를 return 한다 \n",
    "}\n"
   ]
  },
  {
   "cell_type": "code",
   "execution_count": 5,
   "metadata": {},
   "outputs": [
    {
     "name": "stdout",
     "output_type": "stream",
     "text": [
      "[1, 2, 3, 3, 4, 5, 6, 7]\n"
     ]
    }
   ],
   "source": [
    "# 퀵소트 구현 - 위키백과 참고 \n",
    "\n",
    "def quicksort(x):\n",
    "    if len(x) <= 1:\n",
    "        return x\n",
    "    \n",
    "    pivot = x[len(x) // 2]\n",
    "    less = []\n",
    "    more = []\n",
    "    equal = []\n",
    "    for a in x:\n",
    "        if a < pivot:\n",
    "            less.append(a)\n",
    "        elif a > pivot:\n",
    "            more.append(a)\n",
    "        else:\n",
    "            equal.append(a)\n",
    "    return quicksort(less) + equal + quicksort(more)\n",
    "\n",
    "if __name__ == '__main__':\n",
    "    result = quicksort([1,4,2,5,3,6,7,3])\n",
    "    print(result)"
   ]
  },
  {
   "cell_type": "code",
   "execution_count": 12,
   "metadata": {},
   "outputs": [
    {
     "name": "stdout",
     "output_type": "stream",
     "text": [
      "[1, 2, 3, 4, 5, 5, 5, 6, 6, 7, 8, 9, 10, 11, 12]\n"
     ]
    }
   ],
   "source": [
    "# 퀵소트 구현 2\n",
    "def partition(data, start, end):\n",
    "    pivot = data[start]\n",
    "    \n",
    "    low = start + 1\n",
    "    high = end\n",
    "    \n",
    "    # 교차하기 전 까지 \n",
    "    while low <= high:\n",
    "        while low <= end and data[low] <= pivot:\n",
    "            low += 1\n",
    "            \n",
    "        while high >= (start+1) and data[high] >= pivot:\n",
    "            high -= 1\n",
    "        \n",
    "        if low <= high:\n",
    "            data[low], data[high] = data[high], data[low]\n",
    "        \n",
    "    data[start], data[high] = data[high], data[start]\n",
    "    \n",
    "    return high\n",
    "\n",
    "\n",
    "def quick_sort(data, start, end):\n",
    "    # 탈출조건\n",
    "    if start >= end:\n",
    "        return\n",
    "    \n",
    "    idx_pivot = partition(data, start, end)\n",
    "    quick_sort(data,start,idx_pivot-1)\n",
    "    quick_sort(data,idx_pivot+1,end) \n",
    "\n",
    "    \n",
    "if __name__ == '__main__':\n",
    "    data = [2, 5, 4, 1, 8, 10, 5, 3, 6, 6, 5, 7, 9, 12, 11]\n",
    "    \n",
    "    quick_sort(data, 0, len(data)-1)\n",
    "    \n",
    "    print(data)"
   ]
  },
  {
   "cell_type": "code",
   "execution_count": null,
   "metadata": {
    "collapsed": true
   },
   "outputs": [],
   "source": []
  }
 ],
 "metadata": {
  "kernelspec": {
   "display_name": "Python 3",
   "language": "python",
   "name": "python3"
  },
  "language_info": {
   "codemirror_mode": {
    "name": "ipython",
    "version": 3
   },
   "file_extension": ".py",
   "mimetype": "text/x-python",
   "name": "python",
   "nbconvert_exporter": "python",
   "pygments_lexer": "ipython3",
   "version": "3.5.3"
  }
 },
 "nbformat": 4,
 "nbformat_minor": 2
}
