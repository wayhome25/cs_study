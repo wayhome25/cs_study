{
 "cells": [
  {
   "cell_type": "code",
   "execution_count": 3,
   "metadata": {
    "collapsed": true
   },
   "outputs": [],
   "source": [
    "def insertion_sort(li):\n",
    "    for i in range(1, len(li)):\n",
    "        j = i - 1\n",
    "        key = li[i]\n",
    "        while li[j] > key and j >= 0:\n",
    "            li[j+1] = li[j]\n",
    "            j = j -1\n",
    "        li[j+1] = key\n",
    "    return li"
   ]
  },
  {
   "cell_type": "code",
   "execution_count": 4,
   "metadata": {},
   "outputs": [
    {
     "data": {
      "text/plain": [
       "[1, 2, 3, 4, 5, 6, 7, 8, 9, 10, 11, 12]"
      ]
     },
     "execution_count": 4,
     "metadata": {},
     "output_type": "execute_result"
    }
   ],
   "source": [
    "li = [4, 6, 1, 7, 2, 8, 3, 5, 9, 10, 12, 11]\n",
    "insertion_sort(li)"
   ]
  },
  {
   "cell_type": "code",
   "execution_count": 35,
   "metadata": {
    "collapsed": true
   },
   "outputs": [],
   "source": [
    "def insertion_sort(li):\n",
    "    for i in range(1, len(li)):\n",
    "        val = li[i]\n",
    "        while i > 0 and li[i-1] > val:\n",
    "            li[i] = li[i-1]\n",
    "            i -= 1\n",
    "        li[i] = val\n",
    "    return li"
   ]
  },
  {
   "cell_type": "code",
   "execution_count": 36,
   "metadata": {},
   "outputs": [
    {
     "data": {
      "text/plain": [
       "[1, 2, 3, 4, 5, 6, 7, 8, 9, 10, 11, 12]"
      ]
     },
     "execution_count": 36,
     "metadata": {},
     "output_type": "execute_result"
    }
   ],
   "source": [
    "li = [4, 6, 1, 7, 2, 8, 3, 5, 9, 10, 12, 11]\n",
    "insertion_sort(li)"
   ]
  },
  {
   "cell_type": "code",
   "execution_count": 29,
   "metadata": {},
   "outputs": [],
   "source": [
    "# insertion sort 연습 - 내 풀이 (나에게는 가장 이해가 잘 가는 풀이)\n",
    "\n",
    "def insertion_sort(li):\n",
    "    for i in range(1, len(li)):\n",
    "        for j in range(i, 0, -1):\n",
    "            if li[j-1] > li[j]:\n",
    "                li[j-1], li[j] = li[j], li[j-1]\n",
    "            else: \n",
    "                break # 중요) 불필요한 비교 방지! \n",
    "    return li"
   ]
  },
  {
   "cell_type": "code",
   "execution_count": 30,
   "metadata": {},
   "outputs": [
    {
     "data": {
      "text/plain": [
       "[1, 2, 3, 4, 5, 6, 7, 8, 9, 10, 11, 12]"
      ]
     },
     "execution_count": 30,
     "metadata": {},
     "output_type": "execute_result"
    }
   ],
   "source": [
    "li = [4, 6, 1, 7, 2, 8, 3, 5, 9, 10, 12, 11]\n",
    "insertion_sort(li)"
   ]
  }
 ],
 "metadata": {
  "kernelspec": {
   "display_name": "Django Shell-Plus",
   "language": "python",
   "name": "django_extensions"
  },
  "language_info": {
   "codemirror_mode": {
    "name": "ipython",
    "version": 3
   },
   "file_extension": ".py",
   "mimetype": "text/x-python",
   "name": "python",
   "nbconvert_exporter": "python",
   "pygments_lexer": "ipython3",
   "version": "3.5.3"
  }
 },
 "nbformat": 4,
 "nbformat_minor": 2
}
