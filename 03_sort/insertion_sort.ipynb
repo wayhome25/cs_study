{
 "cells": [
  {
   "cell_type": "code",
   "execution_count": 3,
   "metadata": {
    "collapsed": true
   },
   "outputs": [],
   "source": [
    "def insertion_sort(li):\n",
    "    for i in range(1, len(li)):\n",
    "        j = i - 1\n",
    "        key = li[i]\n",
    "        while li[j] > key and j >= 0:\n",
    "            li[j+1] = li[j]\n",
    "            j = j -1\n",
    "        li[j+1] = key\n",
    "    return li"
   ]
  },
  {
   "cell_type": "code",
   "execution_count": 4,
   "metadata": {},
   "outputs": [
    {
     "data": {
      "text/plain": [
       "[1, 2, 3, 4, 5, 6, 7, 8, 9, 10, 11, 12]"
      ]
     },
     "execution_count": 4,
     "metadata": {},
     "output_type": "execute_result"
    }
   ],
   "source": [
    "li = [4, 6, 1, 7, 2, 8, 3, 5, 9, 10, 12, 11]\n",
    "insertion_sort(li)"
   ]
  },
  {
   "cell_type": "code",
   "execution_count": 3,
   "metadata": {
    "collapsed": true
   },
   "outputs": [],
   "source": [
    "# 내 풀이 - 삽입정렬 \n",
    "def insertion_sort(li):\n",
    "    for i in range(len(li)-1):\n",
    "        if li[i] > li[i+1]:\n",
    "            li[i], li[i+1] = li[i+1], li[i]\n",
    "            print(li)\n",
    "            for j in range(i-1,-1,-1):\n",
    "                if li[j] > li[j+1]:\n",
    "                    li[j], li[j+1] = li[j+1], li[j]\n",
    "                else:\n",
    "                    break \n",
    "                print(li)\n",
    "    return li\n",
    "                "
   ]
  },
  {
   "cell_type": "code",
   "execution_count": 4,
   "metadata": {},
   "outputs": [
    {
     "name": "stdout",
     "output_type": "stream",
     "text": [
      "[4, 1, 6, 7, 2, 8, 3, 5, 9, 10, 12, 11]\n",
      "[1, 4, 6, 7, 2, 8, 3, 5, 9, 10, 12, 11]\n",
      "[1, 4, 6, 2, 7, 8, 3, 5, 9, 10, 12, 11]\n",
      "[1, 4, 2, 6, 7, 8, 3, 5, 9, 10, 12, 11]\n",
      "[1, 2, 4, 6, 7, 8, 3, 5, 9, 10, 12, 11]\n",
      "[1, 2, 4, 6, 7, 3, 8, 5, 9, 10, 12, 11]\n",
      "[1, 2, 4, 6, 3, 7, 8, 5, 9, 10, 12, 11]\n",
      "[1, 2, 4, 3, 6, 7, 8, 5, 9, 10, 12, 11]\n",
      "[1, 2, 3, 4, 6, 7, 8, 5, 9, 10, 12, 11]\n",
      "[1, 2, 3, 4, 6, 7, 5, 8, 9, 10, 12, 11]\n",
      "[1, 2, 3, 4, 6, 5, 7, 8, 9, 10, 12, 11]\n",
      "[1, 2, 3, 4, 5, 6, 7, 8, 9, 10, 12, 11]\n",
      "[1, 2, 3, 4, 5, 6, 7, 8, 9, 10, 11, 12]\n"
     ]
    },
    {
     "data": {
      "text/plain": [
       "[1, 2, 3, 4, 5, 6, 7, 8, 9, 10, 11, 12]"
      ]
     },
     "execution_count": 4,
     "metadata": {},
     "output_type": "execute_result"
    }
   ],
   "source": [
    "li = [4, 6, 1, 7, 2, 8, 3, 5, 9, 10, 12, 11]\n",
    "insertion_sort(li)"
   ]
  },
  {
   "cell_type": "code",
   "execution_count": 7,
   "metadata": {
    "collapsed": true
   },
   "outputs": [],
   "source": [
    "def insertion_sort(li):\n",
    "    for size in range(1, len(li)):\n",
    "        val = li[size]\n",
    "        i = size \n",
    "        while i > 0 and li[i-1] > val:\n",
    "            li[i] = li[i-1]\n",
    "            i -= 1\n",
    "        li[i] = val\n",
    "    return li"
   ]
  },
  {
   "cell_type": "code",
   "execution_count": 8,
   "metadata": {},
   "outputs": [
    {
     "data": {
      "text/plain": [
       "[1, 2, 3, 4, 5, 6, 7, 8, 9, 10, 11, 12]"
      ]
     },
     "execution_count": 8,
     "metadata": {},
     "output_type": "execute_result"
    }
   ],
   "source": [
    "li = [4, 6, 1, 7, 2, 8, 3, 5, 9, 10, 12, 11]\n",
    "insertion_sort(li)"
   ]
  },
  {
   "cell_type": "code",
   "execution_count": null,
   "metadata": {
    "collapsed": true
   },
   "outputs": [],
   "source": []
  }
 ],
 "metadata": {
  "kernelspec": {
   "display_name": "Django Shell-Plus",
   "language": "python",
   "name": "django_extensions"
  },
  "language_info": {
   "codemirror_mode": {
    "name": "ipython",
    "version": 3
   },
   "file_extension": ".py",
   "mimetype": "text/x-python",
   "name": "python",
   "nbconvert_exporter": "python",
   "pygments_lexer": "ipython3",
   "version": "3.6.0"
  }
 },
 "nbformat": 4,
 "nbformat_minor": 2
}
