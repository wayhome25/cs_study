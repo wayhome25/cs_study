{
 "cells": [
  {
   "cell_type": "code",
   "execution_count": 12,
   "metadata": {
    "collapsed": true
   },
   "outputs": [],
   "source": [
    "# 풀이 1- 양태환 선생님\n",
    "\n",
    "def selection_sort(x):\n",
    "    length = len(x)\n",
    "    for i in range(length-1):\n",
    "        indexMin = i\n",
    "        for j in range(i+1, length):\n",
    "            if x[indexMin] > x[j]:\n",
    "                indexMin = j\n",
    "        x[i], x[indexMin] = x[indexMin], x[i]\n",
    "    return x"
   ]
  },
  {
   "cell_type": "code",
   "execution_count": 13,
   "metadata": {},
   "outputs": [
    {
     "data": {
      "text/plain": [
       "[1, 2, 3, 4, 5, 6, 7, 8, 9, 10, 11, 12]"
      ]
     },
     "execution_count": 13,
     "metadata": {},
     "output_type": "execute_result"
    }
   ],
   "source": [
    "li = [4, 6, 1, 7, 2, 8, 3, 5, 9, 10, 12, 11]\n",
    "selection_sort(li)"
   ]
  },
  {
   "cell_type": "code",
   "execution_count": 10,
   "metadata": {
    "collapsed": true
   },
   "outputs": [],
   "source": [
    "# 풀이 2 - 1, 3과 같은 풀이가 좋음\n",
    "\n",
    "def selection_sort(li):\n",
    "    for i in range(len(li)-1):\n",
    "        for j in range(i+1, len(li)):\n",
    "            if li[i] > li[j]:\n",
    "                li[i], li[j] = li[j], li[i]\n",
    "    return li"
   ]
  },
  {
   "cell_type": "code",
   "execution_count": 11,
   "metadata": {},
   "outputs": [
    {
     "name": "stdout",
     "output_type": "stream",
     "text": [
      "0\n",
      "1\n",
      "2\n",
      "3\n",
      "4\n",
      "5\n",
      "6\n",
      "7\n",
      "8\n",
      "9\n",
      "10\n"
     ]
    },
    {
     "data": {
      "text/plain": [
       "[1, 2, 3, 4, 5, 6, 7, 8, 9, 10, 11, 12]"
      ]
     },
     "execution_count": 11,
     "metadata": {},
     "output_type": "execute_result"
    }
   ],
   "source": [
    "li = [4, 6, 1, 7, 2, 8, 3, 5, 9, 10, 12, 11]\n",
    "selection_sort(li)"
   ]
  },
  {
   "cell_type": "code",
   "execution_count": 6,
   "metadata": {},
   "outputs": [
    {
     "name": "stderr",
     "output_type": "stream",
     "text": [
      "E\n",
      "======================================================================\n",
      "ERROR: /Users/Leehyunjoo/Library/Jupyter/runtime/kernel-782571b8-9fe7-4248-bada-9b8172edc782 (unittest.loader._FailedTest)\n",
      "----------------------------------------------------------------------\n",
      "AttributeError: module '__main__' has no attribute '/Users/Leehyunjoo/Library/Jupyter/runtime/kernel-782571b8-9fe7-4248-bada-9b8172edc782'\n",
      "\n",
      "----------------------------------------------------------------------\n",
      "Ran 1 test in 0.001s\n",
      "\n",
      "FAILED (errors=1)\n"
     ]
    },
    {
     "ename": "SystemExit",
     "evalue": "True",
     "output_type": "error",
     "traceback": [
      "An exception has occurred, use %tb to see the full traceback.\n",
      "\u001b[0;31mSystemExit\u001b[0m\u001b[0;31m:\u001b[0m True\n"
     ]
    },
    {
     "name": "stderr",
     "output_type": "stream",
     "text": [
      "/usr/local/var/pyenv/versions/3.6.0/envs/base/lib/python3.6/site-packages/IPython/core/interactiveshell.py:2855: UserWarning: To exit: use 'exit', 'quit', or Ctrl-D.\n",
      "  warn(\"To exit: use 'exit', 'quit', or Ctrl-D.\", stacklevel=1)\n"
     ]
    }
   ],
   "source": [
    "# 풀이 3\n",
    "\n",
    "import unittest \n",
    "\n",
    "def selection_sort(li):\n",
    "    for i in range(len(li)-1):\n",
    "        min_idx = i\n",
    "        for j in range(i+1, len(li)):\n",
    "            if li[min_idx] > li[j]:\n",
    "                min_idx = j\n",
    "        li[i], li[min_idx] = li[min_idx], li[i]\n",
    "    return li\n",
    "\n",
    "class unit_test(unittest.TestCase):\n",
    "    def test(self):\n",
    "        self.assertEqual([1, 2, 3, 4, 5, 6], selection_sort([4, 6, 1, 3, 5, 2]))\n",
    "        self.assertEqual([1, 2, 3, 4, 5, 6], selection_sort([6, 4, 3, 1, 2, 5]))\n",
    "        self.assertEqual([1, 2, 3, 4, 5, 6], selection_sort([6, 5, 4, 3, 2, 1]))\n",
    "        \n",
    "if __name__ == '__main__':\n",
    "    unittest.main()"
   ]
  },
  {
   "cell_type": "code",
   "execution_count": 4,
   "metadata": {},
   "outputs": [
    {
     "data": {
      "text/plain": [
       "[1, 2, 3, 4, 5, 6, 7, 8, 9, 10, 11, 12]"
      ]
     },
     "execution_count": 4,
     "metadata": {},
     "output_type": "execute_result"
    }
   ],
   "source": [
    "li = [4, 6, 1, 7, 2, 8, 3, 5, 9, 10, 12, 11]\n",
    "selection_sort(li)"
   ]
  },
  {
   "cell_type": "code",
   "execution_count": 13,
   "metadata": {
    "collapsed": true
   },
   "outputs": [],
   "source": [
    "# 연습구현 \n",
    "def selection_sort(li):\n",
    "    for i in range(len(li)-1):\n",
    "        min_idx = i\n",
    "        for j in range(i+1, len(li)):\n",
    "            if li[min_idx] > li[j]:\n",
    "                min_idx = j\n",
    "        if min_idx != i:\n",
    "            li[i], li[min_idx] = li[min_idx], li[i]\n",
    "    return li\n",
    "\n",
    "\n",
    "                    "
   ]
  },
  {
   "cell_type": "code",
   "execution_count": 14,
   "metadata": {},
   "outputs": [
    {
     "data": {
      "text/plain": [
       "[1, 2, 3, 4, 5, 6, 7, 8, 9, 10, 11, 12]"
      ]
     },
     "execution_count": 14,
     "metadata": {},
     "output_type": "execute_result"
    }
   ],
   "source": [
    "li = [4, 6, 1, 7, 2, 8, 3, 5, 9, 10, 12, 11]\n",
    "selection_sort(li)"
   ]
  },
  {
   "cell_type": "code",
   "execution_count": 11,
   "metadata": {},
   "outputs": [
    {
     "name": "stdout",
     "output_type": "stream",
     "text": [
      "[1, 2, 3, 4, 5, 6, 7, 8, 9, 10, 11, 12]\n"
     ]
    }
   ],
   "source": [
    "# 반복연습\n",
    "def selection_sort(li):\n",
    "    for i in range(len(li)-1):\n",
    "        min_idx = i\n",
    "        for j in range(i+1, len(li)):\n",
    "            if li[min_idx] > li[j]:\n",
    "                min_idx = j\n",
    "        if min_idx != i:\n",
    "            li[i], li[min_idx] = li[min_idx], li[i]\n",
    "    return li\n",
    "\n",
    "if __name__ == \"__main__\":\n",
    "    li = [4, 6, 1, 7, 2, 8, 3, 5, 9, 10, 12, 11]\n",
    "    selection_sort(li)\n",
    "    print(li)"
   ]
  },
  {
   "cell_type": "code",
   "execution_count": 4,
   "metadata": {},
   "outputs": [
    {
     "name": "stdout",
     "output_type": "stream",
     "text": [
      "[1, 2, 3, 4, 5, 6, 7, 8, 9, 10, 11, 12]\n"
     ]
    }
   ],
   "source": [
    "#selection sort \n",
    "def selection_sort(li):\n",
    "    for i in range(len(li)-1):\n",
    "        min_idx = i\n",
    "        for j in range(i+1, len(li)):\n",
    "            if li[min_idx] > li[j]:\n",
    "                min_idx = j\n",
    "        if min_idx != i:\n",
    "            li[i], li[min_idx] = li[min_idx], li[i]\n",
    "    return li\n",
    "if __name__ == \"__main__\":\n",
    "    li = [4, 6, 1, 7, 2, 8, 3, 5, 9, 10, 12, 11]\n",
    "    selection_sort(li)\n",
    "    print(li)\n",
    "\n",
    "    "
   ]
  },
  {
   "cell_type": "code",
   "execution_count": null,
   "metadata": {
    "collapsed": true
   },
   "outputs": [],
   "source": [
    "#"
   ]
  }
 ],
 "metadata": {
  "kernelspec": {
   "display_name": "Python 3",
   "language": "python",
   "name": "python3"
  },
  "language_info": {
   "codemirror_mode": {
    "name": "ipython",
    "version": 3
   },
   "file_extension": ".py",
   "mimetype": "text/x-python",
   "name": "python",
   "nbconvert_exporter": "python",
   "pygments_lexer": "ipython3",
   "version": "3.5.3"
  }
 },
 "nbformat": 4,
 "nbformat_minor": 2
}
