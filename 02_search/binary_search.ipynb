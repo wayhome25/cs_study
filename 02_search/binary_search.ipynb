{
 "cells": [
  {
   "cell_type": "markdown",
   "metadata": {},
   "source": [
    "# 바이너리 서치-이진탐색(Binary Search)"
   ]
  },
  {
   "cell_type": "markdown",
   "metadata": {},
   "source": [
    "- BigO : `O(log N)`\n",
    "- 정렬된 자료를 반으로 나누어 탐색하는 방법\n",
    "- 주의점 : 자료는 `오름차순` 으로 정렬된 자료여야 한다. \n",
    "- 자료의 중간 값이 (mid) 찾고자 하는 값인지 검사\n",
    "- 아니라면 대소관계를 비교하여 start, end 값 이동 \n",
    "- 동일 연산 반복 (재귀) \n",
    "\n",
    "## ADT\n",
    "- start\n",
    "- end\n",
    "- mid \n"
   ]
  },
  {
   "cell_type": "markdown",
   "metadata": {},
   "source": [
    "## 바이너리 서치 구현 (python)"
   ]
  },
  {
   "cell_type": "code",
   "execution_count": 13,
   "metadata": {
    "collapsed": true
   },
   "outputs": [],
   "source": [
    "# data 중에서 target 을 검색하여 index 값을 return 한다.\n",
    "def binary_search(target, data):\n",
    "    data.sort()\n",
    "    start = 0\n",
    "    end = len(data) - 1 \n",
    "    \n",
    "    while start <= end:\n",
    "        mid = (start + end) // 2\n",
    "        if data[mid] == target:\n",
    "            return mid\n",
    "        elif data[mid] < target:\n",
    "            start = mid + 1\n",
    "        else:\n",
    "            end = mid - 1\n",
    "            \n",
    "    return None"
   ]
  },
  {
   "cell_type": "code",
   "execution_count": 18,
   "metadata": {},
   "outputs": [
    {
     "name": "stdout",
     "output_type": "stream",
     "text": [
      "[0, 1, 4, 9, 16, 25, 36, 49, 64, 81, 100]\n",
      "9\n"
     ]
    }
   ],
   "source": [
    "if __name__ == '__main__':\n",
    "    li = [i**2 for i in range(11)]\n",
    "    target = 9\n",
    "    idx = binary_search(target, li)\n",
    "\n",
    "    if idx:\n",
    "        print(li)\n",
    "        print(li[idx])\n",
    "    else: \n",
    "        print(\"찾으시는 값 {}가 없습니다\".format(target))"
   ]
  },
  {
   "cell_type": "markdown",
   "metadata": {},
   "source": [
    "## 바이너리 서치 재귀적 구현 "
   ]
  },
  {
   "cell_type": "code",
   "execution_count": 43,
   "metadata": {
    "collapsed": true
   },
   "outputs": [],
   "source": [
    "# data는 오름차순으로 정렬된 리스트\n",
    "def binary_search_recursion(target, start, end, data):\n",
    "    if start > end:\n",
    "        return None\n",
    "    \n",
    "    mid = (start + end) // 2 \n",
    "    \n",
    "    if data[mid] == target:\n",
    "        return mid\n",
    "    elif data[mid] > target:\n",
    "        end = mid - 1\n",
    "    else:\n",
    "        start = mid + 1        \n",
    "        \n",
    "    return binary_search_recursion(target, start, end, data)\n",
    "    "
   ]
  },
  {
   "cell_type": "code",
   "execution_count": 48,
   "metadata": {},
   "outputs": [
    {
     "name": "stdout",
     "output_type": "stream",
     "text": [
      "[0, 3, 6, 9, 12, 15, 18, 21, 24, 27, 30]\n",
      "2\n"
     ]
    }
   ],
   "source": [
    "if __name__ == '__main__':\n",
    "    li = [i*3 for i in range(11)]\n",
    "    target = 6\n",
    "    idx = binary_search_recursion(target, 0, 10, li)\n",
    "    \n",
    "    print(li)\n",
    "    print(idx)"
   ]
  },
  {
   "cell_type": "code",
   "execution_count": null,
   "metadata": {
    "collapsed": true
   },
   "outputs": [],
   "source": []
  }
 ],
 "metadata": {
  "kernelspec": {
   "display_name": "Python 3",
   "language": "python",
   "name": "python3"
  },
  "language_info": {
   "codemirror_mode": {
    "name": "ipython",
    "version": 3
   },
   "file_extension": ".py",
   "mimetype": "text/x-python",
   "name": "python",
   "nbconvert_exporter": "python",
   "pygments_lexer": "ipython3",
   "version": "3.5.3"
  }
 },
 "nbformat": 4,
 "nbformat_minor": 2
}
