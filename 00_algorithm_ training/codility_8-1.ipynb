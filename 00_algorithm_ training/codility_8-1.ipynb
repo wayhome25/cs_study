{
 "cells": [
  {
   "cell_type": "code",
   "execution_count": 25,
   "metadata": {
    "collapsed": true
   },
   "outputs": [],
   "source": [
    "# 풀이 \n",
    "# 시간복잡도 : O(N^2)\n",
    "def solution(A):\n",
    "    if len(A) == 1:\n",
    "        return 0\n",
    "    item_count = {}\n",
    "    condition = len(A) // 2\n",
    "    leader = None\n",
    "    for i in A:\n",
    "        if i not in item_count:\n",
    "            item_count[i] = 1\n",
    "        else:\n",
    "            item_count[i] += 1\n",
    "    for item, count in item_count.items():\n",
    "        if count > condition:\n",
    "            leader = item\n",
    "            \n",
    "    print(item_count)\n",
    "    print(condition)\n",
    "    print(leader)\n",
    "    count = 0\n",
    "    for j in range(len(A)-1):\n",
    "        if A[:j+1].count(leader) > len(A[:j+1]) // 2 and A[j+1:].count(leader) > len(A[j+1:]) // 2:\n",
    "            count += 1\n",
    "    return count"
   ]
  },
  {
   "cell_type": "code",
   "execution_count": 26,
   "metadata": {},
   "outputs": [
    {
     "name": "stdout",
     "output_type": "stream",
     "text": [
      "{2: 1, 3: 1, 4: 4}\n",
      "3\n",
      "4\n",
      "hi\n",
      "hi\n",
      "hi\n",
      "hi\n",
      "hi\n"
     ]
    },
    {
     "data": {
      "text/plain": [
       "2"
      ]
     },
     "execution_count": 26,
     "metadata": {},
     "output_type": "execute_result"
    }
   ],
   "source": [
    "solution([4,3,4,4,4,2])"
   ]
  },
  {
   "cell_type": "code",
   "execution_count": 27,
   "metadata": {},
   "outputs": [
    {
     "name": "stdout",
     "output_type": "stream",
     "text": [
      "{0: 2}\n",
      "1\n",
      "0\n",
      "hi\n"
     ]
    },
    {
     "data": {
      "text/plain": [
       "1"
      ]
     },
     "execution_count": 27,
     "metadata": {},
     "output_type": "execute_result"
    }
   ],
   "source": [
    "solution([0,0])"
   ]
  },
  {
   "cell_type": "code",
   "execution_count": null,
   "metadata": {
    "collapsed": true
   },
   "outputs": [],
   "source": []
  }
 ],
 "metadata": {
  "kernelspec": {
   "display_name": "Python 3",
   "language": "python",
   "name": "python3"
  },
  "language_info": {
   "codemirror_mode": {
    "name": "ipython",
    "version": 3
   },
   "file_extension": ".py",
   "mimetype": "text/x-python",
   "name": "python",
   "nbconvert_exporter": "python",
   "pygments_lexer": "ipython3",
   "version": "3.5.3"
  }
 },
 "nbformat": 4,
 "nbformat_minor": 2
}
