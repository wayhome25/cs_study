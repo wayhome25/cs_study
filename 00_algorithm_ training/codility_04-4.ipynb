{
 "cells": [
  {
   "cell_type": "code",
   "execution_count": null,
   "metadata": {
    "collapsed": true
   },
   "outputs": [],
   "source": [
    "문제 : \n",
    "def solution(N, A): \n",
    "    return result\n",
    "\n",
    "- 인자\n",
    "    - N : 정수 \n",
    "    - A : 리스트 \n",
    "- 인자로 주어진 정수 N개의 요소를 가진 리스트를 정의한다 (모든 요소는 0으로 초기화) \n",
    "- 2가지 연산이 있다\n",
    "    - increase(x) : x번째 요소에 1을 더한다\n",
    "    - max counter : 리스트 중에서 가장 큰 숫자를 고른 후, 리스트 내 모든 요소를 해당 숫자로 바꾼다. \n",
    "- 만약 A 리스트의 값 x가 1보다 같거나 크고, N 보다 같거나 작다면 연산자는 increase(x)\n",
    "- 만약 A 리스트의 값 x가 N+1 과 같다면, 연산자는 max counter\n",
    "\n",
    "** M = len(A) = > 연산의 횟수 \n",
    "** N = 인자로 주어진 정수 = > 결과의 리스트 길이\n",
    "\n",
    "예시: \n",
    "solution(5, [3,4,4,6,1,4,4])\n",
    "\n",
    "풀이: \n",
    "<0단계>\n",
    "- N : 5\n",
    "- A : [3,4,4,6,1,4,4]\n",
    "\n",
    "- N개의 요소를 가진 리스트 정의 (모든 요소는 0으로 초기화)\n",
    "result = [0, 0, 0, 0, 0] \n",
    "\n",
    "<1단계>\n",
    "- 리스트 A의 1번째 요소 3 은 1<= 3 <= 5(N) 따라서, 연산자는 increase(3)\n",
    "- increase(3) => result의 3번째 요소 + 1 \n",
    "result = [0, 0, 1, 0, 0] \n",
    "\n",
    "<2단계> \n",
    "- 리스트 A의 2번째 요소 4는 1<= 4 <= 5(N) 따라서, 연산자는 increase(4)\n",
    "- increase(4) => result의 4번째 요소 + 1\n",
    "result = [0, 0, 1, 1, 0] \n",
    "\n",
    "<3단계> \n",
    "- 리스트 A의 3번째 요소 4는 1<= 4 <= 5(N) 따라서, 연산자는 increase(4)\n",
    "- increase(4) => result의 4번째 요소 + 1\n",
    "result = [0, 0, 1, 2, 0]  \n",
    "\n",
    "<4단계> \n",
    "- 리스트 A의 4번째 요소 6은 6 = 5(N) + 1 따라서, 연산자는 max counter\n",
    "- max counter => result 리스트 중에서 가장 큰 숫자를 고른 후, 리스트 내 모든 요소를 해당 숫자로 바꾼다. \n",
    "result = [2, 2, 2, 2, 2] \n",
    "\n",
    "...\n",
    "...\n",
    "...\n"
   ]
  },
  {
   "cell_type": "code",
   "execution_count": 3,
   "metadata": {
    "collapsed": true
   },
   "outputs": [],
   "source": [
    "def solution(N, A):\n",
    "    result = [0] * N # constant 1 \n",
    "    for i in A: # O(M) \n",
    "        if 1 <= i <= N: \n",
    "            result[i-1] += 1 \n",
    "        else: \n",
    "            result = [max(result)] * N # O(N)\n",
    "    return result\n",
    "            "
   ]
  },
  {
   "cell_type": "code",
   "execution_count": 6,
   "metadata": {},
   "outputs": [
    {
     "name": "stdout",
     "output_type": "stream",
     "text": [
      "[0, 0, 1, 0, 0] big 1 small 0\n",
      "[0, 0, 1, 1, 0] big 2 small 0\n",
      "[0, 0, 1, 2, 0] big 3 small 0\n",
      "[4, 3, 3, 3, 3] big 4 small 0\n",
      "[4, 3, 3, 4, 3] big 5 small 0\n",
      "[4, 3, 3, 5, 3] big 6 small 0\n"
     ]
    },
    {
     "data": {
      "text/plain": [
       "[4, 3, 3, 5, 3]"
      ]
     },
     "execution_count": 6,
     "metadata": {},
     "output_type": "execute_result"
    }
   ],
   "source": [
    "solution(5, [3,4,4,6,1,4,4])"
   ]
  },
  {
   "cell_type": "code",
   "execution_count": 3,
   "metadata": {},
   "outputs": [
    {
     "data": {
      "text/plain": [
       "6"
      ]
     },
     "execution_count": 3,
     "metadata": {},
     "output_type": "execute_result"
    }
   ],
   "source": [
    "max([3,4,4,6,1,4,4])"
   ]
  },
  {
   "cell_type": "code",
   "execution_count": 5,
   "metadata": {},
   "outputs": [
    {
     "data": {
      "text/plain": [
       "[6, 6, 6, 6, 6]"
      ]
     },
     "execution_count": 5,
     "metadata": {},
     "output_type": "execute_result"
    }
   ],
   "source": [
    "[max([3,4,4,6,1,4,4])] * 5"
   ]
  },
  {
   "cell_type": "code",
   "execution_count": 8,
   "metadata": {
    "collapsed": true
   },
   "outputs": [],
   "source": [
    "# 다른사람 풀이\n",
    "\n",
    "def solution(N, A):\n",
    "\n",
    "    counters = N * [0]\n",
    "    next_max_counter =  max_counter = 0\n",
    "    \n",
    "    for oper in A:\n",
    "        if oper <= N:\n",
    "            current_counter = counters[oper-1] = max(counters[oper-1] +1, max_counter+1)\n",
    "            next_max_counter = max(current_counter, next_max_counter)\n",
    "        else:\n",
    "            max_counter = next_max_counter\n",
    "            \n",
    "    return [c if c > max_counter else max_counter for c in counters]"
   ]
  },
  {
   "cell_type": "code",
   "execution_count": 9,
   "metadata": {},
   "outputs": [
    {
     "data": {
      "text/plain": [
       "[3, 2, 2, 4, 2]"
      ]
     },
     "execution_count": 9,
     "metadata": {},
     "output_type": "execute_result"
    }
   ],
   "source": [
    "solution(5, [3,4,4,6,1,4,4])"
   ]
  },
  {
   "cell_type": "code",
   "execution_count": 10,
   "metadata": {
    "collapsed": true
   },
   "outputs": [],
   "source": [
    "# 다른사람 풀이2\n",
    "\n",
    "def solution(n, arr):\n",
    "    out = [0] * n\n",
    "    m = 0\n",
    "    last = 0\n",
    "    for op in arr:\n",
    "        op -= 1 \n",
    "        if op == n:\n",
    "            last = m\n",
    "            continue\n",
    "        out[op] = max(out[op], last) + 1\n",
    "        m = max(m, out[op])\n",
    "    for i in xrange(n):\n",
    "        out[i] = max(out[i], last)\n",
    "    return out"
   ]
  },
  {
   "cell_type": "code",
   "execution_count": 7,
   "metadata": {
    "collapsed": true
   },
   "outputs": [],
   "source": [
    "v = [[1, 4], [3, 4], [3, 10]]"
   ]
  },
  {
   "cell_type": "code",
   "execution_count": 31,
   "metadata": {},
   "outputs": [
    {
     "name": "stdout",
     "output_type": "stream",
     "text": [
      "[1, 10]\n"
     ]
    }
   ],
   "source": [
    "v1 = []\n",
    "v2 = []\n",
    "for i in v:\n",
    "    if i[0] not in v1:\n",
    "        v1.append(i[0])\n",
    "    else: \n",
    "        v1.remove(i[0])\n",
    "    if i[1] not in v2:\n",
    "        v2.append(i[1])\n",
    "    else:\n",
    "        v2.remove(i[1])\n",
    "\n",
    "print(v1+v2)\n",
    "\n",
    "\n",
    "    "
   ]
  },
  {
   "cell_type": "code",
   "execution_count": 18,
   "metadata": {
    "collapsed": true
   },
   "outputs": [],
   "source": [
    "v1.append(3)"
   ]
  },
  {
   "cell_type": "code",
   "execution_count": 19,
   "metadata": {},
   "outputs": [
    {
     "data": {
      "text/plain": [
       "[3]"
      ]
     },
     "execution_count": 19,
     "metadata": {},
     "output_type": "execute_result"
    }
   ],
   "source": [
    "v1"
   ]
  },
  {
   "cell_type": "code",
   "execution_count": 21,
   "metadata": {},
   "outputs": [
    {
     "data": {
      "text/plain": [
       "True"
      ]
     },
     "execution_count": 21,
     "metadata": {},
     "output_type": "execute_result"
    }
   ],
   "source": [
    "3 in v1"
   ]
  },
  {
   "cell_type": "code",
   "execution_count": 27,
   "metadata": {
    "collapsed": true
   },
   "outputs": [],
   "source": [
    "v1.remove(1)"
   ]
  },
  {
   "cell_type": "code",
   "execution_count": 1,
   "metadata": {},
   "outputs": [],
   "source": [
    "a = b = 9"
   ]
  },
  {
   "cell_type": "code",
   "execution_count": 2,
   "metadata": {},
   "outputs": [
    {
     "data": {
      "text/plain": [
       "9"
      ]
     },
     "execution_count": 2,
     "metadata": {},
     "output_type": "execute_result"
    }
   ],
   "source": [
    "b"
   ]
  },
  {
   "cell_type": "code",
   "execution_count": 3,
   "metadata": {},
   "outputs": [
    {
     "data": {
      "text/plain": [
       "9"
      ]
     },
     "execution_count": 3,
     "metadata": {},
     "output_type": "execute_result"
    }
   ],
   "source": [
    "a"
   ]
  },
  {
   "cell_type": "code",
   "execution_count": null,
   "metadata": {
    "collapsed": true
   },
   "outputs": [],
   "source": []
  }
 ],
 "metadata": {
  "kernelspec": {
   "display_name": "Python 3",
   "language": "python",
   "name": "python3"
  },
  "language_info": {
   "codemirror_mode": {
    "name": "ipython",
    "version": 3
   },
   "file_extension": ".py",
   "mimetype": "text/x-python",
   "name": "python",
   "nbconvert_exporter": "python",
   "pygments_lexer": "ipython3",
   "version": "3.6.0"
  }
 },
 "nbformat": 4,
 "nbformat_minor": 2
}
