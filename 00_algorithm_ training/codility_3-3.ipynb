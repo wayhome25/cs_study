{
 "cells": [
  {
   "cell_type": "code",
   "execution_count": 16,
   "metadata": {
    "collapsed": true
   },
   "outputs": [],
   "source": [
    "# Detected time complexity: O(N * N)\n",
    "\n",
    "def solution(A):\n",
    "    li = []\n",
    "    for P in range(1,len(A)):\n",
    "        sum1 = sum(A[:P]) # O(N^2)\n",
    "        sum2 = sum(A[P:])\n",
    "        diff = sum1 - sum2 if sum1 >= sum2 else sum2 - sum1\n",
    "        li.append(diff)\n",
    "    return min(li)"
   ]
  },
  {
   "cell_type": "code",
   "execution_count": 9,
   "metadata": {},
   "outputs": [
    {
     "data": {
      "text/plain": [
       "1"
      ]
     },
     "execution_count": 9,
     "metadata": {},
     "output_type": "execute_result"
    }
   ],
   "source": [
    "solution([3,1,2,4,3])"
   ]
  },
  {
   "cell_type": "code",
   "execution_count": 10,
   "metadata": {
    "collapsed": true
   },
   "outputs": [],
   "source": [
    "def solution(A):\n",
    "    li = 0\n",
    "    for P in range(1,len(A)):\n",
    "        sum1 = sum(A[:P])\n",
    "        sum2 = sum(A[P:])\n",
    "        diff = sum1 - sum2\n",
    "        diff = diff if diff >= 0 else diff * -1\n",
    "        if P == 1:\n",
    "            li = diff\n",
    "        elif li > diff:\n",
    "            li = diff\n",
    "        \n",
    "    return li"
   ]
  },
  {
   "cell_type": "code",
   "execution_count": 13,
   "metadata": {},
   "outputs": [
    {
     "data": {
      "text/plain": [
       "20"
      ]
     },
     "execution_count": 13,
     "metadata": {},
     "output_type": "execute_result"
    }
   ],
   "source": [
    "solution([-10, 10])"
   ]
  },
  {
   "cell_type": "code",
   "execution_count": 17,
   "metadata": {
    "collapsed": true
   },
   "outputs": [],
   "source": [
    "def solution(A):\n",
    "    sum_of_part_one = 0\n",
    "    sum_of_part_two = sum(A)\n",
    "    min_difference = None\n",
    "    \n",
    "    for i in range(1, len(A)):\n",
    "        sum_of_part_one += A[i-1]\n",
    "        sum_of_part_two -= A[i-1]\n",
    "        difference = abs(sum_of_part_one - sum_of_part_two)\n",
    "        \n",
    "        if min_difference == None:\n",
    "            min_difference = difference\n",
    "        else:\n",
    "            min_difference = min(min_difference, difference)\n",
    "\n",
    "    return min_difference"
   ]
  },
  {
   "cell_type": "code",
   "execution_count": null,
   "metadata": {
    "collapsed": true
   },
   "outputs": [],
   "source": []
  }
 ],
 "metadata": {
  "kernelspec": {
   "display_name": "Python 3",
   "language": "python",
   "name": "python3"
  },
  "language_info": {
   "codemirror_mode": {
    "name": "ipython",
    "version": 3
   },
   "file_extension": ".py",
   "mimetype": "text/x-python",
   "name": "python",
   "nbconvert_exporter": "python",
   "pygments_lexer": "ipython3",
   "version": "3.6.0"
  }
 },
 "nbformat": 4,
 "nbformat_minor": 2
}
