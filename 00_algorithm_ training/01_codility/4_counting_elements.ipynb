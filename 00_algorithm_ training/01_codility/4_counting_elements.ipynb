{
 "cells": [
  {
   "cell_type": "code",
   "execution_count": 2,
   "metadata": {},
   "outputs": [
    {
     "data": {
      "text/plain": [
       "[2, 0, 1, 0, 2, 1]"
      ]
     },
     "execution_count": 2,
     "metadata": {},
     "output_type": "execute_result"
    }
   ],
   "source": [
    "# counting elements - O(n + m)\n",
    "# 리스트 A 의 모든 요소는 set {0, 1 ... m} 사이에 존재 \n",
    "\n",
    "def counting(A, m):\n",
    "    n = len(A)\n",
    "    count = [0] * (m + 1)\n",
    "    for i in range(n):\n",
    "        count[A[i]] += 1\n",
    "    return count \n",
    "\n",
    "counting([0,0,4,2,4,5], 5)"
   ]
  }
 ],
 "metadata": {
  "kernelspec": {
   "display_name": "Python 3",
   "language": "python",
   "name": "python3"
  },
  "language_info": {
   "codemirror_mode": {
    "name": "ipython",
    "version": 3
   },
   "file_extension": ".py",
   "mimetype": "text/x-python",
   "name": "python",
   "nbconvert_exporter": "python",
   "pygments_lexer": "ipython3",
   "version": "3.5.3"
  }
 },
 "nbformat": 4,
 "nbformat_minor": 2
}
