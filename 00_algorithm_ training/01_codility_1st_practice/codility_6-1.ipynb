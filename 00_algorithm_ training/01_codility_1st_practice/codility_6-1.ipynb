{
 "cells": [
  {
   "cell_type": "code",
   "execution_count": null,
   "metadata": {
    "collapsed": true
   },
   "outputs": [],
   "source": [
    "'''\n",
    "Write a function\n",
    "\n",
    "def solution(A)\n",
    "\n",
    "that, given a zero-indexed array A consisting of N integers, returns the number of distinct values in array A.\n",
    "\n",
    "Assume that:\n",
    "\n",
    "N is an integer within the range [0..100,000];\n",
    "each element of array A is an integer within the range [−1,000,000..1,000,000].\n",
    "For example, given array A consisting of six elements such that:\n",
    "\n",
    " A[0] = 2    A[1] = 1    A[2] = 1\n",
    " A[3] = 2    A[4] = 3    A[5] = 1\n",
    "the function should return 3, because there are 3 distinct values appearing in array A, namely 1, 2 and 3.\n",
    "\n",
    "Complexity:\n",
    "\n",
    "expected worst-case time complexity is O(N*log(N));\n",
    "expected worst-case space complexity is O(N), beyond input storage \n",
    "(not counting the storage required for input arguments).'''"
   ]
  },
  {
   "cell_type": "code",
   "execution_count": 24,
   "metadata": {},
   "outputs": [
    {
     "name": "stdout",
     "output_type": "stream",
     "text": [
      "3\n",
      "3\n"
     ]
    }
   ],
   "source": [
    "# 풀이 1\n",
    "# 시간복잡도 : O(N^2)\n",
    "def solution(A):\n",
    "    distinct_list = []\n",
    "    while A:\n",
    "        i = A[0]\n",
    "        A = [x for x in A if x != i]\n",
    "        distinct_list.append(i)\n",
    "    return len(distinct_list)\n",
    "\n",
    "if __name__ == \"__main__\":\n",
    "    result1 = solution([2,1,1,2,3,1])\n",
    "    result2 = solution([1,2,3])\n",
    "    print(result1)\n",
    "    print(result2)\n",
    "    \n",
    "    "
   ]
  },
  {
   "cell_type": "code",
   "execution_count": 11,
   "metadata": {
    "collapsed": true
   },
   "outputs": [],
   "source": [
    "# 풀이 2 \n",
    "# 시간복잡도 : O(NlogN)\n",
    "def solution(A):\n",
    "    return len(set(A))\n"
   ]
  },
  {
   "cell_type": "code",
   "execution_count": null,
   "metadata": {
    "collapsed": true
   },
   "outputs": [],
   "source": [
    "# 풀이 3\n",
    "# 시간복잡도 : O(N^2)\n",
    "def solution(A):\n",
    "    distinct_list = []\n",
    "    for i in A:\n",
    "        if i not in distinct_list:\n",
    "            distinct_list.append(i)\n",
    "    return len(distinct_list)\n",
    "\n",
    "        \n",
    "    "
   ]
  },
  {
   "cell_type": "code",
   "execution_count": 43,
   "metadata": {},
   "outputs": [
    {
     "data": {
      "text/plain": [
       "3"
      ]
     },
     "execution_count": 43,
     "metadata": {},
     "output_type": "execute_result"
    }
   ],
   "source": [
    "# 풀이 4 \n",
    "# 시간복잡도 : O(N*log(N)) or O(N)\n",
    "def solution(A):\n",
    "    distinct_dict = {}\n",
    "    for i in A:\n",
    "        distinct_dict[i] = 0\n",
    "    return len(distinct_dict)\n",
    "        \n",
    "\n",
    "solution([2, 1, 1, 2, 3, 1])\n",
    "            \n",
    "        "
   ]
  },
  {
   "cell_type": "code",
   "execution_count": 45,
   "metadata": {},
   "outputs": [
    {
     "data": {
      "text/plain": [
       "3"
      ]
     },
     "execution_count": 45,
     "metadata": {},
     "output_type": "execute_result"
    }
   ],
   "source": [
    "# 풀이5\n",
    "# 시간복잡도 : O(N*log(N)) or O(N)\n",
    "def solution(A):\n",
    "    A.sort()\n",
    "    if len(A) == 0:\n",
    "        return 0\n",
    "    elif len(A) == 1:\n",
    "        return 1\n",
    "    elif len(A) >= 2:\n",
    "        count = 1\n",
    "        for i in range(len(A)-1):\n",
    "            if A[i] != A[i+1]:\n",
    "                 count += 1\n",
    "    return count\n",
    "\n",
    "solution([2, 1, 1, 2, 3, 1])"
   ]
  },
  {
   "cell_type": "code",
   "execution_count": null,
   "metadata": {
    "collapsed": true
   },
   "outputs": [],
   "source": []
  }
 ],
 "metadata": {
  "kernelspec": {
   "display_name": "Python 3",
   "language": "python",
   "name": "python3"
  },
  "language_info": {
   "codemirror_mode": {
    "name": "ipython",
    "version": 3
   },
   "file_extension": ".py",
   "mimetype": "text/x-python",
   "name": "python",
   "nbconvert_exporter": "python",
   "pygments_lexer": "ipython3",
   "version": "3.5.3"
  }
 },
 "nbformat": 4,
 "nbformat_minor": 2
}
