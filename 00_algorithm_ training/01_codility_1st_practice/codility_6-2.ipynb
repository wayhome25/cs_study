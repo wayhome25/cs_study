{
 "cells": [
  {
   "cell_type": "code",
   "execution_count": null,
   "metadata": {
    "collapsed": true
   },
   "outputs": [],
   "source": [
    "'''\n",
    "A zero-indexed array A consisting of N integers is given. \n",
    "A triplet (P, Q, R) is triangular if 0 ≤ P < Q < R < N and:\n",
    "\n",
    "A[P] + A[Q] > A[R],\n",
    "A[Q] + A[R] > A[P],\n",
    "A[R] + A[P] > A[Q].\n",
    "For example, consider array A such that:\n",
    "\n",
    "  A[0] = 10    A[1] = 2    A[2] = 5\n",
    "  A[3] = 1     A[4] = 8    A[5] = 20\n",
    "Triplet (0, 2, 4) is triangular.\n",
    "\n",
    "Write a function:\n",
    "\n",
    "def solution(A)\n",
    "\n",
    "that, given a zero-indexed array A consisting of N integers, \n",
    "returns 1 if there exists a triangular triplet for this array \n",
    "and returns 0 otherwise.\n",
    "\n",
    "For example, given array A such that:\n",
    "\n",
    "  A[0] = 10    A[1] = 2    A[2] = 5\n",
    "  A[3] = 1     A[4] = 8    A[5] = 20\n",
    "  \n",
    "the function should return 1, as explained above. \n",
    "Given array A such that:\n",
    "\n",
    "  A[0] = 10    A[1] = 50    A[2] = 5\n",
    "  A[3] = 1\n",
    "the function should return 0.\n",
    "\n",
    "Assume that:\n",
    "\n",
    "N is an integer within the range [0..100,000];\n",
    "each element of array A is an integer within the range [−2,147,483,648..2,147,483,647].\n",
    "Complexity:\n",
    "\n",
    "expected worst-case time complexity is O(N*log(N));\n",
    "expected worst-case space complexity is O(N), \n",
    "beyond input storage (not counting the storage required for input arguments).'''"
   ]
  },
  {
   "cell_type": "code",
   "execution_count": 9,
   "metadata": {},
   "outputs": [
    {
     "name": "stdout",
     "output_type": "stream",
     "text": [
      "0\n",
      "0\n",
      "1\n"
     ]
    }
   ],
   "source": [
    "# 풀이 \n",
    "# 시간복잡도 : O(N*log(N))\n",
    "\n",
    "def solution(A):\n",
    "    if len(A) < 3: \n",
    "        return 0\n",
    "    elif len(A) == 3:\n",
    "        A.sort()\n",
    "        if A[0] + A[1] > A[2]:\n",
    "            return 1\n",
    "        return 0\n",
    "    else:\n",
    "        A.sort()\n",
    "        for i in range(len(A)-2):\n",
    "            if A[i]+A[i+1] > A[i+2]:\n",
    "                return 1\n",
    "        return 0\n",
    "\n",
    "if __name__ == '__main__':\n",
    "    result1 = solution([1,3])\n",
    "    result2 = solution([1,2,3])\n",
    "    result3 = solution([1,2,3,4])\n",
    "    print(result1)\n",
    "    print(result2)\n",
    "    print(result3)    \n",
    "    \n",
    "        "
   ]
  },
  {
   "cell_type": "code",
   "execution_count": null,
   "metadata": {
    "collapsed": true
   },
   "outputs": [],
   "source": []
  }
 ],
 "metadata": {
  "kernelspec": {
   "display_name": "Python 3",
   "language": "python",
   "name": "python3"
  },
  "language_info": {
   "codemirror_mode": {
    "name": "ipython",
    "version": 3
   },
   "file_extension": ".py",
   "mimetype": "text/x-python",
   "name": "python",
   "nbconvert_exporter": "python",
   "pygments_lexer": "ipython3",
   "version": "3.5.3"
  }
 },
 "nbformat": 4,
 "nbformat_minor": 2
}
