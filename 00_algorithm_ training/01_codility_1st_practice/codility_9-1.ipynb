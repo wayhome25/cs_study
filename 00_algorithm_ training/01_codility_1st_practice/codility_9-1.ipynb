{
 "cells": [
  {
   "cell_type": "code",
   "execution_count": 39,
   "metadata": {},
   "outputs": [],
   "source": [
    "# 풀이 - 이 정도 풀이라도 이해하고 활용할 수 있도록 하자! \n",
    "# 시간복잡도 : O(n^2)\n",
    "\n",
    "def solution(A):\n",
    "    if len(A) < 2:\n",
    "        return 0\n",
    "    result = 0\n",
    "    for i in range(len(A)):\n",
    "        for j in range(i, len(A)):\n",
    "            profit_check = -(A[i] - A[j])\n",
    "            result = max(result, profit_check)\n",
    "    return result\n",
    "\n",
    "if __name__ == \"__main__\":\n",
    "    assert solution([23171, 21011, 21123, 21366, 21013, 21367]) == 356\n",
    "    assert solution([10, 11, 12, 13, 14, 15]) == 5\n",
    "    \n",
    "        "
   ]
  },
  {
   "cell_type": "code",
   "execution_count": 33,
   "metadata": {},
   "outputs": [
    {
     "data": {
      "text/plain": [
       "356"
      ]
     },
     "execution_count": 33,
     "metadata": {},
     "output_type": "execute_result"
    }
   ],
   "source": [
    "solution([23171, 21011, 21123, 21366, 21013, 21367])"
   ]
  },
  {
   "cell_type": "code",
   "execution_count": 31,
   "metadata": {},
   "outputs": [
    {
     "data": {
      "text/plain": [
       "5"
      ]
     },
     "execution_count": 31,
     "metadata": {},
     "output_type": "execute_result"
    }
   ],
   "source": [
    "solution([10, 11, 12, 13, 14, 15])"
   ]
  },
  {
   "cell_type": "code",
   "execution_count": null,
   "metadata": {
    "collapsed": true
   },
   "outputs": [],
   "source": [
    "# 다른사람 풀이 100%\n",
    "\n",
    "def solution(A):\n",
    "    max_ending = max_slice = 0\n",
    "    for i in xrange(1, len(A)):\n",
    "        max_ending = max(0, max_ending + A[i] - A[i - 1])\n",
    "        max_slice = max(max_slice, max_ending)\n",
    "    return max_slice"
   ]
  },
  {
   "cell_type": "code",
   "execution_count": null,
   "metadata": {
    "collapsed": true
   },
   "outputs": [],
   "source": [
    "# 다른사람 풀이 100%\n",
    "\n",
    "def solution(A):\n",
    "    days = len(A)\n",
    "\n",
    "    # If the number of days is zero or one, there\n",
    "    # is no time to get profit.\n",
    "    if days < 2:\n",
    "        return 0\n",
    "\n",
    "    max_price_from_here = A[days-1]\n",
    "    max_profit = 0\n",
    "    for index in xrange(days-2, -1, -1):\n",
    "        # max_price_from_here-A[index] means the maximum\n",
    "        # profit from current day to end.\n",
    "        max_profit = max(max_profit, max_price_from_here-A[index])\n",
    "        max_price_from_here = max(A[index], max_price_from_here)\n",
    "\n",
    "    return max_profit"
   ]
  }
 ],
 "metadata": {
  "kernelspec": {
   "display_name": "Python 3",
   "language": "python",
   "name": "python3"
  },
  "language_info": {
   "codemirror_mode": {
    "name": "ipython",
    "version": 3
   },
   "file_extension": ".py",
   "mimetype": "text/x-python",
   "name": "python",
   "nbconvert_exporter": "python",
   "pygments_lexer": "ipython3",
   "version": "3.5.3"
  }
 },
 "nbformat": 4,
 "nbformat_minor": 2
}
