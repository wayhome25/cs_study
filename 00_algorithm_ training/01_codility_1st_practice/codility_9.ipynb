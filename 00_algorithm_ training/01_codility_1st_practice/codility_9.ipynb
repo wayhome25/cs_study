{
 "cells": [
  {
   "cell_type": "code",
   "execution_count": 3,
   "metadata": {},
   "outputs": [
    {
     "name": "stdout",
     "output_type": "stream",
     "text": [
      "[5, -2, 1, 6, 4, 8, -7, -4, 1, -1, 3, 3, 8, 6, 10, 5, 3, 7, -2, 2, 4]\n",
      "10\n"
     ]
    }
   ],
   "source": [
    "# 풀이 - O(n^3)\n",
    "def solution(A):\n",
    "    sum_li = []\n",
    "    for i in range(len(A)):\n",
    "        for j in range(i+1, len(A)):\n",
    "            sum_li.append(sum(A[i:j]))\n",
    "    print(sum_li)\n",
    "    return max(sum_li)\n",
    "\n",
    "if __name__ == \"__main__\":\n",
    "    print(solution([5, -7, 3, 5, -2, 4, -1]))"
   ]
  },
  {
   "cell_type": "code",
   "execution_count": 5,
   "metadata": {},
   "outputs": [
    {
     "name": "stdout",
     "output_type": "stream",
     "text": [
      "10\n"
     ]
    }
   ],
   "source": [
    "# 풀이 - O(n^2) - 이정도 풀이방식은 사용할 수 있도록 하자!\n",
    "\n",
    "def solution(A):\n",
    "    n = len(A) \n",
    "    result = 0\n",
    "    for i in range(n):\n",
    "        sum_check = 0\n",
    "        for j in range(i, n):\n",
    "            sum_check += A[j]\n",
    "            result = max(result, sum_check)\n",
    "    return result\n",
    "\n",
    "if __name__ == \"__main__\":\n",
    "    print(solution([5, -7, 3, 5, -2, 4, -1]))    "
   ]
  },
  {
   "cell_type": "code",
   "execution_count": null,
   "metadata": {
    "collapsed": true
   },
   "outputs": [],
   "source": [
    "# 풀이 - O(n)\n",
    "\n",
    "def solution(A):\n",
    "    max_ending = 0\n",
    "    max_slice = 0\n",
    "    for i in A:\n",
    "        max_ending = max(0, max_ending + i)\n",
    "        max_slice = max(max_slice, max_ending)\n",
    "    return max_slice \n"
   ]
  },
  {
   "cell_type": "code",
   "execution_count": 6,
   "metadata": {
    "collapsed": true
   },
   "outputs": [],
   "source": [
    "a = b = 0"
   ]
  },
  {
   "cell_type": "code",
   "execution_count": 7,
   "metadata": {},
   "outputs": [
    {
     "data": {
      "text/plain": [
       "0"
      ]
     },
     "execution_count": 7,
     "metadata": {},
     "output_type": "execute_result"
    }
   ],
   "source": [
    "a"
   ]
  },
  {
   "cell_type": "code",
   "execution_count": 8,
   "metadata": {},
   "outputs": [
    {
     "data": {
      "text/plain": [
       "0"
      ]
     },
     "execution_count": 8,
     "metadata": {},
     "output_type": "execute_result"
    }
   ],
   "source": [
    "b"
   ]
  },
  {
   "cell_type": "code",
   "execution_count": null,
   "metadata": {
    "collapsed": true
   },
   "outputs": [],
   "source": []
  }
 ],
 "metadata": {
  "kernelspec": {
   "display_name": "Python 3",
   "language": "python",
   "name": "python3"
  },
  "language_info": {
   "codemirror_mode": {
    "name": "ipython",
    "version": 3
   },
   "file_extension": ".py",
   "mimetype": "text/x-python",
   "name": "python",
   "nbconvert_exporter": "python",
   "pygments_lexer": "ipython3",
   "version": "3.5.3"
  }
 },
 "nbformat": 4,
 "nbformat_minor": 2
}
