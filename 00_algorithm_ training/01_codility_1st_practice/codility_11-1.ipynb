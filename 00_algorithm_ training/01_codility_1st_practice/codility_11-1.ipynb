{
 "cells": [
  {
   "cell_type": "code",
   "execution_count": null,
   "metadata": {
    "collapsed": true
   },
   "outputs": [],
   "source": [
    "#  CountSemiprimes\n",
    "'''\n",
    "A prime is a positive integer X that has exactly two distinct divisors: 1 and X. The first few prime integers are 2, 3, 5, 7, 11 and 13.\n",
    "\n",
    "A semiprime is a natural number that is the product of two (not necessarily distinct) prime numbers. The first few semiprimes are 4, 6, 9, 10, 14, 15, 21, 22, 25, 26.\n",
    "\n",
    "You are given two non-empty zero-indexed arrays P and Q, each consisting of M integers. These arrays represent queries about the number of semiprimes within specified ranges.\n",
    "\n",
    "Query K requires you to find the number of semiprimes within the range (P[K], Q[K]), where 1 ≤ P[K] ≤ Q[K] ≤ N.\n",
    "\n",
    "For example, consider an integer N = 26 and arrays P, Q such that:\n",
    "\n",
    "    P[0] = 1    Q[0] = 26\n",
    "    P[1] = 4    Q[1] = 10\n",
    "    P[2] = 16   Q[2] = 20\n",
    "The number of semiprimes within each of these ranges is as follows:\n",
    "\n",
    "(1, 26) is 10,\n",
    "(4, 10) is 4,\n",
    "(16, 20) is 0.\n",
    "Write a function:\n",
    "\n",
    "def solution(N, P, Q)\n",
    "\n",
    "that, given an integer N and two non-empty zero-indexed arrays P and Q consisting of M integers, returns an array consisting of M elements specifying the consecutive answers to all the queries.\n",
    "\n",
    "For example, given an integer N = 26 and arrays P, Q such that:\n",
    "\n",
    "    P[0] = 1    Q[0] = 26\n",
    "    P[1] = 4    Q[1] = 10\n",
    "    P[2] = 16   Q[2] = 20\n",
    "the function should return the values [10, 4, 0], as explained above.\n",
    "\n",
    "Assume that:\n",
    "\n",
    "N is an integer within the range [1..50,000];\n",
    "M is an integer within the range [1..30,000];\n",
    "each element of arrays P, Q is an integer within the range [1..N];\n",
    "P[i] ≤ Q[i].\n",
    "Complexity:\n",
    "\n",
    "expected worst-case time complexity is O(N*log(log(N))+M);\n",
    "expected worst-case space complexity is O(N+M), beyond input storage (not counting the storage required for input arguments).\n",
    "\n",
    "'''"
   ]
  },
  {
   "cell_type": "code",
   "execution_count": 39,
   "metadata": {
    "collapsed": true
   },
   "outputs": [],
   "source": [
    "# 풀이 시간복잡도 : O(N * log(log(N)) + M * N) or O(M * N ** (3/2))\n",
    "# judge prime number \n",
    "def primality(n):\n",
    "    if n == 1:\n",
    "        return False\n",
    "    i = 2\n",
    "    while i * i <= n:\n",
    "        if n % i == 0:\n",
    "            return False\n",
    "        i += 1\n",
    "    return True\n",
    "\n",
    "\n",
    "def solution(N, P, Q):\n",
    "    result = []\n",
    "\n",
    "    for p, q in zip(P,Q):\n",
    "        count = 0\n",
    "        for x in range(p, q+1):\n",
    "            if primality(x):\n",
    "                continue\n",
    "            i = 2\n",
    "            while i * i <= x:\n",
    "                if x % i == 0 and primality(i) and primality(x // i):\n",
    "                    count += 1\n",
    "                i += 1\n",
    "        result.append(count)\n",
    "             \n",
    "    return result         "
   ]
  },
  {
   "cell_type": "code",
   "execution_count": 40,
   "metadata": {},
   "outputs": [
    {
     "name": "stdout",
     "output_type": "stream",
     "text": [
      "1 26\n",
      "소수다 2\n",
      "소수다 3\n",
      "찾았다 2 2\n",
      "소수다 5\n",
      "찾았다 2 3\n",
      "소수다 7\n",
      "찾았다 3 3\n",
      "찾았다 2 5\n",
      "소수다 11\n",
      "소수다 13\n",
      "찾았다 2 7\n",
      "찾았다 3 5\n",
      "소수다 17\n",
      "소수다 19\n",
      "찾았다 3 7\n",
      "찾았다 2 11\n",
      "소수다 23\n",
      "찾았다 5 5\n",
      "찾았다 2 13\n",
      "4 10\n",
      "찾았다 2 2\n",
      "소수다 5\n",
      "찾았다 2 3\n",
      "소수다 7\n",
      "찾았다 3 3\n",
      "찾았다 2 5\n",
      "16 20\n",
      "소수다 17\n",
      "소수다 19\n"
     ]
    },
    {
     "data": {
      "text/plain": [
       "[10, 4, 0]"
      ]
     },
     "execution_count": 40,
     "metadata": {},
     "output_type": "execute_result"
    }
   ],
   "source": [
    "solution(26, [1,4,16], [26,10,20])"
   ]
  },
  {
   "cell_type": "code",
   "execution_count": 32,
   "metadata": {},
   "outputs": [
    {
     "data": {
      "text/plain": [
       "True"
      ]
     },
     "execution_count": 32,
     "metadata": {},
     "output_type": "execute_result"
    }
   ],
   "source": [
    "primality(2)"
   ]
  },
  {
   "cell_type": "code",
   "execution_count": null,
   "metadata": {
    "collapsed": true
   },
   "outputs": [],
   "source": []
  },
  {
   "cell_type": "code",
   "execution_count": null,
   "metadata": {
    "collapsed": true
   },
   "outputs": [],
   "source": []
  }
 ],
 "metadata": {
  "kernelspec": {
   "display_name": "Python 3",
   "language": "python",
   "name": "python3"
  },
  "language_info": {
   "codemirror_mode": {
    "name": "ipython",
    "version": 3
   },
   "file_extension": ".py",
   "mimetype": "text/x-python",
   "name": "python",
   "nbconvert_exporter": "python",
   "pygments_lexer": "ipython3",
   "version": "3.5.3"
  }
 },
 "nbformat": 4,
 "nbformat_minor": 2
}
