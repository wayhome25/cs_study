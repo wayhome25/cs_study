{
 "cells": [
  {
   "cell_type": "code",
   "execution_count": null,
   "metadata": {
    "collapsed": true
   },
   "outputs": [],
   "source": [
    "'''\n",
    "A zero-indexed array A consisting of N integers is given. An equilibrium index of this array is any integer P such that 0 ≤ P < N and the sum of elements of lower indices is equal to the sum of elements of higher indices, i.e. \n",
    "A[0] + A[1] + ... + A[P−1] = A[P+1] + ... + A[N−2] + A[N−1].\n",
    "Sum of zero elements is assumed to be equal to 0. This can happen if P = 0 or if P = N−1.\n",
    "\n",
    "For example, consider the following array A consisting of N = 8 elements:\n",
    "\n",
    "  A[0] = -1\n",
    "  A[1] =  3\n",
    "  A[2] = -4\n",
    "  A[3] =  5\n",
    "  A[4] =  1\n",
    "  A[5] = -6\n",
    "  A[6] =  2\n",
    "  A[7] =  1\n",
    "P = 1 is an equilibrium index of this array, because:\n",
    "\n",
    "A[0] = −1 = A[2] + A[3] + A[4] + A[5] + A[6] + A[7]\n",
    "P = 3 is an equilibrium index of this array, because:\n",
    "\n",
    "A[0] + A[1] + A[2] = −2 = A[4] + A[5] + A[6] + A[7]\n",
    "P = 7 is also an equilibrium index, because:\n",
    "\n",
    "A[0] + A[1] + A[2] + A[3] + A[4] + A[5] + A[6] = 0\n",
    "and there are no elements with indices greater than 7.\n",
    "\n",
    "P = 8 is not an equilibrium index, because it does not fulfill the condition 0 ≤ P < N.\n",
    "\n",
    "Write a function:\n",
    "\n",
    "def solution(A)\n",
    "\n",
    "that, given a zero-indexed array A consisting of N integers, returns any of its equilibrium indices. The function should return −1 if no equilibrium index exists.\n",
    "\n",
    "For example, given array A shown above, the function may return 1, 3 or 7, as explained above.\n",
    "\n",
    "Assume that:\n",
    "\n",
    "N is an integer within the range [0..100,000];\n",
    "each element of array A is an integer within the range [−2,147,483,648..2,147,483,647].\n",
    "Complexity:\n",
    "\n",
    "expected worst-case time complexity is O(N);\n",
    "expected worst-case space complexity is O(N), beyond input storage (not counting the storage required for input arguments).'''"
   ]
  },
  {
   "cell_type": "code",
   "execution_count": 39,
   "metadata": {},
   "outputs": [
    {
     "name": "stdout",
     "output_type": "stream",
     "text": [
      "1\n",
      "-1\n"
     ]
    }
   ],
   "source": [
    "# 풀이\n",
    "# 시간복잡도 : O(N**2) \n",
    "# for 문과 슬라이싱을 통한 sum 의 중첩으로 N**2\n",
    "def solution(A):\n",
    "    if len(A) == 0:\n",
    "        return -1\n",
    "    elif A == [0]:\n",
    "        return 0\n",
    "    elif len(A) == 2 and A.count(0) == 1:\n",
    "        return 1 - A.index(0)\n",
    "    else :\n",
    "        for p in range(len(A)):\n",
    "            if sum(A[:p]) == sum(A[p+1:]):\n",
    "                return p\n",
    "    return -1\n",
    "\n",
    "if __name__ == \"__main__\":\n",
    "    result1 = solution([-1,3,-4,5,1,-6,2,1])\n",
    "    result2 = solution([])\n",
    "    print(result1)\n",
    "    print(result2)"
   ]
  },
  {
   "cell_type": "code",
   "execution_count": 38,
   "metadata": {},
   "outputs": [
    {
     "name": "stdout",
     "output_type": "stream",
     "text": [
      "1\n",
      "-1\n"
     ]
    }
   ],
   "source": [
    "# 풀이 2\n",
    "# 시간 복잡도 : O(N)\n",
    "# sum(A) 를 통해서 O(N)으로 함계를 구하고 하나씩 더하고 빼나가며 구해가는 방식! \n",
    "# sum_left, sum_right를 미리 정해놓을 생각을 하다니!\n",
    "def solution(A):\n",
    "    sum_left = 0\n",
    "    sum_right = sum(A)\n",
    "    \n",
    "    for idx, val in enumerate(A):\n",
    "        sum_right -= val\n",
    "        if sum_left == sum_right: \n",
    "            return idx\n",
    "        sum_left += val\n",
    "    return -1\n",
    "\n",
    "if __name__ == \"__main__\":\n",
    "    result1 = solution([-1,3,-4,5,1,-6,2,1])\n",
    "    result2 = solution([])\n",
    "    print(result1)\n",
    "    print(result2)"
   ]
  },
  {
   "cell_type": "code",
   "execution_count": null,
   "metadata": {
    "collapsed": true
   },
   "outputs": [],
   "source": []
  }
 ],
 "metadata": {
  "kernelspec": {
   "display_name": "Python 3",
   "language": "python",
   "name": "python3"
  },
  "language_info": {
   "codemirror_mode": {
    "name": "ipython",
    "version": 3
   },
   "file_extension": ".py",
   "mimetype": "text/x-python",
   "name": "python",
   "nbconvert_exporter": "python",
   "pygments_lexer": "ipython3",
   "version": "3.5.3"
  }
 },
 "nbformat": 4,
 "nbformat_minor": 2
}
