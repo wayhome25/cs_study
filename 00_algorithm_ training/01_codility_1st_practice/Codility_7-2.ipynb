{
 "cells": [
  {
   "cell_type": "code",
   "execution_count": null,
   "metadata": {
    "collapsed": true
   },
   "outputs": [],
   "source": [
    "# 풀이\n",
    "# 시간복잡도 : O(N)\n",
    "\n",
    "def solution(S):\n",
    "    if len(S) == 0:\n",
    "        return 1\n",
    "    stack = []\n",
    "    for i in S:\n",
    "        if stack == [] and i == \")\":\n",
    "            return 0\n",
    "        if i == \"(\":\n",
    "            stack.append(i)\n",
    "        elif i == \")\":\n",
    "            if stack[-1] == \"(\":\n",
    "                stack.pop()\n",
    "            else:\n",
    "                stack.append(i)\n",
    "    return 1 if len(stack) == 0 else 0\n"
   ]
  }
 ],
 "metadata": {
  "kernelspec": {
   "display_name": "Python 3",
   "language": "python",
   "name": "python3"
  },
  "language_info": {
   "codemirror_mode": {
    "name": "ipython",
    "version": 3
   },
   "file_extension": ".py",
   "mimetype": "text/x-python",
   "name": "python",
   "nbconvert_exporter": "python",
   "pygments_lexer": "ipython3",
   "version": "3.5.3"
  }
 },
 "nbformat": 4,
 "nbformat_minor": 2
}
