{
 "cells": [
  {
   "cell_type": "code",
   "execution_count": 1,
   "metadata": {
    "collapsed": true
   },
   "outputs": [],
   "source": [
    "#  Equi\n",
    "def solution(A):\n",
    "    sum_right = sum(A)\n",
    "    sum_left = 0\n",
    "    for p in range(len(A)):\n",
    "        if p == 0:\n",
    "            sum_right -= A[p]\n",
    "        else: \n",
    "            sum_left += A[p-1]\n",
    "            sum_right -= A[p]\n",
    "        if sum_left == sum_right:\n",
    "            return p\n",
    "    return -1"
   ]
  },
  {
   "cell_type": "code",
   "execution_count": null,
   "metadata": {
    "collapsed": true
   },
   "outputs": [],
   "source": [
    "# \n",
    "def solution(A):\n",
    "    if len(A) < 3:\n",
    "        return -1 \n",
    "    li = [] \n",
    "    for i in range(len(A)-1):\n",
    "        if A[i] > A[i+1]:\n",
    "            li.append(i)\n",
    "        \n",
    "        \n",
    "            \n",
    "            "
   ]
  },
  {
   "cell_type": "code",
   "execution_count": 9,
   "metadata": {
    "collapsed": true
   },
   "outputs": [],
   "source": [
    "# \n",
    "def solution(A):\n",
    "    li_min1 =[]\n",
    "    for i in range(len(A)):\n",
    "        li_min2 = []\n",
    "        for j in range(i, len(A)):\n",
    "            li_min2.append(abs(sum(A[i:j+1])))\n",
    "        li_min1.append(min(li_min2))\n",
    "    return min(li_min1)\n",
    "            \n",
    "        "
   ]
  },
  {
   "cell_type": "code",
   "execution_count": 10,
   "metadata": {},
   "outputs": [
    {
     "data": {
      "text/plain": [
       "1"
      ]
     },
     "execution_count": 10,
     "metadata": {},
     "output_type": "execute_result"
    }
   ],
   "source": [
    "solution([2,-4,6,-3,9])"
   ]
  },
  {
   "cell_type": "code",
   "execution_count": 13,
   "metadata": {},
   "outputs": [
    {
     "data": {
      "text/plain": [
       "100"
      ]
     },
     "execution_count": 13,
     "metadata": {},
     "output_type": "execute_result"
    }
   ],
   "source": [
    "solution([-100])"
   ]
  },
  {
   "cell_type": "code",
   "execution_count": 14,
   "metadata": {
    "collapsed": true
   },
   "outputs": [],
   "source": [
    "s = '1 2 3 {test 0, test 0} {test 0 test 0}'"
   ]
  },
  {
   "cell_type": "code",
   "execution_count": 18,
   "metadata": {},
   "outputs": [
    {
     "data": {
      "text/plain": [
       "['1', '2', '3', '{test 0, test 0}', '{test 0 test 0}']"
      ]
     },
     "execution_count": 18,
     "metadata": {},
     "output_type": "execute_result"
    }
   ],
   "source": [
    "import re\n",
    "re.split(r\"\\s(?![^{]*})\",s)"
   ]
  },
  {
   "cell_type": "code",
   "execution_count": 42,
   "metadata": {},
   "outputs": [
    {
     "data": {
      "text/plain": [
       "8"
      ]
     },
     "execution_count": 42,
     "metadata": {},
     "output_type": "execute_result"
    }
   ],
   "source": [
    "def solution(A, B):\n",
    "    C = []\n",
    "    for a, b in zip(A,B):\n",
    "        C.append(a + b / 1000000.0) # python 2 에서 소수점 만들기\n",
    "    result = 0\n",
    "    for i in range(len(A)-1):\n",
    "        for j in range(i+1, len(A)):\n",
    "            if C[i] * C[j] >= C[i] + C[j]:\n",
    "                result += 1\n",
    "    return result\n",
    "\n",
    "solution([0, 1, 2, 2, 3, 5], [500000, 500000, 0, 0, 0, 20000])\n",
    "    "
   ]
  },
  {
   "cell_type": "code",
   "execution_count": 70,
   "metadata": {},
   "outputs": [
    {
     "name": "stdout",
     "output_type": "stream",
     "text": [
      "[0.5, 1.5, 2.0, 2.0, 3.0, 5.02]\n",
      "8\n",
      "[1.4, 3.5]\n",
      "0\n",
      "[1.016803, 60.513157]\n",
      "0\n"
     ]
    }
   ],
   "source": [
    "def solution(A, B):\n",
    "    C = [a + b / 1000000.0 for a, b in zip(A,B)]\n",
    "    print(C)\n",
    "    result = 0\n",
    "    for i in range(len(C)-1):\n",
    "        for j in range(i+1, len(C)):\n",
    "            if C[i] * C[j] >= C[i] + C[j]:\n",
    "                result += 1\n",
    "    return result \n",
    "\n",
    "print(solution([0, 1, 2, 2, 3, 5], [500000, 500000, 0, 0, 0, 20000]))\n",
    "print(solution([1, 3], [400000, 500000]))\n",
    "print(solution([1, 60], [16803, 513157]))"
   ]
  },
  {
   "cell_type": "code",
   "execution_count": 56,
   "metadata": {},
   "outputs": [
    {
     "name": "stdout",
     "output_type": "stream",
     "text": [
      "0.5\n"
     ]
    }
   ],
   "source": [
    "print(float(1/2))"
   ]
  },
  {
   "cell_type": "code",
   "execution_count": null,
   "metadata": {
    "collapsed": true
   },
   "outputs": [],
   "source": [
    "# 링크드리스트\n",
    "def solution(L):\n",
    "    length = 0\n",
    "    while L:\n",
    "        length += 1\n",
    "        L = L.next\n",
    "    return length"
   ]
  }
 ],
 "metadata": {
  "kernelspec": {
   "display_name": "Python 3",
   "language": "python",
   "name": "python3"
  },
  "language_info": {
   "codemirror_mode": {
    "name": "ipython",
    "version": 3
   },
   "file_extension": ".py",
   "mimetype": "text/x-python",
   "name": "python",
   "nbconvert_exporter": "python",
   "pygments_lexer": "ipython3",
   "version": "3.5.3"
  }
 },
 "nbformat": 4,
 "nbformat_minor": 2
}
