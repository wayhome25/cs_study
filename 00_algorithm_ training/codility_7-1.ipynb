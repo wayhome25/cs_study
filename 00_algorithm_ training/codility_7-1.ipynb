{
 "cells": [
  {
   "cell_type": "code",
   "execution_count": null,
   "metadata": {
    "collapsed": true
   },
   "outputs": [],
   "source": [
    "'''\n",
    "A string S consisting of N characters is considered to be properly nested if any of the following conditions is true:\n",
    "* S is empty;\n",
    "* S has the form \"(U)\" or \"[U]\" or \"{U}\" where U is a properly nested string;\n",
    "* S has the form \"VW\" where V and W are properly nested strings.\n",
    "For example, the string \"{[()()]}\" is properly nested but \"([)()]\" is not.\n",
    "Write a function:\n",
    "def solution(S)\n",
    "that, given a string S consisting of N characters, returns 1 if S is properly nested and 0 otherwise.\n",
    "For example, given S = \"{[()()]}\", the function should return 1 and given S = \"([)()]\", the function should return 0, as explained above.\n",
    "Assume that:\n",
    "* N is an integer within the range [0..200,000];\n",
    "* string S consists only of the following characters: \"(\", \"{\", \"[\", \"]\", \"}\" and/or \")\".\n",
    "Complexity:\n",
    "* expected worst-case time complexity is O(N);\n",
    "* expected worst-case space complexity is O(N) (not counting the storage required for input arguments).\n",
    "'''"
   ]
  },
  {
   "cell_type": "code",
   "execution_count": 4,
   "metadata": {
    "collapsed": true
   },
   "outputs": [],
   "source": [
    "# 풀이 \n",
    "# 시간복잡도 : O(N)\n",
    "# 열리는 괄호와 닫히는 괄호를 나누어서 분기 처리한다. \n",
    "\n",
    "def solution(S):\n",
    "    if len(S) == 0:\n",
    "        return 1\n",
    "    if len(S) == 1:\n",
    "        return 0\n",
    "\n",
    "    stack = []\n",
    "    open_li = [\"(\", \"{\", \"[\"]\n",
    "    close_li = [\")\", \"}\", \"]\"]\n",
    "    for i in S:\n",
    "        if stack == [] and i in close_li:\n",
    "            return 0\n",
    "\n",
    "        if i in open_li:\n",
    "            stack.append(i)\n",
    "        elif i in close_li:\n",
    "            idx = close_li.index(i)\n",
    "            if stack[-1] == open_li[idx]:\n",
    "                stack.pop()\n",
    "            else:\n",
    "                stack.append(i)\n",
    "    return 1 if len(stack) == 0 else 0\n"
   ]
  },
  {
   "cell_type": "code",
   "execution_count": 8,
   "metadata": {},
   "outputs": [
    {
     "data": {
      "text/plain": [
       "1"
      ]
     },
     "execution_count": 8,
     "metadata": {},
     "output_type": "execute_result"
    }
   ],
   "source": [
    "solution(\"{[()()]}\")"
   ]
  },
  {
   "cell_type": "code",
   "execution_count": 6,
   "metadata": {},
   "outputs": [
    {
     "data": {
      "text/plain": [
       "0"
      ]
     },
     "execution_count": 6,
     "metadata": {},
     "output_type": "execute_result"
    }
   ],
   "source": [
    "solution(\"([)()]\")"
   ]
  },
  {
   "cell_type": "code",
   "execution_count": null,
   "metadata": {
    "collapsed": true
   },
   "outputs": [],
   "source": []
  }
 ],
 "metadata": {
  "kernelspec": {
   "display_name": "Python 3",
   "language": "python",
   "name": "python3"
  },
  "language_info": {
   "codemirror_mode": {
    "name": "ipython",
    "version": 3
   },
   "file_extension": ".py",
   "mimetype": "text/x-python",
   "name": "python",
   "nbconvert_exporter": "python",
   "pygments_lexer": "ipython3",
   "version": "3.5.3"
  }
 },
 "nbformat": 4,
 "nbformat_minor": 2
}
