{
 "cells": [
  {
   "cell_type": "code",
   "execution_count": 1,
   "metadata": {
    "collapsed": true
   },
   "outputs": [],
   "source": [
    "# N개의 요소를 가진 리스트 A 중에서, N/2 이상 출현하는 Leader 값을 리턴하라\n",
    "# 없다면 -1을 리턴하라"
   ]
  },
  {
   "cell_type": "code",
   "execution_count": 22,
   "metadata": {},
   "outputs": [
    {
     "name": "stdout",
     "output_type": "stream",
     "text": [
      "3\n"
     ]
    }
   ],
   "source": [
    "# 내 풀이\n",
    "def solution(A):\n",
    "    condition = len(A) // 2 + 1 if len(A) % 2 else len(A) / 2 \n",
    "    item_count = {}\n",
    "    for i in A:\n",
    "        if i not in item_count:\n",
    "            item_count[i] = 1\n",
    "        else: \n",
    "            item_count[i] += 1\n",
    "            \n",
    "    for item, count in item_count.items():\n",
    "        if count >= condition:\n",
    "            return item\n",
    "    \n",
    "    return -1\n",
    "        \n",
    "if __name__ == \"__main__\":\n",
    "    print(solution([1,1,3,2,1,3,3,3]))"
   ]
  }
 ],
 "metadata": {
  "kernelspec": {
   "display_name": "Python 3",
   "language": "python",
   "name": "python3"
  },
  "language_info": {
   "codemirror_mode": {
    "name": "ipython",
    "version": 3
   },
   "file_extension": ".py",
   "mimetype": "text/x-python",
   "name": "python",
   "nbconvert_exporter": "python",
   "pygments_lexer": "ipython3",
   "version": "3.5.3"
  }
 },
 "nbformat": 4,
 "nbformat_minor": 2
}
