{
 "cells": [
  {
   "cell_type": "code",
   "execution_count": 4,
   "metadata": {},
   "outputs": [
    {
     "name": "stdout",
     "output_type": "stream",
     "text": [
      "[0]\n",
      "[0, 1]\n",
      "[0, 1]\n",
      "[0, 1]\n",
      "[0, 0]\n",
      "[0, 0]\n"
     ]
    },
    {
     "data": {
      "text/plain": [
       "2"
      ]
     },
     "execution_count": 4,
     "metadata": {},
     "output_type": "execute_result"
    }
   ],
   "source": [
    "def solution(A, B):\n",
    "    if len(A) == 1:\n",
    "        return 1\n",
    "    stack = []\n",
    "    for idx, val in enumerate(B):\n",
    "        if stack == []:\n",
    "            stack.append(val)\n",
    "        elif val == 1:\n",
    "            stack.append(val)\n",
    "        elif val == 0 and stack[-1] == 0:\n",
    "            stack.append(val)\n",
    "        elif val == 0 and stack[-1] == 1:\n",
    "            if A[idx] > A[idx - 1]:\n",
    "                stack.pop()\n",
    "                stack.append(val)\n",
    "    return len(stack)\n",
    "    \n",
    "\n",
    "solution([4, 3, 2, 1, 5], [0, 1, 0, 0, 0])"
   ]
  },
  {
   "cell_type": "code",
   "execution_count": null,
   "metadata": {
    "collapsed": true
   },
   "outputs": [],
   "source": [
    "# 다른사람 풀이\n",
    "# 시간복잡도 O(N)\n",
    "\n",
    "def solution(A, B):\n",
    "    stack, alive = [], len(A)\n",
    "    for fish in zip(A, B):\n",
    "        size, up = fish\n",
    "        if not up:\n",
    "            while stack and stack[-1] < size:\n",
    "                alive -= 1\n",
    "                stack.pop()\n",
    "            alive -= 1  if stack else 0\n",
    "        else:\n",
    "            stack.append(size)\n",
    "\n",
    "    return alive"
   ]
  }
 ],
 "metadata": {
  "kernelspec": {
   "display_name": "Python 3",
   "language": "python",
   "name": "python3"
  },
  "language_info": {
   "codemirror_mode": {
    "name": "ipython",
    "version": 3
   },
   "file_extension": ".py",
   "mimetype": "text/x-python",
   "name": "python",
   "nbconvert_exporter": "python",
   "pygments_lexer": "ipython3",
   "version": "3.5.3"
  }
 },
 "nbformat": 4,
 "nbformat_minor": 2
}
