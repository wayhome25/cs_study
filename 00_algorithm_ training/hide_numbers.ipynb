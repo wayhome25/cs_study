{
 "cells": [
  {
   "cell_type": "code",
   "execution_count": null,
   "metadata": {
    "collapsed": true
   },
   "outputs": [],
   "source": [
    "핸드폰 번호 가리기\n",
    "\n",
    "별이는 헬로월드텔레콤에서 고지서를 보내는 일을 하고 있습니다. \n",
    "개인정보 보호를 위해 고객들의 전화번호는 \n",
    "맨 뒷자리 4자리를 제외한 나머지를 \"*\"으로 바꿔야 합니다.\n",
    "\n",
    "전화번호를 문자열 s로 입력받는 hide_numbers함수를 완성해 별이를 도와주세요\n",
    "예를들어 s가 \"01033334444\"면 \"*******4444\"를 리턴하고, \n",
    "\"027778888\"인 경우는 \"*****8888\"을 리턴하면 됩니다.\n",
    "\n"
   ]
  },
  {
   "cell_type": "code",
   "execution_count": 3,
   "metadata": {},
   "outputs": [
    {
     "data": {
      "text/plain": [
       "'*******4444'"
      ]
     },
     "execution_count": 3,
     "metadata": {},
     "output_type": "execute_result"
    }
   ],
   "source": [
    "s = '01033334444'\n",
    "(len(s)-4)*'*'+s[-4:]"
   ]
  },
  {
   "cell_type": "code",
   "execution_count": 4,
   "metadata": {
    "collapsed": true
   },
   "outputs": [],
   "source": [
    "def hide_numbers(s):\n",
    "    return (len(s)-4)*'*'+s[-4:]"
   ]
  },
  {
   "cell_type": "code",
   "execution_count": 5,
   "metadata": {},
   "outputs": [
    {
     "data": {
      "text/plain": [
       "'*******4444'"
      ]
     },
     "execution_count": 5,
     "metadata": {},
     "output_type": "execute_result"
    }
   ],
   "source": [
    "hide_numbers('01033334444')"
   ]
  },
  {
   "cell_type": "code",
   "execution_count": null,
   "metadata": {
    "collapsed": true
   },
   "outputs": [],
   "source": []
  }
 ],
 "metadata": {
  "kernelspec": {
   "display_name": "Python 3",
   "language": "python",
   "name": "python3"
  },
  "language_info": {
   "codemirror_mode": {
    "name": "ipython",
    "version": 3
   },
   "file_extension": ".py",
   "mimetype": "text/x-python",
   "name": "python",
   "nbconvert_exporter": "python",
   "pygments_lexer": "ipython3",
   "version": "3.6.0"
  }
 },
 "nbformat": 4,
 "nbformat_minor": 2
}
