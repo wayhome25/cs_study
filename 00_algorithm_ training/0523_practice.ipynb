{
 "cells": [
  {
   "cell_type": "code",
   "execution_count": 14,
   "metadata": {},
   "outputs": [
    {
     "name": "stdout",
     "output_type": "stream",
     "text": [
      "ggobugi는 pikachu에게 10피해를 줬다\n"
     ]
    }
   ],
   "source": [
    "class Monster():\n",
    "    description = 'poketmon'\n",
    "    hp = 100\n",
    "    dash_damage = 10\n",
    "    \n",
    "    def __init__(self, name):\n",
    "        self.name = name\n",
    "        \n",
    "    def attack(self, enemy):\n",
    "        enemy.hp -= self.dash_damage\n",
    "        print(\"{}는 {}에게 {}피해를 줬다\".format(self.name, enemy.name, self.dash_damage))\n",
    "        \n",
    "    \n",
    "    @classmethod\n",
    "    def change_type(cls, description):\n",
    "        cls.description = description\n",
    "        \n",
    "        \n",
    "    @staticmethod   \n",
    "    def run():\n",
    "        print('도망치기')\n",
    "        \n",
    "\n",
    "        \n",
    "ggobugi = Monster('ggobugi')\n",
    "pikachu = Monster('pikachu')\n",
    "\n",
    "ggobugi.attack(pikachu)"
   ]
  },
  {
   "cell_type": "code",
   "execution_count": 15,
   "metadata": {},
   "outputs": [
    {
     "name": "stdout",
     "output_type": "stream",
     "text": [
      "도망치기\n"
     ]
    }
   ],
   "source": [
    "ggobugi.run()"
   ]
  },
  {
   "cell_type": "code",
   "execution_count": 19,
   "metadata": {},
   "outputs": [],
   "source": [
    "ggobugi.change_type('꼬부기')"
   ]
  },
  {
   "cell_type": "code",
   "execution_count": 20,
   "metadata": {},
   "outputs": [
    {
     "data": {
      "text/plain": [
       "'꼬부기'"
      ]
     },
     "execution_count": 20,
     "metadata": {},
     "output_type": "execute_result"
    }
   ],
   "source": [
    "ggobugi.description"
   ]
  },
  {
   "cell_type": "code",
   "execution_count": null,
   "metadata": {
    "collapsed": true
   },
   "outputs": [],
   "source": []
  }
 ],
 "metadata": {
  "kernelspec": {
   "display_name": "Django Shell-Plus",
   "language": "python",
   "name": "django_extensions"
  },
  "language_info": {
   "codemirror_mode": {
    "name": "ipython",
    "version": 3
   },
   "file_extension": ".py",
   "mimetype": "text/x-python",
   "name": "python",
   "nbconvert_exporter": "python",
   "pygments_lexer": "ipython3",
   "version": "3.6.0"
  }
 },
 "nbformat": 4,
 "nbformat_minor": 2
}
