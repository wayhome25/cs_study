{
 "cells": [
  {
   "cell_type": "code",
   "execution_count": 18,
   "metadata": {
    "collapsed": true
   },
   "outputs": [],
   "source": [
    "# 풀이 - O(N*M)\n",
    "\n",
    "def solution(N, A):\n",
    "    result = [0] * N\n",
    "    \n",
    "    for val in A:\n",
    "        if 1 <= val <= N:\n",
    "            result[val-1] += 1\n",
    "        elif val == N + 1:\n",
    "            result = [max(result)] * N\n",
    "    return result "
   ]
  },
  {
   "cell_type": "code",
   "execution_count": 19,
   "metadata": {},
   "outputs": [
    {
     "data": {
      "text/plain": [
       "[3, 2, 2, 4, 2]"
      ]
     },
     "execution_count": 19,
     "metadata": {},
     "output_type": "execute_result"
    }
   ],
   "source": [
    "solution(5, [3,4,4,6,1,4,4])"
   ]
  },
  {
   "cell_type": "code",
   "execution_count": 20,
   "metadata": {
    "collapsed": true
   },
   "outputs": [],
   "source": [
    "# 풀이 2 - O(N*M)\n",
    "\n",
    "def solution(N, A):\n",
    "    result = [0] * N\n",
    "    max_check = 0\n",
    "    \n",
    "    for i in A:\n",
    "        if 1 <= i <= N:\n",
    "            result[i-1] += 1 \n",
    "            max_check = max(max_check, result[i-1])\n",
    "        elif i == N + 1:\n",
    "            result = [max_check] * N\n",
    "    return result\n",
    "    "
   ]
  },
  {
   "cell_type": "code",
   "execution_count": 21,
   "metadata": {},
   "outputs": [
    {
     "data": {
      "text/plain": [
       "[3, 2, 2, 4, 2]"
      ]
     },
     "execution_count": 21,
     "metadata": {},
     "output_type": "execute_result"
    }
   ],
   "source": [
    "solution(5, [3,4,4,6,1,4,4])"
   ]
  },
  {
   "cell_type": "code",
   "execution_count": null,
   "metadata": {
    "collapsed": true
   },
   "outputs": [],
   "source": [
    "# 풀이 3 - O(N*M) 풀이 2와 성능 동일 \n",
    "\n",
    "def solution(N, A):\n",
    "    result = [0] * N\n",
    "    max_check = 0\n",
    "    \n",
    "    for i in A:\n",
    "        if 1 <= i <= N:\n",
    "            result[i-1] += 1 \n",
    "            if max_check < result[i-1]:\n",
    "                max_check = result[i-1]\n",
    "        elif i == N + 1:\n",
    "            result = [max_check] * N\n",
    "    return result\n",
    "    "
   ]
  },
  {
   "cell_type": "code",
   "execution_count": 22,
   "metadata": {},
   "outputs": [
    {
     "data": {
      "text/plain": [
       "[1, 1, 1, 0, 0]"
      ]
     },
     "execution_count": 22,
     "metadata": {},
     "output_type": "execute_result"
    }
   ],
   "source": [
    "solution(5, [1,2,3,100000])"
   ]
  },
  {
   "cell_type": "code",
   "execution_count": null,
   "metadata": {
    "collapsed": true
   },
   "outputs": [],
   "source": [
    "# 다른사람 풀이 \n"
   ]
  }
 ],
 "metadata": {
  "kernelspec": {
   "display_name": "Python 3",
   "language": "python",
   "name": "python3"
  },
  "language_info": {
   "codemirror_mode": {
    "name": "ipython",
    "version": 3
   },
   "file_extension": ".py",
   "mimetype": "text/x-python",
   "name": "python",
   "nbconvert_exporter": "python",
   "pygments_lexer": "ipython3",
   "version": "3.5.3"
  }
 },
 "nbformat": 4,
 "nbformat_minor": 2
}
