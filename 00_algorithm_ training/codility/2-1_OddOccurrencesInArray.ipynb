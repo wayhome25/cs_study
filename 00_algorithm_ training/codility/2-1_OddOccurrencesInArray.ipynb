{
 "cells": [
  {
   "cell_type": "code",
   "execution_count": 1,
   "metadata": {
    "collapsed": true
   },
   "outputs": [],
   "source": [
    "# 배열에는 odd 개의 요소가 있음 \n",
    "# 1개 빼고 다 짝이 있음\n",
    "# 짝없는 요소 리턴하는 함수 만들기"
   ]
  },
  {
   "cell_type": "code",
   "execution_count": 6,
   "metadata": {
    "collapsed": true
   },
   "outputs": [],
   "source": [
    "# 풀이 - O(n^2)\n",
    "\n",
    "def solution(A):\n",
    "    if len(A) == 1:\n",
    "        return A[0]\n",
    "    \n",
    "    li = []\n",
    "    for i in A: # O(N)\n",
    "        if li == [] or i not in li: # O(N) : in 검색\n",
    "            li.append(i)\n",
    "        else:\n",
    "            li.remove(i)\n",
    "    return li[0]"
   ]
  },
  {
   "cell_type": "code",
   "execution_count": 7,
   "metadata": {},
   "outputs": [
    {
     "data": {
      "text/plain": [
       "7"
      ]
     },
     "execution_count": 7,
     "metadata": {},
     "output_type": "execute_result"
    }
   ],
   "source": [
    "solution([9,3,9,3,9,7,9])"
   ]
  },
  {
   "cell_type": "code",
   "execution_count": 18,
   "metadata": {
    "collapsed": true
   },
   "outputs": [],
   "source": [
    "# 풀이2 - O(N) or O(N*log(N)) \n",
    "# score 100% \n",
    "\n",
    "def solution(A):\n",
    "    dic = {i:0 for i in A}\n",
    "    for i in A:\n",
    "        dic[i] += 1\n",
    "    for a, b in dic.items():\n",
    "        if b % 2:\n",
    "            return a"
   ]
  },
  {
   "cell_type": "code",
   "execution_count": 19,
   "metadata": {},
   "outputs": [
    {
     "data": {
      "text/plain": [
       "7"
      ]
     },
     "execution_count": 19,
     "metadata": {},
     "output_type": "execute_result"
    }
   ],
   "source": [
    "solution([9,3,9,3,9,7,9])"
   ]
  },
  {
   "cell_type": "code",
   "execution_count": 42,
   "metadata": {
    "collapsed": true
   },
   "outputs": [],
   "source": [
    "# 다른사람 풀이 \n",
    "# range(시작, 끝, step) 을 통해서 2 간격으로 반복한다. \n",
    "def solution(A):\n",
    "    A.sort()\n",
    "    for num in range(0, len(A) -1, 2):\n",
    "        if A[num] != A[num + 1]:\n",
    "            return A[num]\n",
    "    return -1"
   ]
  },
  {
   "cell_type": "code",
   "execution_count": 43,
   "metadata": {},
   "outputs": [
    {
     "data": {
      "text/plain": [
       "7"
      ]
     },
     "execution_count": 43,
     "metadata": {},
     "output_type": "execute_result"
    }
   ],
   "source": [
    "solution([9,3,9,3,9,7,9])"
   ]
  },
  {
   "cell_type": "code",
   "execution_count": null,
   "metadata": {
    "collapsed": true
   },
   "outputs": [],
   "source": []
  }
 ],
 "metadata": {
  "kernelspec": {
   "display_name": "Python 3",
   "language": "python",
   "name": "python3"
  },
  "language_info": {
   "codemirror_mode": {
    "name": "ipython",
    "version": 3
   },
   "file_extension": ".py",
   "mimetype": "text/x-python",
   "name": "python",
   "nbconvert_exporter": "python",
   "pygments_lexer": "ipython3",
   "version": "3.5.3"
  }
 },
 "nbformat": 4,
 "nbformat_minor": 2
}
