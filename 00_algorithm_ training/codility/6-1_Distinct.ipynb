{
 "cells": [
  {
   "cell_type": "code",
   "execution_count": 1,
   "metadata": {
    "collapsed": true
   },
   "outputs": [],
   "source": [
    "# 풀이 - O(N*log(N)) or O(N)\n",
    "def solution(A):\n",
    "    if len(A) == 0:\n",
    "        return 0\n",
    "        \n",
    "    A.sort()\n",
    "    result = 1\n",
    "    for i in range(1, len(A)):\n",
    "        if A[i] != A[i-1]:\n",
    "            result += 1\n",
    "    return result "
   ]
  },
  {
   "cell_type": "code",
   "execution_count": null,
   "metadata": {
    "collapsed": true
   },
   "outputs": [],
   "source": [
    "'''\n",
    "Write a function\n",
    "\n",
    "def solution(A)\n",
    "\n",
    "that, given a zero-indexed array A consisting of N integers, returns the number of distinct values in array A.\n",
    "\n",
    "Assume that:\n",
    "\n",
    "N is an integer within the range [0..100,000];\n",
    "each element of array A is an integer within the range [−1,000,000..1,000,000].\n",
    "For example, given array A consisting of six elements such that:\n",
    "\n",
    " A[0] = 2    A[1] = 1    A[2] = 1\n",
    " A[3] = 2    A[4] = 3    A[5] = 1\n",
    "the function should return 3, because there are 3 distinct values appearing in array A, namely 1, 2 and 3.\n",
    "\n",
    "Complexity:\n",
    "\n",
    "expected worst-case time complexity is O(N*log(N));\n",
    "expected worst-case space complexity is O(N), beyond input storage \n",
    "(not counting the storage required for input arguments).\n",
    "Elements of input arrays can be modified.'''"
   ]
  }
 ],
 "metadata": {
  "kernelspec": {
   "display_name": "Python 3",
   "language": "python",
   "name": "python3"
  },
  "language_info": {
   "codemirror_mode": {
    "name": "ipython",
    "version": 3
   },
   "file_extension": ".py",
   "mimetype": "text/x-python",
   "name": "python",
   "nbconvert_exporter": "python",
   "pygments_lexer": "ipython3",
   "version": "3.5.3"
  }
 },
 "nbformat": 4,
 "nbformat_minor": 2
}
