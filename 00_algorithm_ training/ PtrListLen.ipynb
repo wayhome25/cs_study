{
 "cells": [
  {
   "cell_type": "code",
   "execution_count": null,
   "metadata": {
    "collapsed": true
   },
   "outputs": [],
   "source": [
    "def solution(L):\n",
    "    count = 0\n",
    "    while L:\n",
    "        count += 1\n",
    "        L = L.next \n",
    "    return count"
   ]
  },
  {
   "cell_type": "code",
   "execution_count": null,
   "metadata": {
    "collapsed": true
   },
   "outputs": [],
   "source": [
    "'''\n",
    "A pointer is called a linked list if:\n",
    "\n",
    "it is an empty pointer (it is then called a terminator or an empty list); or\n",
    "it points to a structure (called a node or the head) that contains a value and a linked list (called the tail).\n",
    "The length of a list is defined as the total number of nodes it contains. In particular, an empty list has length 0.\n",
    "\n",
    "For example, consider the following linked list:\n",
    "\n",
    "  A -> B -> C -> D ->\n",
    "This list contains four nodes: A, B, C and D. Node D is the last node and its tail is the terminator. The length of this list is 4.\n",
    "\n",
    "Assume that the following declarations are given:\n",
    "\n",
    "class IntList(object):\n",
    "  value = 0\n",
    "  next = None\n",
    "\n",
    "Write a function:\n",
    "\n",
    "def solution(L)\n",
    "\n",
    "that, given a non-empty linked list L consisting of N nodes, returns its length.\n",
    "\n",
    "For example, given list L shown in the example above, the function should return 4.\n",
    "\n",
    "Assume that:\n",
    "\n",
    "N is an integer within the range [1..5,000];\n",
    "list L does not have a cycle (each non-empty pointer points to a different structure).\n",
    "In your solution, focus on correctness. The performance of your solution will not be the focus of the assessment.'''"
   ]
  }
 ],
 "metadata": {
  "kernelspec": {
   "display_name": "Python 3",
   "language": "python",
   "name": "python3"
  },
  "language_info": {
   "codemirror_mode": {
    "name": "ipython",
    "version": 3
   },
   "file_extension": ".py",
   "mimetype": "text/x-python",
   "name": "python",
   "nbconvert_exporter": "python",
   "pygments_lexer": "ipython3",
   "version": "3.5.3"
  }
 },
 "nbformat": 4,
 "nbformat_minor": 2
}
