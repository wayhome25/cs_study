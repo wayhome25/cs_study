{
 "cells": [
  {
   "cell_type": "code",
   "execution_count": null,
   "metadata": {
    "collapsed": true
   },
   "outputs": [],
   "source": [
    "'''\n",
    "no_continuous함수는 스트링 s를 매개변수로 입력받습니다.\n",
    "\n",
    "s의 글자들의 순서를 유지하면서, 글자들 중 연속적으로 나타나는 아이템은 \n",
    "제거된 배열(파이썬은 list)을 리턴하도록 함수를 완성하세요.\n",
    "예를들어 다음과 같이 동작하면 됩니다.\n",
    "\n",
    "s가 '133303'이라면 ['1', '3', '0', '3']를 리턴\n",
    "s가 '47330'이라면 [4, 7, 3, 0]을 리턴'''"
   ]
  },
  {
   "cell_type": "code",
   "execution_count": 18,
   "metadata": {},
   "outputs": [],
   "source": [
    "s = '133303'\n",
    "\n",
    "def no_continuous(s):\n",
    "    return [j for i, j in enumerate(s) if i==0 or s[i-1] != s[i]]"
   ]
  },
  {
   "cell_type": "code",
   "execution_count": null,
   "metadata": {
    "collapsed": true
   },
   "outputs": [],
   "source": []
  }
 ],
 "metadata": {
  "kernelspec": {
   "display_name": "Python 3",
   "language": "python",
   "name": "python3"
  },
  "language_info": {
   "codemirror_mode": {
    "name": "ipython",
    "version": 3
   },
   "file_extension": ".py",
   "mimetype": "text/x-python",
   "name": "python",
   "nbconvert_exporter": "python",
   "pygments_lexer": "ipython3",
   "version": "3.6.0"
  }
 },
 "nbformat": 4,
 "nbformat_minor": 2
}
