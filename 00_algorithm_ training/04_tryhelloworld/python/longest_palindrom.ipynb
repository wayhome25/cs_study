{
 "cells": [
  {
   "cell_type": "code",
   "execution_count": null,
   "metadata": {
    "collapsed": true
   },
   "outputs": [],
   "source": [
    "\"\"\"\n",
    "http://tryhelloworld.co.kr/challenge_codes/85\n",
    "앞뒤를 뒤집어도 똑같은 문자열을 palindrome이라고 합니다.\n",
    "longest_palindrom함수는 문자열 s를 매개변수로 입력받습니다.\n",
    "s의 부분문자열중 가장 긴 palindrom의 길이를 리턴하는 함수를 완성하세요.\n",
    "예를들어 s가 \"토마토맛토마토\"이면 7을 리턴하고 \"토마토맛있어\"이면 3을 리턴합니다.\n",
    "\"\"\""
   ]
  },
  {
   "cell_type": "code",
   "execution_count": 44,
   "metadata": {
    "collapsed": true
   },
   "outputs": [],
   "source": [
    "def longest_palindrom(s):\n",
    "    list_s = list(s)\n",
    "    if list_s == list_s[::-1]:\n",
    "        return len(list_s)\n",
    "    \n",
    "    result = []\n",
    "    for idx, item in enumerate(list_s):\n",
    "        if item in list_s[idx+1:]:\n",
    "            idx2 = list_s[idx+1:].index(item) + idx+2\n",
    "            \n",
    "            if list_s[idx:idx2] == (list_s[idx:idx2])[::-1]:\n",
    "                result.append(len(list_s[idx:idx2]))\n",
    "    \n",
    "    if len(result) == 0:\n",
    "        return 1\n",
    "    return max(result)\n",
    "        "
   ]
  },
  {
   "cell_type": "code",
   "execution_count": 45,
   "metadata": {},
   "outputs": [
    {
     "name": "stdout",
     "output_type": "stream",
     "text": [
      "7\n",
      "3\n",
      "3\n"
     ]
    }
   ],
   "source": [
    "print(longest_palindrom(\"토마토맛토마토\"))\n",
    "print(longest_palindrom(\"토마토맛있어\"))\n",
    "print(longest_palindrom(\"맛있어토마토\"))\t"
   ]
  },
  {
   "cell_type": "code",
   "execution_count": 32,
   "metadata": {},
   "outputs": [
    {
     "data": {
      "text/plain": [
       "3"
      ]
     },
     "execution_count": 32,
     "metadata": {},
     "output_type": "execute_result"
    }
   ],
   "source": [
    "# 다른사람 풀이\n",
    "\n"
   ]
  },
  {
   "cell_type": "code",
   "execution_count": null,
   "metadata": {
    "collapsed": true
   },
   "outputs": [],
   "source": []
  }
 ],
 "metadata": {
  "kernelspec": {
   "display_name": "Python 3",
   "language": "python",
   "name": "python3"
  },
  "language_info": {
   "codemirror_mode": {
    "name": "ipython",
    "version": 3
   },
   "file_extension": ".py",
   "mimetype": "text/x-python",
   "name": "python",
   "nbconvert_exporter": "python",
   "pygments_lexer": "ipython3",
   "version": "3.6.0"
  }
 },
 "nbformat": 4,
 "nbformat_minor": 2
}
