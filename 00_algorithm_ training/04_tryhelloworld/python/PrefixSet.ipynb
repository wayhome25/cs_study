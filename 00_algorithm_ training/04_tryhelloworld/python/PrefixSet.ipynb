{
 "cells": [
  {
   "cell_type": "code",
   "execution_count": null,
   "metadata": {
    "collapsed": true
   },
   "outputs": [],
   "source": [
    "'''\n",
    "A non-empty zero-indexed array A consisting of N integers is given. The first covering prefix of array A is the smallest integer P such that 0≤P<N and such that every value that occurs in array A also occurs in sequence A[0], A[1], ..., A[P].\n",
    "\n",
    "For example, the first covering prefix of the following 5−element array A:\n",
    "\n",
    "  A[0] = 2\n",
    "  A[1] = 2\n",
    "  A[2] = 1\n",
    "  A[3] = 0\n",
    "  A[4] = 1\n",
    "is 3, because sequence [ A[0], A[1], A[2], A[3] ] equal to [2, 2, 1, 0], contains all values that occur in array A.\n",
    "\n",
    "Write a function\n",
    "\n",
    "def solution(A)\n",
    "\n",
    "that, given a zero-indexed non-empty array A consisting of N integers, returns the first covering prefix of A.\n",
    "\n",
    "For example, given array A such that\n",
    "\n",
    "  A[0] = 2\n",
    "  A[1] = 2\n",
    "  A[2] = 1\n",
    "  A[3] = 0\n",
    "  A[4] = 1\n",
    "the function should return 3, as explained above.\n",
    "\n",
    "Assume that:\n",
    "\n",
    "N is an integer within the range [1..1,000,000];\n",
    "each element of array A is an integer within the range [0..N−1].\n",
    "Complexity:\n",
    "\n",
    "expected worst-case time complexity is O(N);\n",
    "expected worst-case space complexity is O(N), beyond input storage (not counting the storage required for input arguments).\n",
    "'''"
   ]
  },
  {
   "cell_type": "code",
   "execution_count": 16,
   "metadata": {
    "collapsed": true
   },
   "outputs": [],
   "source": [
    "# 풀이 \n",
    "# 시간 복잡도 O(N**3)\n",
    "\n",
    "def solution(A):\n",
    "    li = []\n",
    "    for i in A:\n",
    "        if i not in li:\n",
    "            li.append(i)\n",
    "    return A.index(li[-1])\n",
    "    \n",
    "    "
   ]
  },
  {
   "cell_type": "code",
   "execution_count": 17,
   "metadata": {},
   "outputs": [
    {
     "data": {
      "text/plain": [
       "3"
      ]
     },
     "execution_count": 17,
     "metadata": {},
     "output_type": "execute_result"
    }
   ],
   "source": [
    "solution([2,2,1,0,1])\n"
   ]
  },
  {
   "cell_type": "code",
   "execution_count": 18,
   "metadata": {
    "collapsed": true
   },
   "outputs": [],
   "source": [
    "# 모범풀이 (Golden Solution!)\n",
    "# 시간 복잡도 O(N) or O(N*log(N))\n",
    "# index, value를 분리해서 활용\n",
    "\n",
    "def solution(A):\n",
    "    n = len(A)\n",
    "    occur = [False] * n\n",
    "    for idx, val in enumerate(A):\n",
    "        if occur[val] == False:\n",
    "            occur[val] = True\n",
    "            result = idx\n",
    "    return result\n"
   ]
  },
  {
   "cell_type": "code",
   "execution_count": null,
   "metadata": {
    "collapsed": true
   },
   "outputs": [],
   "source": []
  }
 ],
 "metadata": {
  "kernelspec": {
   "display_name": "Python 3",
   "language": "python",
   "name": "python3"
  },
  "language_info": {
   "codemirror_mode": {
    "name": "ipython",
    "version": 3
   },
   "file_extension": ".py",
   "mimetype": "text/x-python",
   "name": "python",
   "nbconvert_exporter": "python",
   "pygments_lexer": "ipython3",
   "version": "3.5.3"
  }
 },
 "nbformat": 4,
 "nbformat_minor": 2
}
