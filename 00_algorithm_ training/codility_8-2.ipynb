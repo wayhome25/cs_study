{
 "cells": [
  {
   "cell_type": "code",
   "execution_count": 5,
   "metadata": {},
   "outputs": [
    {
     "name": "stdout",
     "output_type": "stream",
     "text": [
      "0\n"
     ]
    }
   ],
   "source": [
    "# 풀이\n",
    "# 시간복잡도 - O(N)\n",
    "\n",
    "def solution(A):\n",
    "    if len(A) == 0:\n",
    "        return -1\n",
    "    elif len(A) == 1:\n",
    "        return 0\n",
    "    \n",
    "    item_count = {}\n",
    "    for i in A:\n",
    "        if i not in item_count:\n",
    "            item_count[i] = 1\n",
    "        else:\n",
    "            item_count[i] += 1\n",
    "            \n",
    "    for item, count in item_count.items():\n",
    "        if count > len(A) // 2:\n",
    "            return A.index(item)\n",
    "    return -1\n",
    "\n",
    "if __name__ == \"__main__\":\n",
    "    print(solution([3,4,3,2,3,-1,3,3]))\n",
    "    "
   ]
  },
  {
   "cell_type": "code",
   "execution_count": null,
   "metadata": {
    "collapsed": true
   },
   "outputs": [],
   "source": [
    "'''\n",
    "A zero-indexed array A consisting of N integers is given. \n",
    "The dominator of array A is the value \n",
    "that occurs in more than half of the elements of A.\n",
    "\n",
    "For example, consider array A such that\n",
    "\n",
    " A[0] = 3    A[1] = 4    A[2] =  3\n",
    " A[3] = 2    A[4] = 3    A[5] = -1\n",
    " A[6] = 3    A[7] = 3\n",
    " \n",
    "The dominator of A is 3 because it occurs in 5 out of 8 \n",
    "elements of A (namely in those with indices 0, 2, 4, 6 and 7) \n",
    "and 5 is more than a half of 8.\n",
    "\n",
    "Write a function\n",
    "\n",
    "def solution(A)\n",
    "\n",
    "that, given a zero-indexed array A consisting of N integers, \n",
    "returns index of any element of array A in which the dominator of A occurs. \n",
    "The function should return −1 if array A does not have a dominator.\n",
    "\n",
    "Assume that:\n",
    "\n",
    "N is an integer within the range [0..100,000];\n",
    "each element of array A is an integer \n",
    "within the range [−2,147,483,648..2,147,483,647].\n",
    "For example, given array A such that\n",
    "\n",
    " A[0] = 3    A[1] = 4    A[2] =  3\n",
    " A[3] = 2    A[4] = 3    A[5] = -1\n",
    " A[6] = 3    A[7] = 3\n",
    "the function may return 0, 2, 4, 6 or 7, as explained above.\n",
    "\n",
    "Complexity:\n",
    "\n",
    "expected worst-case time complexity is O(N);\n",
    "expected worst-case space complexity is O(1), beyond input storage (not counting the storage required for input arguments).\n",
    "Elements of input arrays can be modified.'''"
   ]
  },
  {
   "cell_type": "code",
   "execution_count": null,
   "metadata": {
    "collapsed": true
   },
   "outputs": [],
   "source": []
  }
 ],
 "metadata": {
  "kernelspec": {
   "display_name": "Python 3",
   "language": "python",
   "name": "python3"
  },
  "language_info": {
   "codemirror_mode": {
    "name": "ipython",
    "version": 3
   },
   "file_extension": ".py",
   "mimetype": "text/x-python",
   "name": "python",
   "nbconvert_exporter": "python",
   "pygments_lexer": "ipython3",
   "version": "3.5.3"
  }
 },
 "nbformat": 4,
 "nbformat_minor": 2
}
