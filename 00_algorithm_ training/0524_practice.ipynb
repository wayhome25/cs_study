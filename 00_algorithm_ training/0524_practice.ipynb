{
 "cells": [
  {
   "cell_type": "code",
   "execution_count": 14,
   "metadata": {
    "collapsed": true
   },
   "outputs": [],
   "source": [
    "class Hamburger():\n",
    "    def __init__(self,name,price,calorie) :\n",
    "        self.name = name\n",
    "        self.price = price\n",
    "        self.calorie = calorie\n",
    "    @property\n",
    "    def price(self):\n",
    "        return self.__price\n",
    "    \n",
    "    @price.setter\n",
    "    def price(self, new_price):\n",
    "        self.__price = new_price\n",
    "        print(\"{}의 가격이 {}으로 변경되었습니다.\".format(self.name, self.__price))\n"
   ]
  },
  {
   "cell_type": "code",
   "execution_count": 15,
   "metadata": {},
   "outputs": [
    {
     "name": "stdout",
     "output_type": "stream",
     "text": [
      "bulgogi의 가격이 5500으로 변경되었습니다.\n",
      "bulgogi의 가격이 5000으로 변경되었습니다.\n"
     ]
    }
   ],
   "source": [
    "h1 = Hamburger('bulgogi', 5500, 450)\n",
    "h1.price = 5000"
   ]
  },
  {
   "cell_type": "code",
   "execution_count": 18,
   "metadata": {
    "collapsed": true
   },
   "outputs": [],
   "source": [
    "class Mcdonald(Hamburger):\n",
    "    def __init__(self, name, price, calorie, set):\n",
    "        super().__init__(name, price, calorie)\n",
    "        self.set = set\n",
    "        if self.set :\n",
    "            self.price += 1500\n",
    "            self.calorie += 150\n",
    "        "
   ]
  },
  {
   "cell_type": "code",
   "execution_count": 19,
   "metadata": {},
   "outputs": [
    {
     "name": "stdout",
     "output_type": "stream",
     "text": [
      "a의 가격이 1010으로 변경되었습니다.\n",
      "a의 가격이 2510으로 변경되었습니다.\n"
     ]
    }
   ],
   "source": [
    "m1 = Mcdonald('a', 1010, 250, True)"
   ]
  },
  {
   "cell_type": "code",
   "execution_count": 20,
   "metadata": {},
   "outputs": [
    {
     "name": "stdout",
     "output_type": "stream",
     "text": [
      "bigmac의 가격이 5500으로 변경되었습니다.\n",
      "bigmac의 가격이 7000으로 변경되었습니다.\n",
      "bigmac의 가격이 5000으로 변경되었습니다.\n"
     ]
    }
   ],
   "source": [
    "bigmac = Mcdonald('bigmac', 5500, 450, True)\n",
    "bigmac.price = 5000"
   ]
  },
  {
   "cell_type": "code",
   "execution_count": null,
   "metadata": {
    "collapsed": true
   },
   "outputs": [],
   "source": []
  },
  {
   "cell_type": "code",
   "execution_count": null,
   "metadata": {
    "collapsed": true
   },
   "outputs": [],
   "source": []
  },
  {
   "cell_type": "markdown",
   "metadata": {},
   "source": []
  }
 ],
 "metadata": {
  "kernelspec": {
   "display_name": "Python 3",
   "language": "python",
   "name": "python3"
  },
  "language_info": {
   "codemirror_mode": {
    "name": "ipython",
    "version": 3
   },
   "file_extension": ".py",
   "mimetype": "text/x-python",
   "name": "python",
   "nbconvert_exporter": "python",
   "pygments_lexer": "ipython3",
   "version": "3.6.0"
  }
 },
 "nbformat": 4,
 "nbformat_minor": 2
}
