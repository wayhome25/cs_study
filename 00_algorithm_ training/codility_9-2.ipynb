{
 "cells": [
  {
   "cell_type": "code",
   "execution_count": 16,
   "metadata": {
    "collapsed": true
   },
   "outputs": [],
   "source": [
    "# 풀이 - O(n^3)\n",
    "def solution(A):\n",
    "    if len(A) == 1 :\n",
    "        return A[0]\n",
    "    \n",
    "    li = []\n",
    "    for i in range(len(A)):\n",
    "        for j in range(i+1, len(A)+1):\n",
    "            li.append(sum(A[i:j]))\n",
    "    print(li)\n",
    "    return max(li)\n",
    "            "
   ]
  },
  {
   "cell_type": "code",
   "execution_count": 17,
   "metadata": {
    "scrolled": true
   },
   "outputs": [
    {
     "name": "stdout",
     "output_type": "stream",
     "text": [
      "[3, 5, -1, 3, 3, 2, -4, 0, 0, -6, -2, -2, 4, 4, 0]\n"
     ]
    },
    {
     "data": {
      "text/plain": [
       "5"
      ]
     },
     "execution_count": 17,
     "metadata": {},
     "output_type": "execute_result"
    }
   ],
   "source": [
    "solution([3,2,-6,4,0])\n",
    "solution([1,2])"
   ]
  },
  {
   "cell_type": "code",
   "execution_count": 19,
   "metadata": {
    "collapsed": true
   },
   "outputs": [],
   "source": [
    "# 풀이2 - 이 정도는 풀자!!\n",
    "\n",
    "def solution(A):\n",
    "    result = sum(A)\n",
    "    for i in range(len(A)):\n",
    "        sum_check = 0\n",
    "        for j in range(i, len(A)):\n",
    "            sum_check += A[j]\n",
    "            result = max(result, sum_check)\n",
    "    return result"
   ]
  },
  {
   "cell_type": "code",
   "execution_count": 21,
   "metadata": {},
   "outputs": [
    {
     "name": "stdout",
     "output_type": "stream",
     "text": [
      "5\n",
      "3\n"
     ]
    }
   ],
   "source": [
    "print(solution([3,2,-6,4,0]))\n",
    "print(solution([1,2]))"
   ]
  },
  {
   "cell_type": "code",
   "execution_count": null,
   "metadata": {
    "collapsed": true
   },
   "outputs": [],
   "source": []
  }
 ],
 "metadata": {
  "kernelspec": {
   "display_name": "Django Shell-Plus",
   "language": "python",
   "name": "django_extensions"
  },
  "language_info": {
   "codemirror_mode": {
    "name": "ipython",
    "version": 3
   },
   "file_extension": ".py",
   "mimetype": "text/x-python",
   "name": "python",
   "nbconvert_exporter": "python",
   "pygments_lexer": "ipython3",
   "version": "3.5.3"
  }
 },
 "nbformat": 4,
 "nbformat_minor": 2
}
