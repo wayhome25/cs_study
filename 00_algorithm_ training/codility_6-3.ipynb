{
 "cells": [
  {
   "cell_type": "code",
   "execution_count": null,
   "metadata": {
    "collapsed": true
   },
   "outputs": [],
   "source": [
    "# 3개의 숫자를 선택해서 곱이 가장 큰 경우의 결과 값을 리턴 대신  p < q < r\n",
    "# 양수만 선택 \n",
    "# 음수는 2개 선택 "
   ]
  },
  {
   "cell_type": "code",
   "execution_count": 15,
   "metadata": {},
   "outputs": [
    {
     "name": "stdout",
     "output_type": "stream",
     "text": [
      "60\n"
     ]
    }
   ],
   "source": [
    "# 풀이 1\n",
    "# 시간복잡도 O(N**3)\n",
    "from functools import reduce\n",
    "import itertools\n",
    "\n",
    "\n",
    "def solution(A):\n",
    "    li = []\n",
    "    for i in itertools.combinations(A, 3):\n",
    "        li.append(reduce(lambda x, y: x * y, i))\n",
    "    return max(li)\n",
    "\n",
    "\n",
    "if __name__ == \"__main__\":\n",
    "    test_li = [-3, 1, 2, -2, 5, 6]\n",
    "    result = solution(test_li)\n",
    "    print(result)"
   ]
  },
  {
   "cell_type": "code",
   "execution_count": 11,
   "metadata": {},
   "outputs": [
    {
     "name": "stdout",
     "output_type": "stream",
     "text": [
      "(-3, 1, 2)\n",
      "-6\n",
      "(-3, 1, 3)\n",
      "-9\n",
      "(-3, 2, 3)\n",
      "-18\n",
      "(1, 2, 3)\n",
      "6\n"
     ]
    }
   ],
   "source": [
    "from functools import reduce \n",
    "\n",
    "for i in itertools.combinations([-3,1,2,3],3):\n",
    "    print(i)\n",
    "    print(reduce(lambda x,y :x*y, i))"
   ]
  },
  {
   "cell_type": "code",
   "execution_count": 24,
   "metadata": {},
   "outputs": [
    {
     "data": {
      "text/plain": [
       "[-3, -2, 1, 2, 5, 6]"
      ]
     },
     "execution_count": 24,
     "metadata": {},
     "output_type": "execute_result"
    }
   ],
   "source": [
    "# 음수가 2개인 경우 : 음수 가장 작은 것 2개 * 가장 큰 양수 or 가장 큰 양수 3개\n",
    "# 음수가 3개 이상인 경우 :음수 가장 작은것 2개 * 가장 큰 양수 or 가장 큰 양수 3개\n",
    "# 음수가 1개 이하인 경우 : 가장 큰 양수 3개 \n",
    "\n",
    "test_li = [-3, 1, 2, -2, 5, 6]\n",
    "\n",
    "list(filter(lambda x : x < 0, test_li))\n",
    "test_li.sort()\n",
    "test_li"
   ]
  },
  {
   "cell_type": "code",
   "execution_count": 32,
   "metadata": {},
   "outputs": [
    {
     "name": "stdout",
     "output_type": "stream",
     "text": [
      "60\n"
     ]
    }
   ],
   "source": [
    "# 풀이 3\n",
    "# 시간복잡도 : O(N * log(N))\n",
    "# 가장 작은 음수 2개의 곱 * 가장 큰 양수 or 가장 큰 양수 3개의 곱 중에서 큰 값을 리턴 \n",
    "\n",
    "def solution(A):\n",
    "    A.sort()\n",
    "    return max(A[-1] * A[-2] * A[-3], A[0] * A[1] * A[-1])\n",
    "\n",
    "if __name__ == \"__main__\":\n",
    "    test_li = [-3, 1, 2, -2, 5, 6]\n",
    "    result = solution(test_li)\n",
    "    print(result)"
   ]
  },
  {
   "cell_type": "code",
   "execution_count": null,
   "metadata": {
    "collapsed": true
   },
   "outputs": [],
   "source": []
  }
 ],
 "metadata": {
  "kernelspec": {
   "display_name": "Python 3",
   "language": "python",
   "name": "python3"
  },
  "language_info": {
   "codemirror_mode": {
    "name": "ipython",
    "version": 3
   },
   "file_extension": ".py",
   "mimetype": "text/x-python",
   "name": "python",
   "nbconvert_exporter": "python",
   "pygments_lexer": "ipython3",
   "version": "3.5.3"
  }
 },
 "nbformat": 4,
 "nbformat_minor": 2
}
