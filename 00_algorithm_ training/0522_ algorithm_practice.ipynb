{
 "cells": [
  {
   "cell_type": "code",
   "execution_count": null,
   "metadata": {
    "collapsed": true
   },
   "outputs": [],
   "source": [
    "'''\n",
    "리스트 컴프리헨션을 사용하여 홀수 단만 “{} * {} = {}” 형식으로 \n",
    "출력하는 make_gugu()함수를 만드세요\n",
    "'''"
   ]
  },
  {
   "cell_type": "code",
   "execution_count": 1,
   "metadata": {},
   "outputs": [
    {
     "data": {
      "text/plain": [
       "['3 * 1 = 3',\n",
       " '3 * 2 = 6',\n",
       " '3 * 3 = 9',\n",
       " '3 * 4 = 12',\n",
       " '3 * 5 = 15',\n",
       " '3 * 6 = 18',\n",
       " '3 * 7 = 21',\n",
       " '3 * 8 = 24',\n",
       " '3 * 9 = 27',\n",
       " '5 * 1 = 5',\n",
       " '5 * 2 = 10',\n",
       " '5 * 3 = 15',\n",
       " '5 * 4 = 20',\n",
       " '5 * 5 = 25',\n",
       " '5 * 6 = 30',\n",
       " '5 * 7 = 35',\n",
       " '5 * 8 = 40',\n",
       " '5 * 9 = 45',\n",
       " '7 * 1 = 7',\n",
       " '7 * 2 = 14',\n",
       " '7 * 3 = 21',\n",
       " '7 * 4 = 28',\n",
       " '7 * 5 = 35',\n",
       " '7 * 6 = 42',\n",
       " '7 * 7 = 49',\n",
       " '7 * 8 = 56',\n",
       " '7 * 9 = 63',\n",
       " '9 * 1 = 9',\n",
       " '9 * 2 = 18',\n",
       " '9 * 3 = 27',\n",
       " '9 * 4 = 36',\n",
       " '9 * 5 = 45',\n",
       " '9 * 6 = 54',\n",
       " '9 * 7 = 63',\n",
       " '9 * 8 = 72',\n",
       " '9 * 9 = 81']"
      ]
     },
     "execution_count": 1,
     "metadata": {},
     "output_type": "execute_result"
    }
   ],
   "source": [
    "[\"{} * {} = {}\".format(x, y, x*y) for x in range(2,10) for y in range(1,10) if x % 2]"
   ]
  },
  {
   "cell_type": "code",
   "execution_count": null,
   "metadata": {},
   "outputs": [],
   "source": [
    "'''\n",
    "2. Level은 어떤 숫자가 출력되고 왜 그 숫자가 출력되는지 설명하시오.\n",
    "\n",
    "level = 0\n",
    "\n",
    "def local1(): \n",
    "    level = 20 \n",
    "    \n",
    "def local2(): \n",
    "    global level \n",
    "    level += 3\n",
    "\n",
    "local1()\n",
    "print(level) \n",
    "# \n",
    "정답 : 0, \n",
    "이유 : local1 함수는 별도의 리턴값이 없다  \n",
    "'''"
   ]
  },
  {
   "cell_type": "code",
   "execution_count": 6,
   "metadata": {},
   "outputs": [
    {
     "name": "stdout",
     "output_type": "stream",
     "text": [
      "0\n"
     ]
    }
   ],
   "source": [
    "level = 0\n",
    "\n",
    "def local1(): \n",
    "    level = 20 \n",
    "    \n",
    "    def local2(): \n",
    "        global level \n",
    "        level += 3\n",
    "\n",
    "local1()\n",
    "print(level) "
   ]
  },
  {
   "cell_type": "code",
   "execution_count": null,
   "metadata": {
    "collapsed": true
   },
   "outputs": [],
   "source": [
    "'''\n",
    "plus함수(1)를 이용해서 print_plus(a,b) 함수를 실행 하였을 때 \n",
    "(2) 결과처럼 작동하게 작성하시오. \n",
    "\n",
    "(1) def plus(a,b): \n",
    "        return a + b\n",
    "(2) \n",
    "함수 시작 \n",
    "(a와b를 더한 값이 나와야 함)  ex: a=3, b=6 이면 9가 들어가야 함 함수 끝\n",
    "함수 끝\n",
    "'''"
   ]
  },
  {
   "cell_type": "code",
   "execution_count": 36,
   "metadata": {},
   "outputs": [],
   "source": [
    "def plus(a, b):\n",
    "    return a + b\n",
    "\n",
    "def print_plus(a, b):\n",
    "    return '함수 시작 {} 함수 끝'.format(plus(a, b))"
   ]
  },
  {
   "cell_type": "code",
   "execution_count": 37,
   "metadata": {
    "scrolled": true
   },
   "outputs": [
    {
     "data": {
      "text/plain": [
       "'함수 시작 7 함수 끝'"
      ]
     },
     "execution_count": 37,
     "metadata": {},
     "output_type": "execute_result"
    }
   ],
   "source": [
    "print_plus(5,2)"
   ]
  },
  {
   "cell_type": "code",
   "execution_count": null,
   "metadata": {
    "collapsed": true
   },
   "outputs": [],
   "source": [
    "'''\n",
    "3번의 print_plus 사용하여 plus의 데코레이터로 동작하게끔 작성하시오. \n",
    "Ex) \n",
    "@print_plus \n",
    "def plus(a,b): \n",
    "    return a + b \n",
    "\n",
    "plus(3,5) \n",
    "# 결과: 함수 시작 8 함수 끝\n",
    "'''"
   ]
  },
  {
   "cell_type": "code",
   "execution_count": 43,
   "metadata": {},
   "outputs": [
    {
     "data": {
      "text/plain": [
       "'시작 3 끝'"
      ]
     },
     "execution_count": 43,
     "metadata": {},
     "output_type": "execute_result"
    }
   ],
   "source": [
    "def print_plus(func):\n",
    "    def wrap(a, b):\n",
    "        return '시작 {} 끝'.format(func(a, b))\n",
    "\n",
    "    return wrap\n",
    "\n",
    "@print_plus\n",
    "def plus(a,b):\n",
    "    return a + b\n",
    "\n",
    "plus(1,2)"
   ]
  },
  {
   "cell_type": "code",
   "execution_count": null,
   "metadata": {},
   "outputs": [],
   "source": [
    "'''\n",
    "순차검색을 구현하시오. \n",
    "1. 1~100 의 숫자를 가지는 리스트를 생성 후 무작위로 섞어주세요. \n",
    "2. sequential(list, num) 함수를 생성해주세요 \n",
    "3. num이 list에 있으면 위치를 반환하고 없으면 “없습니다”. 반환해주세요\n",
    "'''"
   ]
  },
  {
   "cell_type": "code",
   "execution_count": 55,
   "metadata": {},
   "outputs": [
    {
     "data": {
      "text/plain": [
       "[2, 10, 1, 7, 5, 8, 4, 6, 3, 9]"
      ]
     },
     "execution_count": 55,
     "metadata": {},
     "output_type": "execute_result"
    }
   ],
   "source": [
    "# 방법 1 - 1~100 의 숫자를 가지는 리스트를 생성 후 무작위로 섞어주세요. \n",
    "random.sample(range(1,11),10)"
   ]
  },
  {
   "cell_type": "code",
   "execution_count": 68,
   "metadata": {},
   "outputs": [
    {
     "data": {
      "text/plain": [
       "[4, 9, 5, 1, 2, 3, 8, 6, 0, 7]"
      ]
     },
     "execution_count": 68,
     "metadata": {},
     "output_type": "execute_result"
    }
   ],
   "source": [
    "# 방법 2 - 1~100 의 숫자를 가지는 리스트를 생성 후 무작위로 섞어주세요. \n",
    "a = list(range(10))\n",
    "random.shuffle(a)\n",
    "a "
   ]
  },
  {
   "cell_type": "code",
   "execution_count": 77,
   "metadata": {
    "collapsed": true
   },
   "outputs": [],
   "source": [
    "li = random.sample(range(1,101),100)\n",
    "def sequential(li, num):\n",
    "    print(li)\n",
    "    return li.index(num) if num in li else '없습니다'\n"
   ]
  },
  {
   "cell_type": "code",
   "execution_count": 79,
   "metadata": {},
   "outputs": [
    {
     "name": "stdout",
     "output_type": "stream",
     "text": [
      "[50, 15, 82, 10, 46, 24, 19, 32, 60, 83, 61, 18, 43, 51, 100, 33, 58, 96, 99, 55, 52, 87, 39, 75, 67, 13, 57, 42, 63, 36, 38, 22, 21, 35, 5, 53, 25, 6, 16, 90, 78, 34, 41, 98, 14, 23, 91, 74, 56, 86, 20, 93, 94, 65, 68, 89, 3, 37, 31, 84, 48, 40, 26, 97, 12, 45, 47, 8, 69, 54, 62, 7, 77, 76, 4, 88, 92, 9, 1, 80, 29, 27, 81, 64, 17, 59, 30, 44, 72, 71, 79, 70, 2, 49, 85, 66, 28, 11, 95, 73]\n"
     ]
    },
    {
     "data": {
      "text/plain": [
       "0"
      ]
     },
     "execution_count": 79,
     "metadata": {},
     "output_type": "execute_result"
    }
   ],
   "source": [
    "sequential(li, 50)"
   ]
  },
  {
   "cell_type": "code",
   "execution_count": null,
   "metadata": {
    "collapsed": true
   },
   "outputs": [],
   "source": []
  }
 ],
 "metadata": {
  "kernelspec": {
   "display_name": "Python 3",
   "language": "python",
   "name": "python3"
  },
  "language_info": {
   "codemirror_mode": {
    "name": "ipython",
    "version": 3
   },
   "file_extension": ".py",
   "mimetype": "text/x-python",
   "name": "python",
   "nbconvert_exporter": "python",
   "pygments_lexer": "ipython3",
   "version": "3.6.0"
  }
 },
 "nbformat": 4,
 "nbformat_minor": 2
}
