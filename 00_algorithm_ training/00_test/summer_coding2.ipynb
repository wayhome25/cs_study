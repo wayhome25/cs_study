{
 "cells": [
  {
   "cell_type": "code",
   "execution_count": 39,
   "metadata": {
    "collapsed": true
   },
   "outputs": [],
   "source": [
    "def solution(n, stations, w):\n",
    "    check_li = [False] * n\n",
    "    for i in stations:\n",
    "        i -= 1\n",
    "        if i == 0:\n",
    "            for j in range(i+1+w):\n",
    "                check_li[j] = True\n",
    "\n",
    "        elif i == len(check_li)-1:\n",
    "             for j in range(i-w, i+w):\n",
    "                if j < 0 or j >= len(check_li):\n",
    "                    continue\n",
    "                check_li[j] = True\n",
    "\n",
    "        else:\n",
    "            for j in range(i-w, i+1+w):\n",
    "                check_li[j] = True\n",
    "                \n",
    "    print(check_li, check_li.count(False)) \n",
    "    return check_li.count(False) % w + 1"
   ]
  },
  {
   "cell_type": "code",
   "execution_count": 44,
   "metadata": {},
   "outputs": [
    {
     "name": "stdout",
     "output_type": "stream",
     "text": [
      "[False, False, False, False, False, False, True, True, True, True, True, False, False, False, False, False] 11\n"
     ]
    },
    {
     "data": {
      "text/plain": [
       "2"
      ]
     },
     "execution_count": 44,
     "metadata": {},
     "output_type": "execute_result"
    }
   ],
   "source": [
    "solution(16, [9], 2)"
   ]
  },
  {
   "cell_type": "code",
   "execution_count": 3,
   "metadata": {
    "collapsed": true
   },
   "outputs": [],
   "source": [
    "def solution(n, stations, w):\n",
    "    check_li = [False] * n\n",
    "    for i in stations:\n",
    "        i -= 1\n",
    "        if i == 0:\n",
    "            for j in range(i+1+w):\n",
    "                check_li[j] = True\n",
    "\n",
    "        elif i == len(check_li)-1:\n",
    "             for j in range(i-w, i+w):\n",
    "                if j < 0 or j >= len(check_li):\n",
    "                    continue\n",
    "                check_li[j] = True\n",
    "\n",
    "        else:\n",
    "            for j in range(i-w, i+1+w):\n",
    "                check_li[j] = True\n",
    "                \n",
    "    print(check_li, check_li.count(False)) \n",
    "    answer = 0\n",
    "    \n",
    "    li2 = []\n",
    "    for idx, val in enumerate(check_li):\n",
    "        if val == False:\n",
    "            li2.append(idx)\n",
    "            \n",
    "    from itertools import groupby\n",
    "    from operator import itemgetter\n",
    "\n",
    "    answer = 0\n",
    "    \n",
    "    for k, g in groupby(enumerate(li2), lambda ix : ix[0] - ix[1]):\n",
    "        print(list(list(map(itemgetter(1), g))))\n",
    "        l = len(list(list(map(itemgetter(1), g))))\n",
    "        answer += (l // w*2+1) + (l % w*2+1)\n",
    "    \n",
    "    return answer"
   ]
  },
  {
   "cell_type": "code",
   "execution_count": 4,
   "metadata": {},
   "outputs": [
    {
     "name": "stdout",
     "output_type": "stream",
     "text": [
      "[False, False, False, False, False, False, True, True, True, True, True, False, False, False, False, False] 11\n",
      "[0, 1, 2, 3, 4, 5]\n",
      "[11, 12, 13, 14, 15]\n"
     ]
    },
    {
     "data": {
      "text/plain": [
       "4"
      ]
     },
     "execution_count": 4,
     "metadata": {},
     "output_type": "execute_result"
    }
   ],
   "source": [
    "solution(16, [9], 2)"
   ]
  },
  {
   "cell_type": "code",
   "execution_count": null,
   "metadata": {
    "collapsed": true
   },
   "outputs": [],
   "source": []
  },
  {
   "cell_type": "code",
   "execution_count": null,
   "metadata": {
    "collapsed": true
   },
   "outputs": [],
   "source": []
  }
 ],
 "metadata": {
  "kernelspec": {
   "display_name": "Python 3",
   "language": "python",
   "name": "python3"
  },
  "language_info": {
   "codemirror_mode": {
    "name": "ipython",
    "version": 3
   },
   "file_extension": ".py",
   "mimetype": "text/x-python",
   "name": "python",
   "nbconvert_exporter": "python",
   "pygments_lexer": "ipython3",
   "version": "3.6.0"
  }
 },
 "nbformat": 4,
 "nbformat_minor": 2
}
