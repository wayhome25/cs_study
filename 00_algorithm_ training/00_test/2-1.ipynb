{
 "cells": [
  {
   "cell_type": "code",
   "execution_count": 244,
   "metadata": {},
   "outputs": [],
   "source": [
    "import sys\n",
    "def solution(A, K):\n",
    "    width = len(str(max(A)))\n",
    "    height_num = len(A) // K if not len(A) % K else len(A) // K + 1\n",
    "    height = height_num * 2 + 1\n",
    "    print(height_num, height)\n",
    "    for i in range(height):\n",
    "        if i % 2 == 0 or i == 0:\n",
    "            sys.stdout.write('+'+('-'*width+'+')*K+'\\n')\n",
    "        elif i % 2 == 1: \n",
    "            sys.stdout.write('|')\n",
    "            if i == 1:\n",
    "                for i in A[(i-1):(i-1)+K]:\n",
    "                    sys.stdout.write(' '*(width-len(str(i)))+str(i)+'|')\n",
    "            if i != 1 :\n",
    "                for i in A[(i+i-2):(i+i-2)+K]:\n",
    "                    sys.stdout.write(' '*(width-len(str(i)))+str(i)+'|')\n",
    "            sys.stdout.write('\\n')"
   ]
  },
  {
   "cell_type": "code",
   "execution_count": 245,
   "metadata": {},
   "outputs": [
    {
     "name": "stdout",
     "output_type": "stream",
     "text": [
      "2 5\n",
      "+--+--+--+\n",
      "|12| 3| 4|\n",
      "+--+--+--+\n",
      "| 2|\n",
      "+--+--+--+\n"
     ]
    }
   ],
   "source": [
    "solution([12,3,4,1,2],3)"
   ]
  },
  {
   "cell_type": "code",
   "execution_count": 246,
   "metadata": {},
   "outputs": [
    {
     "name": "stdout",
     "output_type": "stream",
     "text": [
      "1 3\n",
      "+-----+-----+-----+-----+-----+-----+-----+-----+-----+-----+\n",
      "|    4|   35|   80|  123|12345|   44|    8|    5|\n",
      "+-----+-----+-----+-----+-----+-----+-----+-----+-----+-----+\n"
     ]
    }
   ],
   "source": [
    "solution([4, 35, 80, 123, 12345, 44, 8, 5], 10)"
   ]
  },
  {
   "cell_type": "code",
   "execution_count": 99,
   "metadata": {},
   "outputs": [
    {
     "data": {
      "text/plain": [
       "3"
      ]
     },
     "execution_count": 99,
     "metadata": {},
     "output_type": "execute_result"
    }
   ],
   "source": [
    "len(a[0:3])"
   ]
  },
  {
   "cell_type": "code",
   "execution_count": 250,
   "metadata": {},
   "outputs": [],
   "source": [
    "import sys\n",
    "def solution(A, K):\n",
    "    width = len(str(max(A)))\n",
    "    height_num = len(A) // K if not len(A) % K else len(A) // K + 1\n",
    "    height = height_num * 2 + 1\n",
    "    print(height_num, height)\n",
    "    for i in range(height):\n",
    "        if i % 2 == 0 or i == 0:\n",
    "            sys.stdout.write('+'+('-'*width+'+')*K+'\\n')\n",
    "        elif i % 2 == 1: \n",
    "            sys.stdout.write('|')\n",
    "            if i == 1:\n",
    "                for i in A[(i-1):(i-1)+K]:\n",
    "                    sys.stdout.write(' '*(width-len(str(i)))+str(i))\n",
    "                    sys.stdout.write('|')\n",
    "            if i != 1 :\n",
    "                for i in A[(i+i-2):(i+i-2)+K]:\n",
    "                    sys.stdout.write(' '*(width-len(str(i)))+str(i))\n",
    "                    sys.stdout.write('|')\n",
    "                    if not i:\n",
    "                \n",
    "                        sys.stdout.write(' '*(width)+str(i))\n",
    "                        sys.stdout.write('|')\n",
    "\n",
    "                if len(A[(i+i-2):(i+i-2)+K]) == K:\n",
    "                    for j in range(K - len(A[(i+i-2):(i+i-2)+K])):\n",
    "                        sys.stdout.write('|')\n",
    "                        print('dd')\n",
    "\n",
    "            sys.stdout.write('\\n')\n"
   ]
  },
  {
   "cell_type": "code",
   "execution_count": 251,
   "metadata": {},
   "outputs": [
    {
     "name": "stdout",
     "output_type": "stream",
     "text": [
      "1 3\n",
      "+-----+-----+-----+-----+-----+-----+-----+-----+-----+-----+\n",
      "|    4|   35|   80|  123|12345|   44|    8|    5|\n",
      "+-----+-----+-----+-----+-----+-----+-----+-----+-----+-----+\n"
     ]
    }
   ],
   "source": [
    "solution([4, 35, 80, 123, 12345, 44, 8, 5], 10)"
   ]
  },
  {
   "cell_type": "code",
   "execution_count": 252,
   "metadata": {},
   "outputs": [
    {
     "name": "stdout",
     "output_type": "stream",
     "text": [
      "3 7\n",
      "+-----+-----+-----+-----+\n",
      "|    4|   35|   80|  123|\n",
      "+-----+-----+-----+-----+\n",
      "|12345|   44|    8|    5|\n",
      "+-----+-----+-----+-----+\n",
      "|   24|    3|\n",
      "+-----+-----+-----+-----+\n"
     ]
    }
   ],
   "source": [
    "solution([4, 35, 80, 123, 12345, 44, 8, 5, 24, 3], 4)"
   ]
  },
  {
   "cell_type": "code",
   "execution_count": 199,
   "metadata": {},
   "outputs": [
    {
     "data": {
      "text/plain": [
       "True"
      ]
     },
     "execution_count": 199,
     "metadata": {},
     "output_type": "execute_result"
    }
   ],
   "source": [
    "'abc!'.endswith('!')"
   ]
  },
  {
   "cell_type": "code",
   "execution_count": null,
   "metadata": {
    "collapsed": true
   },
   "outputs": [],
   "source": []
  }
 ],
 "metadata": {
  "kernelspec": {
   "display_name": "Python 3",
   "language": "python",
   "name": "python3"
  },
  "language_info": {
   "codemirror_mode": {
    "name": "ipython",
    "version": 3
   },
   "file_extension": ".py",
   "mimetype": "text/x-python",
   "name": "python",
   "nbconvert_exporter": "python",
   "pygments_lexer": "ipython3",
   "version": "3.5.3"
  }
 },
 "nbformat": 4,
 "nbformat_minor": 2
}
