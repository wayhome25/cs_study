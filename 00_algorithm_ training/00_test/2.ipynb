{
 "cells": [
  {
   "cell_type": "code",
   "execution_count": 50,
   "metadata": {},
   "outputs": [
    {
     "name": "stdout",
     "output_type": "stream",
     "text": [
      "+---+\n",
      "| 10|\n",
      "+---+\n",
      "\n"
     ]
    }
   ],
   "source": [
    "a = 10\n",
    "print('+'+'-'*3+'+\\n'\n",
    "      '|'+' '*1+str(a)+'|\\n'\n",
    "      '+'+'-'*3+'+\\n')"
   ]
  },
  {
   "cell_type": "code",
   "execution_count": 51,
   "metadata": {},
   "outputs": [],
   "source": [
    "def solution(A, K):\n",
    "    width = len(str(max(A)))\n",
    "    height = len(A) // 2 if not len(A) % 2 else len(A) // 2 + 1\n",
    "    for idx, val in enumerate(A):\n",
    "        length = int(len(str(val)))\n",
    "        if idx % K == 0 and idx != 0:\n",
    "            pass\n",
    "        if idx == 0:\n",
    "            print('+'+'-'*width+'+\\n'\n",
    "                  '|'+' '*width-length+str(val)+'|\\n'\n",
    "                  '+'+'-'*width+'+\\n')\n",
    "            \n",
    "            "
   ]
  },
  {
   "cell_type": "code",
   "execution_count": 52,
   "metadata": {},
   "outputs": [
    {
     "ename": "TypeError",
     "evalue": "unsupported operand type(s) for -: 'str' and 'int'",
     "output_type": "error",
     "traceback": [
      "\u001b[0;31m---------------------------------------------------------------------------\u001b[0m",
      "\u001b[0;31mTypeError\u001b[0m                                 Traceback (most recent call last)",
      "\u001b[0;32m<ipython-input-52-8110118380af>\u001b[0m in \u001b[0;36m<module>\u001b[0;34m()\u001b[0m\n\u001b[0;32m----> 1\u001b[0;31m \u001b[0msolution\u001b[0m\u001b[0;34m(\u001b[0m\u001b[0;34m[\u001b[0m\u001b[0;36m100\u001b[0m\u001b[0;34m]\u001b[0m\u001b[0;34m,\u001b[0m\u001b[0;36m1\u001b[0m\u001b[0;34m)\u001b[0m\u001b[0;34m\u001b[0m\u001b[0m\n\u001b[0m",
      "\u001b[0;32m<ipython-input-51-797422517673>\u001b[0m in \u001b[0;36msolution\u001b[0;34m(A, K)\u001b[0m\n\u001b[1;32m      9\u001b[0m             print('+'+'-'*width+'+\\n'\n\u001b[1;32m     10\u001b[0m                   \u001b[0;34m'|'\u001b[0m\u001b[0;34m+\u001b[0m\u001b[0;34m' '\u001b[0m\u001b[0;34m*\u001b[0m\u001b[0mwidth\u001b[0m\u001b[0;34m-\u001b[0m\u001b[0mlength\u001b[0m\u001b[0;34m+\u001b[0m\u001b[0mstr\u001b[0m\u001b[0;34m(\u001b[0m\u001b[0mval\u001b[0m\u001b[0;34m)\u001b[0m\u001b[0;34m+\u001b[0m\u001b[0;34m'|\\n'\u001b[0m\u001b[0;34m\u001b[0m\u001b[0m\n\u001b[0;32m---> 11\u001b[0;31m                   '+'+'-'*width+'+\\n')\n\u001b[0m\u001b[1;32m     12\u001b[0m \u001b[0;34m\u001b[0m\u001b[0m\n\u001b[1;32m     13\u001b[0m \u001b[0;34m\u001b[0m\u001b[0m\n",
      "\u001b[0;31mTypeError\u001b[0m: unsupported operand type(s) for -: 'str' and 'int'"
     ]
    }
   ],
   "source": [
    "solution([100],1)"
   ]
  },
  {
   "cell_type": "code",
   "execution_count": 13,
   "metadata": {},
   "outputs": [
    {
     "data": {
      "text/plain": [
       "1"
      ]
     },
     "execution_count": 13,
     "metadata": {},
     "output_type": "execute_result"
    }
   ],
   "source": [
    "len(str(1))"
   ]
  },
  {
   "cell_type": "code",
   "execution_count": 48,
   "metadata": {
    "collapsed": true
   },
   "outputs": [],
   "source": [
    "import sys\n",
    "def solution(A, K):\n",
    "    width = len(str(max(A)))\n",
    "    height = len(A) // 2 if not len(A) % 2 else len(A) // 2 + 1\n",
    "    for idx, val in enumerate(A):\n",
    "        length = int(len(str(val)))\n",
    "        if idx % K == 0 and idx != 0:\n",
    "            pass\n",
    "        if idx == 0:\n",
    "            sys.stdout.write('+'+'-'*width+'+\\n'\n",
    "                  '|'+' '*(width-length)+str(val)+'|\\n'\n",
    "                  '+'+'-'*width+'+')\n",
    "        if idx != 0 and idx % K and idx < K:\n",
    "            sys.stdout.write('d')\n",
    "            \n",
    "            "
   ]
  },
  {
   "cell_type": "code",
   "execution_count": 49,
   "metadata": {},
   "outputs": [
    {
     "name": "stdout",
     "output_type": "stream",
     "text": [
      "+---+\n",
      "|100|\n",
      "+---+d"
     ]
    }
   ],
   "source": [
    "solution([100, 3],2)"
   ]
  },
  {
   "cell_type": "code",
   "execution_count": 45,
   "metadata": {},
   "outputs": [
    {
     "name": "stdout",
     "output_type": "stream",
     "text": [
      "sample stringwhole line\n"
     ]
    }
   ],
   "source": [
    "import sys\n",
    "sys.stdout.write(\"sample string\")\n",
    "sys.stdout.write(\"whole line\\n\")"
   ]
  },
  {
   "cell_type": "code",
   "execution_count": null,
   "metadata": {
    "collapsed": true
   },
   "outputs": [],
   "source": []
  }
 ],
 "metadata": {
  "kernelspec": {
   "display_name": "Python 3",
   "language": "python",
   "name": "python3"
  },
  "language_info": {
   "codemirror_mode": {
    "name": "ipython",
    "version": 3
   },
   "file_extension": ".py",
   "mimetype": "text/x-python",
   "name": "python",
   "nbconvert_exporter": "python",
   "pygments_lexer": "ipython3",
   "version": "3.5.3"
  }
 },
 "nbformat": 4,
 "nbformat_minor": 2
}
