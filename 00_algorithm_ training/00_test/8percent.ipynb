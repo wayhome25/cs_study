{
 "cells": [
  {
   "cell_type": "markdown",
   "metadata": {},
   "source": [
    "[출처](https://getpocket.com/a/read/1341314279)\n",
    "\n",
    "일련의 숫자가 있고, 이 숫자는 1씩 증가, 또는 감소한다. n번째의 숫자가 있을 시에, 이 숫자가 7의 배수(7, 14, 21,...)거나 7이란 숫자를 포함할 시에 (7, 17, 27,...) 방향을 바꾼다.\n",
    "\n",
    "즉, 1, 2, 3, 4, 5, 6, [7], 6, 5, 4, 3, 2, 1, [0], 1, 2, [3], 2, 1, 0, [-1], 0, 1\n",
    "\n",
    "과 같이 숫자는 진행한다. (첫 번째 7은 7번째, 두 번째 0은 14번째, 세 번째 3은 17번째, 네 번째 -1은 21번째)\n",
    "\n",
    "다음의 제약 하에 pingpong(x)의 함수를 작성하라. 예시의 인풋과 아웃풋은 다음과 같다.\n",
    "\n",
    "pingpong(8) = 6\n",
    "pingpong(22) = 0\n",
    "pingpong(68) = 2\n",
    "pingpong(100) = 2"
   ]
  },
  {
   "cell_type": "code",
   "execution_count": 109,
   "metadata": {},
   "outputs": [],
   "source": [
    "# 풀이 1 : For Loop 사용, Assignment 사용, String 사용\n",
    "def pingpong(x):\n",
    "    result = 0\n",
    "    status = True\n",
    "    for i in range(1, x+1):            \n",
    "        if status:\n",
    "            result += 1\n",
    "        else:\n",
    "            result -= 1\n",
    "            \n",
    "        if not i % 7 or \"7\" in str(i):\n",
    "            status = not status\n",
    "            \n",
    "    return result"
   ]
  },
  {
   "cell_type": "code",
   "execution_count": 110,
   "metadata": {},
   "outputs": [
    {
     "name": "stdout",
     "output_type": "stream",
     "text": [
      "6\n",
      "0\n",
      "2\n",
      "2\n"
     ]
    }
   ],
   "source": [
    "print(pingpong(8))\n",
    "print(pingpong(22))\n",
    "print(pingpong(68))\n",
    "print(pingpong(100))"
   ]
  },
  {
   "cell_type": "markdown",
   "metadata": {},
   "source": [
    "- For Loop 또는 Array 를 쓰지 말 것.\n",
    "- Assignment 를 쓰지 말 것. 즉, 변수 할당을 하지 말 것.\n",
    "- String 을 쓰지 말 것."
   ]
  },
  {
   "cell_type": "code",
   "execution_count": 111,
   "metadata": {},
   "outputs": [
    {
     "ename": "IndentationError",
     "evalue": "expected an indented block (<ipython-input-111-f0608ac721e7>, line 9)",
     "output_type": "error",
     "traceback": [
      "\u001b[0;36m  File \u001b[0;32m\"<ipython-input-111-f0608ac721e7>\"\u001b[0;36m, line \u001b[0;32m9\u001b[0m\n\u001b[0;31m    return 2 * pingpong(n-1) - pingpong(n-2)\u001b[0m\n\u001b[0m         ^\u001b[0m\n\u001b[0;31mIndentationError\u001b[0m\u001b[0;31m:\u001b[0m expected an indented block\n"
     ]
    }
   ],
   "source": [
    "def pingpong(n):\n",
    "    if n == 1:\n",
    "        return 1\n",
    "    elif n == 2:\n",
    "        return 2\n",
    "    else:\n",
    "        if: (n-1) % 7 == 0 or (n-1) % 10 == 7 or \n",
    "    # 더히기 - 7의 배수, \n",
    "        return 2 * pingpong(n-1) - pingpong(n-2)\n",
    "\n"
   ]
  },
  {
   "cell_type": "code",
   "execution_count": 102,
   "metadata": {},
   "outputs": [],
   "source": [
    "from functools import reduce\n",
    "\n",
    "def direction(n, d):\n",
    "    if str(n).find('7') > -1 or n % 7 == 0:\n",
    "        return d * -1 # 조건에 맞으면 \n",
    "    return d # 아니면 \n",
    "\n",
    "def func(x, y):\n",
    "    \"\"\" x = [sum, direction] \"\"\"\n",
    "    return [x[0]+x[1], direction(y, x[1])]\n",
    "\n",
    "def pingpong(n):\n",
    "    return reduce(func, range(1, n+1), [0,1])[0]"
   ]
  },
  {
   "cell_type": "code",
   "execution_count": 103,
   "metadata": {},
   "outputs": [
    {
     "name": "stdout",
     "output_type": "stream",
     "text": [
      "6\n",
      "0\n",
      "2\n",
      "2\n"
     ]
    }
   ],
   "source": [
    "print(pingpong(8))\n",
    "print(pingpong(22))\n",
    "print(pingpong(68))\n",
    "print(pingpong(100))"
   ]
  },
  {
   "cell_type": "code",
   "execution_count": 118,
   "metadata": {},
   "outputs": [],
   "source": [
    "# 풀이 2 - String 사용\n",
    "def status(number, direction):\n",
    "    if '7' in str(number) or not number % 7:\n",
    "        return direction * -1\n",
    "    return direction\n",
    "\n",
    "def pingpong(number):\n",
    "    return reduce(lambda x,y: (x[0]+x[1], direction(y, x[1])), range(1, number+1), (0,1))[0]"
   ]
  },
  {
   "cell_type": "code",
   "execution_count": 108,
   "metadata": {},
   "outputs": [
    {
     "name": "stdout",
     "output_type": "stream",
     "text": [
      "6\n",
      "0\n",
      "2\n",
      "2\n"
     ]
    }
   ],
   "source": [
    "print(pingpong(8))\n",
    "print(pingpong(22))\n",
    "print(pingpong(68))\n",
    "print(pingpong(100))"
   ]
  },
  {
   "cell_type": "code",
   "execution_count": 123,
   "metadata": {},
   "outputs": [
    {
     "data": {
      "text/plain": [
       "2"
      ]
     },
     "execution_count": 123,
     "metadata": {},
     "output_type": "execute_result"
    }
   ],
   "source": [
    "327 % 100 // 10"
   ]
  },
  {
   "cell_type": "code",
   "execution_count": 132,
   "metadata": {
    "collapsed": true
   },
   "outputs": [],
   "source": [
    "def check_seven(n):\n",
    "#     return n % 1000 % 7 # 천의자리\n",
    "    return n % 1000 // 100 % 7 # 백의자리 \n",
    "\n",
    "n = "
   ]
  },
  {
   "cell_type": "code",
   "execution_count": 133,
   "metadata": {},
   "outputs": [
    {
     "data": {
      "text/plain": [
       "0"
      ]
     },
     "execution_count": 133,
     "metadata": {},
     "output_type": "execute_result"
    }
   ],
   "source": [
    "check_seven(7773)"
   ]
  },
  {
   "cell_type": "code",
   "execution_count": 206,
   "metadata": {},
   "outputs": [
    {
     "data": {
      "text/plain": [
       "0"
      ]
     },
     "execution_count": 206,
     "metadata": {},
     "output_type": "execute_result"
    }
   ],
   "source": [
    "import math\n",
    "\n",
    "def length(n):\n",
    "    return int(math.log10(n)) # 자릿수 구하기\n",
    "\n",
    "length(1)"
   ]
  },
  {
   "cell_type": "code",
   "execution_count": 286,
   "metadata": {},
   "outputs": [],
   "source": [
    "# while(lenght(n)!=0): # 1의 자리가 될 때 까지\n",
    "#     n % 1 // \n",
    "\n",
    "def f(n):\n",
    "    print(n)\n",
    "    if length(n) == 0:\n",
    "        if n % 7: \n",
    "            return False\n",
    "        else:\n",
    "            return True\n",
    "    \n",
    "    else:\n",
    "        if (n+3) % 10 == 0:\n",
    "            print('트루!')\n",
    "            return True\n",
    "        else:\n",
    "            return f(n // 10)\n"
   ]
  },
  {
   "cell_type": "code",
   "execution_count": 296,
   "metadata": {},
   "outputs": [
    {
     "name": "stdout",
     "output_type": "stream",
     "text": [
      "140\n",
      "14\n",
      "1\n"
     ]
    },
    {
     "data": {
      "text/plain": [
       "False"
      ]
     },
     "execution_count": 296,
     "metadata": {},
     "output_type": "execute_result"
    }
   ],
   "source": [
    "f(140)"
   ]
  },
  {
   "cell_type": "code",
   "execution_count": 247,
   "metadata": {
    "collapsed": true
   },
   "outputs": [],
   "source": [
    "def f(n):\n",
    "    if n == 0:\n",
    "        return 0\n",
    "    else: \n",
    "        print(n)\n",
    "        return f(n//10)"
   ]
  },
  {
   "cell_type": "code",
   "execution_count": 248,
   "metadata": {},
   "outputs": [
    {
     "name": "stdout",
     "output_type": "stream",
     "text": [
      "1234\n",
      "123\n",
      "12\n",
      "1\n"
     ]
    },
    {
     "data": {
      "text/plain": [
       "0"
      ]
     },
     "execution_count": 248,
     "metadata": {},
     "output_type": "execute_result"
    }
   ],
   "source": [
    "f(1234)"
   ]
  },
  {
   "cell_type": "code",
   "execution_count": null,
   "metadata": {
    "collapsed": true
   },
   "outputs": [],
   "source": []
  }
 ],
 "metadata": {
  "kernelspec": {
   "display_name": "Python 3",
   "language": "python",
   "name": "python3"
  },
  "language_info": {
   "codemirror_mode": {
    "name": "ipython",
    "version": 3
   },
   "file_extension": ".py",
   "mimetype": "text/x-python",
   "name": "python",
   "nbconvert_exporter": "python",
   "pygments_lexer": "ipython3",
   "version": "3.5.3"
  }
 },
 "nbformat": 4,
 "nbformat_minor": 2
}
