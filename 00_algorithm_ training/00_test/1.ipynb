{
 "cells": [
  {
   "cell_type": "code",
   "execution_count": null,
   "metadata": {
    "collapsed": true
   },
   "outputs": [],
   "source": [
    "'''\n",
    "# 값을 다음 node의 index로 갖는다. \n",
    "[1, 4, -1, 3, 2]\n",
    "\n",
    "'''"
   ]
  },
  {
   "cell_type": "code",
   "execution_count": 1,
   "metadata": {
    "collapsed": true
   },
   "outputs": [],
   "source": [
    "def solution(A):\n",
    "    li = []\n",
    "    \n",
    "    if A[0] == -1 or len(A) ==1:\n",
    "        return 1\n",
    "    elif -1 not in A:\n",
    "        return len(A)\n",
    "    else:\n",
    "        li.append(A[0])\n",
    "    \n",
    "    i = 0\n",
    "    while li[i] != -1:\n",
    "        li.append(A[li[i]])\n",
    "        i += 1\n",
    "        \n",
    "    return len(li)"
   ]
  },
  {
   "cell_type": "code",
   "execution_count": 2,
   "metadata": {},
   "outputs": [
    {
     "data": {
      "text/plain": [
       "4"
      ]
     },
     "execution_count": 2,
     "metadata": {},
     "output_type": "execute_result"
    }
   ],
   "source": [
    "solution([1, 4, -1, 3, 2])"
   ]
  },
  {
   "cell_type": "code",
   "execution_count": null,
   "metadata": {
    "collapsed": true
   },
   "outputs": [],
   "source": [
    "def solution(A):\n",
    "    li = []\n",
    "    \n",
    "    if A[0] == -1 or len(A) ==1:\n",
    "        return 1\n",
    "    else:\n",
    "        li.append(A[0])\n",
    "    \n",
    "    i = 0\n",
    "    while li[i] != -1:\n",
    "        li.append(A[li[i]])\n",
    "        i += 1\n",
    "        \n",
    "    return len(li)"
   ]
  }
 ],
 "metadata": {
  "kernelspec": {
   "display_name": "Python 3",
   "language": "python",
   "name": "python3"
  },
  "language_info": {
   "codemirror_mode": {
    "name": "ipython",
    "version": 3
   },
   "file_extension": ".py",
   "mimetype": "text/x-python",
   "name": "python",
   "nbconvert_exporter": "python",
   "pygments_lexer": "ipython3",
   "version": "3.5.3"
  }
 },
 "nbformat": 4,
 "nbformat_minor": 2
}
