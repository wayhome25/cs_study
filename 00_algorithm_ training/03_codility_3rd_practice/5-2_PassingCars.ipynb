{
 "cells": [
  {
   "cell_type": "markdown",
   "metadata": {},
   "source": [
    "A non-empty zero-indexed array A consisting of N integers is given. The consecutive elements of array A represent consecutive cars on a road.\n",
    "\n",
    "Array A contains only 0s and/or 1s:\n",
    "\n",
    "0 represents a car traveling east,\n",
    "1 represents a car traveling west.\n",
    "The goal is to count passing cars. We say that a pair of cars (P, Q), where 0 ≤ P < Q < N, is passing when P is traveling to the east and Q is traveling to the west.\n",
    "\n",
    "For example, consider array A such that:\n",
    "\n",
    "  A[0] = 0\n",
    "  A[1] = 1\n",
    "  A[2] = 0\n",
    "  A[3] = 1\n",
    "  A[4] = 1\n",
    "We have five pairs of passing cars: (0, 1), (0, 3), (0, 4), (2, 3), (2, 4).\n",
    "\n",
    "Write a function:\n",
    "\n",
    "def solution(A)\n",
    "\n",
    "that, given a non-empty zero-indexed array A of N integers, returns the number of pairs of passing cars.\n",
    "\n",
    "The function should return −1 if the number of pairs of passing cars exceeds 1,000,000,000.\n",
    "\n",
    "For example, given:\n",
    "\n",
    "  A[0] = 0\n",
    "  A[1] = 1\n",
    "  A[2] = 0\n",
    "  A[3] = 1\n",
    "  A[4] = 1\n",
    "the function should return 5, as explained above.\n",
    "\n",
    "Assume that:\n",
    "\n",
    "N is an integer within the range [1..100,000];\n",
    "each element of array A is an integer that can have one of the following values: 0, 1.\n",
    "Complexity:\n",
    "\n",
    "expected worst-case time complexity is O(N);\n",
    "expected worst-case space complexity is O(1), beyond input storage (not counting the storage required for input arguments).\n",
    "Elements of input arrays can be modified."
   ]
  },
  {
   "cell_type": "markdown",
   "metadata": {},
   "source": [
    "## 풀이 1 - O(n**2)"
   ]
  },
  {
   "cell_type": "code",
   "execution_count": 17,
   "metadata": {},
   "outputs": [
    {
     "data": {
      "text/plain": [
       "5"
      ]
     },
     "execution_count": 17,
     "metadata": {},
     "output_type": "execute_result"
    }
   ],
   "source": [
    "def solution(A):\n",
    "    index_zero = [i for i, x in enumerate(A) if x == 0]\n",
    "    result = 0 \n",
    "    for i in index_zero:\n",
    "        result += A[i+1:].count(1)\n",
    "        \n",
    "    if result > 1000000000:\n",
    "        return -1\n",
    "    return result\n",
    "\n",
    "solution([0,1,0,1,1])"
   ]
  },
  {
   "cell_type": "code",
   "execution_count": 16,
   "metadata": {},
   "outputs": [
    {
     "data": {
      "text/plain": [
       "5"
      ]
     },
     "execution_count": 16,
     "metadata": {},
     "output_type": "execute_result"
    }
   ],
   "source": [
    "def solution(A):\n",
    "    result = 0\n",
    "    for i, v in enumerate(A):\n",
    "        if v == 0:\n",
    "            result += A[i:].count(1)\n",
    "    if result > 1000000000:\n",
    "        return -1\n",
    "    return result\n",
    "\n",
    "solution([0,1,0,1,1])"
   ]
  },
  {
   "cell_type": "markdown",
   "metadata": {},
   "source": [
    "## 풀이 2 - O(n)"
   ]
  },
  {
   "cell_type": "code",
   "execution_count": 19,
   "metadata": {},
   "outputs": [
    {
     "data": {
      "text/plain": [
       "5"
      ]
     },
     "execution_count": 19,
     "metadata": {},
     "output_type": "execute_result"
    }
   ],
   "source": [
    "def solution(A):\n",
    "    result = 0\n",
    "    count_zero = 0\n",
    "    for i in A:\n",
    "        if i == 1 and count_zero == 0:\n",
    "            continue\n",
    "        elif i == 0:\n",
    "            count_zero += 1\n",
    "        elif i == 1:\n",
    "            result += count_zero\n",
    "            \n",
    "    if result > 1000000000:\n",
    "        return -1\n",
    "    return result\n",
    "\n",
    "solution([0,1,0,1,1])"
   ]
  },
  {
   "cell_type": "code",
   "execution_count": null,
   "metadata": {
    "collapsed": true
   },
   "outputs": [],
   "source": []
  }
 ],
 "metadata": {
  "kernelspec": {
   "display_name": "Python 3",
   "language": "python",
   "name": "python3"
  },
  "language_info": {
   "codemirror_mode": {
    "name": "ipython",
    "version": 3
   },
   "file_extension": ".py",
   "mimetype": "text/x-python",
   "name": "python",
   "nbconvert_exporter": "python",
   "pygments_lexer": "ipython3",
   "version": "3.5.3"
  }
 },
 "nbformat": 4,
 "nbformat_minor": 2
}
