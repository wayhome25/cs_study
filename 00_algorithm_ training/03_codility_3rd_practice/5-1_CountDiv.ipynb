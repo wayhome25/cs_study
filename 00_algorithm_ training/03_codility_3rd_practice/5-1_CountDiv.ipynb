{
 "cells": [
  {
   "cell_type": "markdown",
   "metadata": {},
   "source": [
    "Write a function:\n",
    "\n",
    "def solution(A, B, K)\n",
    "\n",
    "that, given three integers A, B and K, returns the number of integers within the range [A..B] that are divisible \n",
    "by K, i.e.:\n",
    "\n",
    "{ i : A ≤ i ≤ B, i mod K = 0 }\n",
    "\n",
    "For example, for A = 6, B = 11 and K = 2, your function should return 3, \n",
    "because there are three numbers divisible by 2 within the range [6..11], namely 6, 8 and 10.\n",
    "\n",
    "Assume that:\n",
    "\n",
    "A and B are integers within the range [0..2,000,000,000];\n",
    "K is an integer within the range [1..2,000,000,000];\n",
    "A ≤ B.\n",
    "Complexity:\n",
    "\n",
    "expected worst-case time complexity is O(1);\n",
    "expected worst-case space complexity is O(1)."
   ]
  },
  {
   "cell_type": "markdown",
   "metadata": {},
   "source": [
    "## 풀이 1 - O(1)"
   ]
  },
  {
   "cell_type": "code",
   "execution_count": 5,
   "metadata": {
    "collapsed": true
   },
   "outputs": [],
   "source": [
    "def solution(A, B, K):\n",
    "    '''\n",
    "    A~B 사이의 숫자 중에서 K로 나누어 떨어지는 수의 갯수를 리턴 \n",
    "    '''\n",
    "    b = B // K\n",
    "    a = A // K if (A % K) else A // K - 1\n",
    "    return b - a"
   ]
  },
  {
   "cell_type": "code",
   "execution_count": 19,
   "metadata": {},
   "outputs": [
    {
     "name": "stdout",
     "output_type": "stream",
     "text": [
      "3\n",
      "3\n"
     ]
    }
   ],
   "source": [
    "def solution(A, B, K):\n",
    "    return (B // K) - (A // K if (A % K) else A // K - 1)\n",
    "\n",
    "print(solution(6, 11, 2))\n",
    "print(solution(5, 11, 2))"
   ]
  },
  {
   "cell_type": "markdown",
   "metadata": {},
   "source": [
    "## 풀이 2"
   ]
  },
  {
   "cell_type": "code",
   "execution_count": 21,
   "metadata": {
    "scrolled": true
   },
   "outputs": [
    {
     "name": "stdout",
     "output_type": "stream",
     "text": [
      "3\n",
      "3\n"
     ]
    }
   ],
   "source": [
    "def solution(A, B, K):\n",
    "    return B // K - A // K + int( A % K == 0) # int(True) == 1 / int(False) == 0\n",
    "\n",
    "\n",
    "print(solution(6, 11, 2))\n",
    "print(solution(5, 11, 2))"
   ]
  },
  {
   "cell_type": "markdown",
   "metadata": {},
   "source": [
    "## 풀이 3"
   ]
  },
  {
   "cell_type": "code",
   "execution_count": 25,
   "metadata": {},
   "outputs": [
    {
     "name": "stdout",
     "output_type": "stream",
     "text": [
      "3\n",
      "3\n"
     ]
    }
   ],
   "source": [
    "def solution(A, B, K):\n",
    "    if A % K == 0: return (B - A) // K + 1\n",
    "    else: return (B - (A - A % K )) // K\n",
    "    \n",
    "print(solution(6, 11, 2))\n",
    "print(solution(5, 11, 2))"
   ]
  },
  {
   "cell_type": "code",
   "execution_count": null,
   "metadata": {
    "collapsed": true
   },
   "outputs": [],
   "source": []
  }
 ],
 "metadata": {
  "kernelspec": {
   "display_name": "Python 3",
   "language": "python",
   "name": "python3"
  },
  "language_info": {
   "codemirror_mode": {
    "name": "ipython",
    "version": 3
   },
   "file_extension": ".py",
   "mimetype": "text/x-python",
   "name": "python",
   "nbconvert_exporter": "python",
   "pygments_lexer": "ipython3",
   "version": "3.5.3"
  }
 },
 "nbformat": 4,
 "nbformat_minor": 2
}
