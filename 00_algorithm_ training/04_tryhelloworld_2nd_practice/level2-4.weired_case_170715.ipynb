{
 "cells": [
  {
   "cell_type": "markdown",
   "metadata": {},
   "source": [
    "toWeirdCase함수는 문자열 s를 매개변수로 입력받습니다.\n",
    "문자열 s에 각 단어의 짝수번째 인덱스 문자는 대문자로, 홀수번째 인덱스 문자는 소문자로 바꾼 문자열을 리턴하도록 함수를 완성하세요.\n",
    "예를 들어 s가 \"try hello world\"라면 첫 번째 단어는 \"TrY\", 두 번째 단어는 \"HeLlO\", 세 번째 단어는 \"WoRlD\"로 바꿔 \"TrY HeLlO WoRlD\"를 리턴하면 됩니다.\n",
    "\n",
    "주의 문자열 전체의 짝/홀수 인덱스가 아니라, 단어(공백을 기준)별로 짝/홀수 인덱스를 판단합니다."
   ]
  },
  {
   "cell_type": "code",
   "execution_count": 26,
   "metadata": {},
   "outputs": [
    {
     "name": "stdout",
     "output_type": "stream",
     "text": [
      "결과 : TrY HeLlO WoRlD\n"
     ]
    }
   ],
   "source": [
    "def toWeirdCase(s):\n",
    "    def change(t):\n",
    "        result = \"\"\n",
    "        for i, v in enumerate(t):\n",
    "            if i % 2:  # 홀수\n",
    "                result += v.lower()\n",
    "            else:  # 짝수\n",
    "                result += v.upper()\n",
    "        return result \n",
    "    return ' '.join(list(map(change, s.split())))\n",
    "        \n",
    "\n",
    "# 아래는 테스트로 출력해 보기 위한 코드입니다.\n",
    "print(\"결과 : {}\".format(toWeirdCase(\"try hello world\")));"
   ]
  },
  {
   "cell_type": "code",
   "execution_count": 20,
   "metadata": {},
   "outputs": [],
   "source": [
    "t = \"try hello world\"\n",
    "li = t.split()"
   ]
  },
  {
   "cell_type": "code",
   "execution_count": 23,
   "metadata": {},
   "outputs": [],
   "source": [
    "def change(t):\n",
    "    result = \"\"\n",
    "    for i, v in enumerate(t):\n",
    "        if i % 2:  # 홀수\n",
    "            result += v.lower()\n",
    "        else:  # 짝수\n",
    "            result += v.upper()\n",
    "    return result       "
   ]
  },
  {
   "cell_type": "code",
   "execution_count": 30,
   "metadata": {},
   "outputs": [
    {
     "data": {
      "text/plain": [
       "'TrY HeLlO WoRlD'"
      ]
     },
     "execution_count": 30,
     "metadata": {},
     "output_type": "execute_result"
    }
   ],
   "source": [
    "' '.join(list(map(change, li)))"
   ]
  },
  {
   "cell_type": "code",
   "execution_count": 28,
   "metadata": {},
   "outputs": [
    {
     "data": {
      "text/plain": [
       "True"
      ]
     },
     "execution_count": 28,
     "metadata": {},
     "output_type": "execute_result"
    }
   ],
   "source": [
    "'Sw Xc Er X  Sm' == 'Sw Xc Er X Sm'"
   ]
  },
  {
   "cell_type": "code",
   "execution_count": null,
   "metadata": {
    "collapsed": true
   },
   "outputs": [],
   "source": []
  }
 ],
 "metadata": {
  "kernelspec": {
   "display_name": "Python 3",
   "language": "python",
   "name": "python3"
  },
  "language_info": {
   "codemirror_mode": {
    "name": "ipython",
    "version": 3
   },
   "file_extension": ".py",
   "mimetype": "text/x-python",
   "name": "python",
   "nbconvert_exporter": "python",
   "pygments_lexer": "ipython3",
   "version": "3.5.3"
  }
 },
 "nbformat": 4,
 "nbformat_minor": 2
}
