{
 "cells": [
  {
   "cell_type": "markdown",
   "metadata": {},
   "source": [
    "is_pair함수는 문자열 s를 매개변수로 입력받습니다.\n",
    "s에 괄호가 알맞게 짝지어져 있으면 True를 아니면 False를 리턴하는 함수를 완성하세요.\n",
    "예를들어 s가 \"(hello)()\"면 True이고, \")(\"이면 False입니다.\n",
    "s가 빈 문자열(\"\")인 경우는 없습니다."
   ]
  },
  {
   "cell_type": "code",
   "execution_count": 15,
   "metadata": {
    "collapsed": true
   },
   "outputs": [],
   "source": [
    "def is_pair(s):\n",
    "    result = []\n",
    "    for i in s:\n",
    "        if not result and i == \")\":\n",
    "            return False\n",
    "        elif not result and i == \"(\":\n",
    "            result.append(i)\n",
    "        elif i == \")\" and result[-1] == \"(\" :\n",
    "            result.pop()\n",
    "        elif i == \"(\" and result[-1] == \")\" :\n",
    "            result.pop()\n",
    "        elif i in [\"(\", \")\"]:\n",
    "            result.append(i)\n",
    "    return not bool(result)"
   ]
  },
  {
   "cell_type": "code",
   "execution_count": 35,
   "metadata": {},
   "outputs": [],
   "source": [
    "def is_pair(s):\n",
    "    stack = []\n",
    "    for i in s:\n",
    "        if i == \"(\":\n",
    "            stack.append(i)\n",
    "        elif i == \")\":\n",
    "            try:\n",
    "                stack.pop()\n",
    "            except IndexError:\n",
    "                return False\n",
    "    return not bool(stack)"
   ]
  },
  {
   "cell_type": "code",
   "execution_count": 36,
   "metadata": {},
   "outputs": [
    {
     "name": "stdout",
     "output_type": "stream",
     "text": [
      "True\n",
      "False\n"
     ]
    }
   ],
   "source": [
    "print( is_pair(\"(hello)()\"))\n",
    "print( is_pair(\")(\"))"
   ]
  },
  {
   "cell_type": "code",
   "execution_count": null,
   "metadata": {
    "collapsed": true
   },
   "outputs": [],
   "source": []
  }
 ],
 "metadata": {
  "kernelspec": {
   "display_name": "Python 3",
   "language": "python",
   "name": "python3"
  },
  "language_info": {
   "codemirror_mode": {
    "name": "ipython",
    "version": 3
   },
   "file_extension": ".py",
   "mimetype": "text/x-python",
   "name": "python",
   "nbconvert_exporter": "python",
   "pygments_lexer": "ipython3",
   "version": "3.5.3"
  }
 },
 "nbformat": 4,
 "nbformat_minor": 2
}
