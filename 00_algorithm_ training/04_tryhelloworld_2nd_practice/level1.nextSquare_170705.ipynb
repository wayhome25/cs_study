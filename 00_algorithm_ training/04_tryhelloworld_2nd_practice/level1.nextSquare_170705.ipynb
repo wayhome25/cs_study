{
 "cells": [
  {
   "cell_type": "code",
   "execution_count": 3,
   "metadata": {
    "collapsed": true
   },
   "outputs": [],
   "source": [
    "def nextSqure(n):\n",
    "    for i in range(1,n//2):\n",
    "        if i * i == n:\n",
    "            return (i + 1) ** 2\n",
    "        if i * i > n:\n",
    "            return 'no'"
   ]
  },
  {
   "cell_type": "code",
   "execution_count": 8,
   "metadata": {
    "collapsed": true
   },
   "outputs": [],
   "source": [
    "# 제곱근을 구하는 함수 \n",
    "# n ** 5\n",
    "# pow(n, 0.5)\n",
    "# math.sqrt(n)"
   ]
  },
  {
   "cell_type": "code",
   "execution_count": 1,
   "metadata": {},
   "outputs": [],
   "source": [
    "# 풀이2\n",
    "def nextSqure(n):\n",
    "    t = int(pow(n, 0.5))\n",
    "    return (t+1)**2 if t**2==n else 'no'"
   ]
  },
  {
   "cell_type": "code",
   "execution_count": 2,
   "metadata": {},
   "outputs": [
    {
     "data": {
      "text/plain": [
       "144"
      ]
     },
     "execution_count": 2,
     "metadata": {},
     "output_type": "execute_result"
    }
   ],
   "source": [
    "nextSqure(121)"
   ]
  },
  {
   "cell_type": "code",
   "execution_count": null,
   "metadata": {
    "collapsed": true
   },
   "outputs": [],
   "source": []
  }
 ],
 "metadata": {
  "kernelspec": {
   "display_name": "Python 3",
   "language": "python",
   "name": "python3"
  },
  "language_info": {
   "codemirror_mode": {
    "name": "ipython",
    "version": 3
   },
   "file_extension": ".py",
   "mimetype": "text/x-python",
   "name": "python",
   "nbconvert_exporter": "python",
   "pygments_lexer": "ipython3",
   "version": "3.5.3"
  }
 },
 "nbformat": 4,
 "nbformat_minor": 2
}
