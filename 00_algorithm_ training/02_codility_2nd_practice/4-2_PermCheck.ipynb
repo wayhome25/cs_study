{
 "cells": [
  {
   "cell_type": "code",
   "execution_count": 1,
   "metadata": {
    "collapsed": true
   },
   "outputs": [],
   "source": [
    "# 풀이 - O(N) or O(N * log(N))\n",
    "def solution(A):\n",
    "    length = max(A)\n",
    "    if len(A) != length:\n",
    "        return -1\n",
    "    \n",
    "    check_li = [False] * length\n",
    "    for i in range(length):\n",
    "        if check_li[A[i]-1] == False:\n",
    "            check_li[A[i]-1] = True\n",
    "        else:\n",
    "            return -1\n",
    "    \n",
    "    if False in check_li:\n",
    "        return -1\n",
    "    return 1"
   ]
  },
  {
   "cell_type": "code",
   "execution_count": null,
   "metadata": {
    "collapsed": true
   },
   "outputs": [],
   "source": [
    "# 풀이 - by codility \n",
    "\n",
    "def solution(A):\n",
    "    counter = [0]*len(A)\n",
    "    limit = len(A)\n",
    "    for element in A:\n",
    "        if not 1 <= element <= limit:\n",
    "            return 0\n",
    "        else:\n",
    "            if counter[element-1] != 0:\n",
    "                return 0\n",
    "            else:\n",
    "                counter[element-1] = 1\n",
    "\n",
    "    return 1"
   ]
  }
 ],
 "metadata": {
  "kernelspec": {
   "display_name": "Python 3",
   "language": "python",
   "name": "python3"
  },
  "language_info": {
   "codemirror_mode": {
    "name": "ipython",
    "version": 3
   },
   "file_extension": ".py",
   "mimetype": "text/x-python",
   "name": "python",
   "nbconvert_exporter": "python",
   "pygments_lexer": "ipython3",
   "version": "3.5.3"
  }
 },
 "nbformat": 4,
 "nbformat_minor": 2
}
