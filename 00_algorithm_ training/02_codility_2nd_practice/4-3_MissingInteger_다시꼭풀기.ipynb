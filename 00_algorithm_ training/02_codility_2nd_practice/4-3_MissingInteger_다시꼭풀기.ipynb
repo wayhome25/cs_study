{
 "cells": [
  {
   "cell_type": "code",
   "execution_count": 1,
   "metadata": {
    "collapsed": true
   },
   "outputs": [],
   "source": [
    "# 여러번 시도했지만 결국 못풀었다 "
   ]
  },
  {
   "cell_type": "code",
   "execution_count": null,
   "metadata": {
    "collapsed": true
   },
   "outputs": [],
   "source": [
    "# 풀이 - by codility  (O(n))\n",
    "# 비둘기집 원리 \n",
    "\n",
    "def solution(A):\n",
    "    ''' Solve it with Pigeonhole principle.\n",
    "        There are N integers in the input. So for the\n",
    "        first N+1 positive integers, at least one of\n",
    "        them must be missing.\n",
    "    '''\n",
    "    # We only care about the first N+1 positive integers.\n",
    "    # occurrence[i] is for the integer i+1.\n",
    "    occurrence = [False] * (len(A) + 1)\n",
    "    for item in A:\n",
    "        if 1 <= item <= len(A) + 1:\n",
    "            occurrence[item-1] = True\n",
    "\n",
    "    # Find out the missing minimal positive integer.\n",
    "    for index in xrange(len(A) + 1):\n",
    "        if occurrence[index] == False:\n",
    "            return index + 1\n",
    "\n",
    "    raise Exception(\"Should never be here.\")\n",
    "    return -1"
   ]
  },
  {
   "cell_type": "code",
   "execution_count": 37,
   "metadata": {
    "collapsed": true
   },
   "outputs": [],
   "source": [
    "# 연습하기 - O(N)\n",
    "\n",
    "def solution(A):\n",
    "    check_li = [False] * (len(A) + 1)\n",
    "    for i in A:\n",
    "        if 1 <= i <= len(A) + 1:\n",
    "            check_li[i-1] = True\n",
    "    for idx in range(len(check_li)):\n",
    "        if check_li[idx] == False:\n",
    "            return idx + 1\n",
    "    return -1\n",
    "            "
   ]
  },
  {
   "cell_type": "code",
   "execution_count": 41,
   "metadata": {},
   "outputs": [
    {
     "data": {
      "text/plain": [
       "3"
      ]
     },
     "execution_count": 41,
     "metadata": {},
     "output_type": "execute_result"
    }
   ],
   "source": [
    "solution([1,2,4])"
   ]
  },
  {
   "cell_type": "code",
   "execution_count": null,
   "metadata": {
    "collapsed": true
   },
   "outputs": [],
   "source": []
  }
 ],
 "metadata": {
  "kernelspec": {
   "display_name": "Python 3",
   "language": "python",
   "name": "python3"
  },
  "language_info": {
   "codemirror_mode": {
    "name": "ipython",
    "version": 3
   },
   "file_extension": ".py",
   "mimetype": "text/x-python",
   "name": "python",
   "nbconvert_exporter": "python",
   "pygments_lexer": "ipython3",
   "version": "3.5.3"
  }
 },
 "nbformat": 4,
 "nbformat_minor": 2
}
