{
 "cells": [
  {
   "cell_type": "code",
   "execution_count": 2,
   "metadata": {
    "collapsed": true
   },
   "outputs": [],
   "source": [
    "# 풀이 1 (O(n^2))\n",
    "def solution(A):\n",
    "    result = 0\n",
    "    for idx, val in enumerate(A):\n",
    "        if val == 0:\n",
    "            result += A[idx:].count(1)\n",
    "    \n",
    "    if result > 1000000000:\n",
    "        return -1\n",
    "    return result\n",
    "            "
   ]
  },
  {
   "cell_type": "code",
   "execution_count": 3,
   "metadata": {},
   "outputs": [
    {
     "data": {
      "text/plain": [
       "0"
      ]
     },
     "execution_count": 3,
     "metadata": {},
     "output_type": "execute_result"
    }
   ],
   "source": [
    "t = [0,1,0,1,1]\n",
    "t[3:].count(3)"
   ]
  },
  {
   "cell_type": "code",
   "execution_count": 4,
   "metadata": {},
   "outputs": [
    {
     "data": {
      "text/plain": [
       "5"
      ]
     },
     "execution_count": 4,
     "metadata": {},
     "output_type": "execute_result"
    }
   ],
   "source": [
    "# 풀이 2 (O(n))\n",
    "def solution(A):\n",
    "    total = 0\n",
    "    count_zero = 0 \n",
    "    \n",
    "    for i in A: \n",
    "        if i == 1 and count_zero == 0:\n",
    "            continue\n",
    "        elif i == 0:\n",
    "            count_zero += 1\n",
    "        elif i == 1 and count_zero > 0:\n",
    "            total += count_zero\n",
    "            \n",
    "    if total > 1000000000:\n",
    "        return -1\n",
    "    return total \n",
    "\n",
    "solution([0, 1, 0, 1, 1])"
   ]
  },
  {
   "cell_type": "code",
   "execution_count": 11,
   "metadata": {},
   "outputs": [
    {
     "data": {
      "text/plain": [
       "5"
      ]
     },
     "execution_count": 11,
     "metadata": {},
     "output_type": "execute_result"
    }
   ],
   "source": [
    "solution([1, 0, 1, 0, 1, 1])"
   ]
  },
  {
   "cell_type": "code",
   "execution_count": null,
   "metadata": {
    "collapsed": true
   },
   "outputs": [],
   "source": []
  }
 ],
 "metadata": {
  "kernelspec": {
   "display_name": "Python 3",
   "language": "python",
   "name": "python3"
  },
  "language_info": {
   "codemirror_mode": {
    "name": "ipython",
    "version": 3
   },
   "file_extension": ".py",
   "mimetype": "text/x-python",
   "name": "python",
   "nbconvert_exporter": "python",
   "pygments_lexer": "ipython3",
   "version": "3.5.3"
  }
 },
 "nbformat": 4,
 "nbformat_minor": 2
}
