{
 "cells": [
  {
   "cell_type": "code",
   "execution_count": null,
   "metadata": {
    "collapsed": true
   },
   "outputs": [],
   "source": [
    "# 풀이 - O(N)\n",
    "def solution(A):\n",
    "    if len(A) == 0:\n",
    "        return -1\n",
    "        \n",
    "    sort_A = sorted(A)\n",
    "    l = len(A) // 2\n",
    "    domi_candidate = sort_A[l]\n",
    "    if A.count(domi_candidate) > l:\n",
    "        return A.index(domi_candidate)\n",
    "    return -1"
   ]
  }
 ],
 "metadata": {
  "kernelspec": {
   "display_name": "Python 3",
   "language": "python",
   "name": "python3"
  },
  "language_info": {
   "codemirror_mode": {
    "name": "ipython",
    "version": 3
   },
   "file_extension": ".py",
   "mimetype": "text/x-python",
   "name": "python",
   "nbconvert_exporter": "python",
   "pygments_lexer": "ipython3",
   "version": "3.5.3"
  }
 },
 "nbformat": 4,
 "nbformat_minor": 2
}
