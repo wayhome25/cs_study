{
 "cells": [
  {
   "cell_type": "code",
   "execution_count": 1,
   "metadata": {
    "collapsed": true
   },
   "outputs": [],
   "source": [
    "# Node \n",
    "\n",
    "class Node:\n",
    "    def __init__(self, data):\n",
    "        self.data = data\n",
    "        self.next = None \n",
    "    \n",
    "\n",
    "# LinkedList 자료구조 정의 \n",
    "\n",
    "class LinkedList:\n",
    "    \n",
    "    # 초기화 메소드\n",
    "    def __init__(self):\n",
    "        dummy = Node(\"dummy\")\n",
    "        self.head = dummy\n",
    "        self.tail = dummy\n",
    "        \n",
    "        self.current = None\n",
    "        self.before = None\n",
    "        \n",
    "        self.num_of_data = 0\n",
    "        \n",
    "        \n",
    "    # append 메소드 (insert - 맨 뒤에 노드 추가)\n",
    "    def append(self, data):\n",
    "        new_node = Node(data)\n",
    "        self.tail.next = new_node\n",
    "        self.tail = new_node\n",
    "        self.num_of_data += 1\n",
    "        \n",
    "    \n",
    "    # delete 메소드 (delete - current 노드 삭제)\n",
    "    def delete(self):\n",
    "        pop_data = self.current.data\n",
    "        \n",
    "        if self.current is self.tail:\n",
    "            self.tail = self.before\n",
    "            \n",
    "        self.before.next = self.current.next\n",
    "        self.current = self.before\n",
    "        \n",
    "        self.num_of_data -= 1\n",
    "        \n",
    "        return pop_data\n",
    "    \n",
    "    \n",
    "    # first 메소드 (탐색1 - 맨 앞의 노드 검색)\n",
    "    def first(self):\n",
    "        if self.num_of_data == 0:\n",
    "            return None \n",
    "        \n",
    "        self.before = self.head\n",
    "        self.current = self.head.next\n",
    "        \n",
    "        return self.current.data\n",
    "    \n",
    "    \n",
    "    # next 메소드 (탐색2 - current 노드의 다음 노드 검색)\n",
    "    def next(self):\n",
    "        if self.current.next == None:\n",
    "            return None\n",
    "        \n",
    "        self.before = self.current\n",
    "        self.current = self.current.next\n",
    "        \n",
    "        return self.current.data\n",
    "    \n",
    "    \n",
    "    def size(self):\n",
    "        return self.num_of_data\n",
    "        \n",
    "        \n",
    "        "
   ]
  },
  {
   "cell_type": "code",
   "execution_count": null,
   "metadata": {
    "collapsed": true
   },
   "outputs": [],
   "source": []
  }
 ],
 "metadata": {
  "kernelspec": {
   "display_name": "Python 3",
   "language": "python",
   "name": "python3"
  },
  "language_info": {
   "codemirror_mode": {
    "name": "ipython",
    "version": 3
   },
   "file_extension": ".py",
   "mimetype": "text/x-python",
   "name": "python",
   "nbconvert_exporter": "python",
   "pygments_lexer": "ipython3",
   "version": "3.5.3"
  }
 },
 "nbformat": 4,
 "nbformat_minor": 2
}
