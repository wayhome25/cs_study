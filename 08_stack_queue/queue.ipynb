{
 "cells": [
  {
   "cell_type": "code",
   "execution_count": 2,
   "metadata": {},
   "outputs": [],
   "source": [
    "# queue 구현 예시 1 - python list 사용 \n",
    "\n",
    "class Queue(list):\n",
    "    enqueue = list.append\n",
    "    \n",
    "    def dequeue(self):\n",
    "        return self.pop(0)\n",
    "    \n",
    "    def is_empty(self):\n",
    "        if not self:\n",
    "            return True\n",
    "        else:\n",
    "            return False\n",
    "    \n",
    "    def peek(self):\n",
    "        return self[0]"
   ]
  },
  {
   "cell_type": "code",
   "execution_count": 4,
   "metadata": {},
   "outputs": [
    {
     "name": "stdout",
     "output_type": "stream",
     "text": [
      "True\n",
      "deleted data : 1\n",
      "2\n",
      "3\n",
      "4\n",
      "5\n"
     ]
    }
   ],
   "source": [
    "# queue 구현 예시 2 - node 사용 \n",
    "\n",
    "class Node:\n",
    "    def __init__(self, data):\n",
    "        self.data = data\n",
    "        self.next = None\n",
    "        \n",
    "class Queue:\n",
    "    def __init__(self):\n",
    "        self.head = None\n",
    "        self.tail = None\n",
    "        \n",
    "    def is_empty(self):\n",
    "        if not self.head:\n",
    "            return True\n",
    "        \n",
    "        return False\n",
    "    \n",
    "    def enqueue(self, data):\n",
    "        new_node = Node(data)\n",
    "        \n",
    "        if self.is_empty():\n",
    "            self.head = new_node\n",
    "            self.tail = new_node\n",
    "            return\n",
    "        \n",
    "        self.tail.next = new_node\n",
    "        self.tail = new_node\n",
    "        \n",
    "    def dequeue(self):\n",
    "        if self.is_empty():\n",
    "            return None\n",
    "        \n",
    "        ret_data = self.head.data\n",
    "        self.head = self.head.next\n",
    "        return ret_data\n",
    "    \n",
    "    def peek(self):\n",
    "        if self.is_empty():\n",
    "            return None\n",
    "        \n",
    "        return self.head.data\n",
    "    \n",
    "    \n",
    "if __name__ == \"__main__\":\n",
    "    q = Queue()\n",
    "\n",
    "    print(q.is_empty()) # True\n",
    "\n",
    "    q.enqueue(1)\n",
    "    print(\"deleted data : {}\".format(q.dequeue())) # deleted data : 1\n",
    "\n",
    "    q.enqueue(2)\n",
    "    q.enqueue(3)\n",
    "    q.enqueue(4)\n",
    "    q.enqueue(5)\n",
    "\n",
    "    while not q.is_empty():\n",
    "        print(q.dequeue()) # 2, 3, 4, 5"
   ]
  },
  {
   "cell_type": "code",
   "execution_count": null,
   "metadata": {
    "collapsed": true
   },
   "outputs": [],
   "source": []
  }
 ],
 "metadata": {
  "kernelspec": {
   "display_name": "Python 3",
   "language": "python",
   "name": "python3"
  },
  "language_info": {
   "codemirror_mode": {
    "name": "ipython",
    "version": 3
   },
   "file_extension": ".py",
   "mimetype": "text/x-python",
   "name": "python",
   "nbconvert_exporter": "python",
   "pygments_lexer": "ipython3",
   "version": "3.5.3"
  }
 },
 "nbformat": 4,
 "nbformat_minor": 2
}
