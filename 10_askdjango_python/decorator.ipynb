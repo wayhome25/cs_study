{
 "cells": [
  {
   "cell_type": "markdown",
   "metadata": {},
   "source": [
    "## 1급 함수"
   ]
  },
  {
   "cell_type": "code",
   "execution_count": 1,
   "metadata": {
    "collapsed": true
   },
   "outputs": [],
   "source": [
    "fn1 = lambda x, y: x + y"
   ]
  },
  {
   "cell_type": "code",
   "execution_count": 2,
   "metadata": {},
   "outputs": [
    {
     "data": {
      "text/plain": [
       "3"
      ]
     },
     "execution_count": 2,
     "metadata": {},
     "output_type": "execute_result"
    }
   ],
   "source": [
    "fn1(1,2)"
   ]
  },
  {
   "cell_type": "code",
   "execution_count": 3,
   "metadata": {
    "collapsed": true
   },
   "outputs": [],
   "source": [
    "fn2 = lambda x, y: x + y + 10"
   ]
  },
  {
   "cell_type": "code",
   "execution_count": 4,
   "metadata": {},
   "outputs": [
    {
     "data": {
      "text/plain": [
       "13"
      ]
     },
     "execution_count": 4,
     "metadata": {},
     "output_type": "execute_result"
    }
   ],
   "source": [
    "fn2(1,2)"
   ]
  },
  {
   "cell_type": "code",
   "execution_count": 5,
   "metadata": {
    "collapsed": true
   },
   "outputs": [],
   "source": [
    "def mysum1():\n",
    "    fn = lambda x, y: x + y\n",
    "    return fn"
   ]
  },
  {
   "cell_type": "code",
   "execution_count": 6,
   "metadata": {
    "collapsed": true
   },
   "outputs": [],
   "source": [
    "myfn = mysum1()"
   ]
  },
  {
   "cell_type": "code",
   "execution_count": 8,
   "metadata": {},
   "outputs": [
    {
     "data": {
      "text/plain": [
       "5"
      ]
     },
     "execution_count": 8,
     "metadata": {},
     "output_type": "execute_result"
    }
   ],
   "source": [
    "mysum1()(2,3)"
   ]
  },
  {
   "cell_type": "code",
   "execution_count": 11,
   "metadata": {},
   "outputs": [
    {
     "data": {
      "text/plain": [
       "8"
      ]
     },
     "execution_count": 11,
     "metadata": {},
     "output_type": "execute_result"
    }
   ],
   "source": [
    "(lambda x, y : x + y)(1,7)"
   ]
  },
  {
   "cell_type": "markdown",
   "metadata": {},
   "source": [
    "## 예시"
   ]
  },
  {
   "cell_type": "code",
   "execution_count": 17,
   "metadata": {
    "collapsed": true
   },
   "outputs": [],
   "source": [
    "def base_10(fn):\n",
    "    def wrap(x, y):\n",
    "        return fn(x, y) + 10\n",
    "    return wrap\n",
    "\n",
    "def mysum(x, y):\n",
    "    return x + y\n",
    "\n",
    "mywrap = base_10(mysum)"
   ]
  },
  {
   "cell_type": "code",
   "execution_count": 19,
   "metadata": {},
   "outputs": [
    {
     "data": {
      "text/plain": [
       "40"
      ]
     },
     "execution_count": 19,
     "metadata": {},
     "output_type": "execute_result"
    }
   ],
   "source": [
    "mywrap(10,20)"
   ]
  },
  {
   "cell_type": "code",
   "execution_count": 21,
   "metadata": {},
   "outputs": [
    {
     "data": {
      "text/plain": [
       "16"
      ]
     },
     "execution_count": 21,
     "metadata": {},
     "output_type": "execute_result"
    }
   ],
   "source": [
    "def mymultiply(x, y):\n",
    "    return x * y\n",
    "\n",
    "mywrap = base_10(mymultiply)\n",
    "mywrap(3,2)"
   ]
  },
  {
   "cell_type": "markdown",
   "metadata": {},
   "source": [
    "### 장식자 문법 적용"
   ]
  },
  {
   "cell_type": "code",
   "execution_count": 33,
   "metadata": {},
   "outputs": [
    {
     "data": {
      "text/plain": [
       "15"
      ]
     },
     "execution_count": 33,
     "metadata": {},
     "output_type": "execute_result"
    }
   ],
   "source": [
    "def base_10(fn):\n",
    "    def wrap(x, y):\n",
    "        return fn(x, y) + 10\n",
    "    return wrap\n",
    "\n",
    "def mysum(x, y):\n",
    "    return x + y\n",
    "\n",
    "mysum = base_10(mysum)\n",
    "mysum(3,2)"
   ]
  },
  {
   "cell_type": "code",
   "execution_count": 36,
   "metadata": {},
   "outputs": [
    {
     "data": {
      "text/plain": [
       "15"
      ]
     },
     "execution_count": 36,
     "metadata": {},
     "output_type": "execute_result"
    }
   ],
   "source": [
    "@base_10\n",
    "def mysum(x, y):\n",
    "    return x + y\n",
    "\n",
    "mysum(2,3)"
   ]
  },
  {
   "cell_type": "markdown",
   "metadata": {},
   "source": [
    "## memoize"
   ]
  },
  {
   "cell_type": "code",
   "execution_count": 50,
   "metadata": {
    "collapsed": true
   },
   "outputs": [],
   "source": [
    "import time \n",
    "\n",
    "cached1 = {}\n",
    "cached2 = {}\n",
    "\n",
    "def mylongtimesum(x, y):\n",
    "    key = (x, y)\n",
    "    if key not in cached1:\n",
    "        time.sleep(1)\n",
    "        cached1[key] = x + y + 10\n",
    "    return cached1[key]\n",
    "\n",
    "def mylongtimemultiply(x, y):\n",
    "    key = (x, y)\n",
    "    if key not in cached2:\n",
    "        time.sleep(1)\n",
    "        cached2[key] = x * y + 10\n",
    "    return cached2[key]\n"
   ]
  },
  {
   "cell_type": "code",
   "execution_count": 51,
   "metadata": {},
   "outputs": [
    {
     "name": "stdout",
     "output_type": "stream",
     "text": [
      "14\n",
      "14\n",
      "14\n",
      "14\n",
      "15\n",
      "14\n",
      "14\n",
      "14\n"
     ]
    }
   ],
   "source": [
    "print(mylongtimesum(1,3))\n",
    "print(mylongtimesum(1,3))\n",
    "print(mylongtimesum(3,1))\n",
    "print(mylongtimesum(1,3))\n",
    "print(mylongtimesum(1,4))\n",
    "\n",
    "\n",
    "print(mylongtimemultiply(2,2))\n",
    "print(mylongtimemultiply(2,2))\n",
    "print(mylongtimemultiply(2,2))"
   ]
  },
  {
   "cell_type": "code",
   "execution_count": 53,
   "metadata": {},
   "outputs": [
    {
     "data": {
      "text/plain": [
       "{(1, 3): 14, (1, 4): 15, (3, 1): 14}"
      ]
     },
     "execution_count": 53,
     "metadata": {},
     "output_type": "execute_result"
    }
   ],
   "source": [
    "cached1"
   ]
  },
  {
   "cell_type": "markdown",
   "metadata": {},
   "source": [
    "### 장식자 출격"
   ]
  },
  {
   "cell_type": "code",
   "execution_count": 57,
   "metadata": {
    "collapsed": true
   },
   "outputs": [],
   "source": [
    "import time \n",
    "\n",
    "def memoize(fn):\n",
    "    cached = {}\n",
    "    def wrap(x, y):\n",
    "        key = (x, y)\n",
    "        if key not in cached:\n",
    "            cached[key] = fn(x, y)\n",
    "        return cached[key]\n",
    "    return wrap\n",
    "\n",
    "@memoize\n",
    "def mylongtimesum(x, y):\n",
    "    time.sleep(1)\n",
    "    return x + y + 10\n",
    "\n",
    "@memoize\n",
    "def mylongtimemultiply(x, y):\n",
    "    time.sleep(1)\n",
    "    return x * y + 10"
   ]
  },
  {
   "cell_type": "code",
   "execution_count": 58,
   "metadata": {},
   "outputs": [
    {
     "name": "stdout",
     "output_type": "stream",
     "text": [
      "14\n",
      "14\n",
      "14\n",
      "14\n",
      "15\n",
      "14\n",
      "14\n",
      "14\n"
     ]
    }
   ],
   "source": [
    "print(mylongtimesum(1,3))\n",
    "print(mylongtimesum(1,3))\n",
    "print(mylongtimesum(3,1))\n",
    "print(mylongtimesum(1,3))\n",
    "print(mylongtimesum(1,4))\n",
    "\n",
    "\n",
    "print(mylongtimemultiply(2,2))\n",
    "print(mylongtimemultiply(2,2))\n",
    "print(mylongtimemultiply(2,2))"
   ]
  },
  {
   "cell_type": "markdown",
   "metadata": {},
   "source": [
    "### 인자를 받는 장식자"
   ]
  },
  {
   "cell_type": "code",
   "execution_count": 82,
   "metadata": {
    "collapsed": true
   },
   "outputs": [],
   "source": [
    "def base(base_i):\n",
    "    def outer(fn):\n",
    "        def wrap(x, y):\n",
    "            return fn(x, y) + base_i\n",
    "        return wrap\n",
    "    return outer"
   ]
  },
  {
   "cell_type": "code",
   "execution_count": 83,
   "metadata": {},
   "outputs": [
    {
     "data": {
      "text/plain": [
       "27"
      ]
     },
     "execution_count": 83,
     "metadata": {},
     "output_type": "execute_result"
    }
   ],
   "source": [
    "@base(20)\n",
    "def mysum(x, y):\n",
    "    return x + y\n",
    "\n",
    "mysum(5, 2)"
   ]
  },
  {
   "cell_type": "markdown",
   "metadata": {},
   "source": [
    "## Quiz : 지정된 조건의 인자만 처리하기\n",
    "- filter_fn을 통과하지 못하는 인자는 alter_value 값으로 대체하기"
   ]
  },
  {
   "cell_type": "code",
   "execution_count": 113,
   "metadata": {
    "collapsed": true
   },
   "outputs": [],
   "source": [
    "def myfilter(filter_fn, alter_value):\n",
    "    def wrap(fn):\n",
    "        def inner(*args):\n",
    "            params = []\n",
    "            for p in args:\n",
    "                if filter_fn(p):\n",
    "                    params.append(p)\n",
    "                else:\n",
    "                    params.append(alter_value)\n",
    "            return fn(*params)\n",
    "        return inner\n",
    "    return wrap"
   ]
  },
  {
   "cell_type": "code",
   "execution_count": 120,
   "metadata": {},
   "outputs": [
    {
     "data": {
      "text/plain": [
       "6"
      ]
     },
     "execution_count": 120,
     "metadata": {},
     "output_type": "execute_result"
    }
   ],
   "source": [
    "@myfilter(lambda i: i%2==0, 0)\n",
    "def mysum(a,b,c,d,e):\n",
    "    return a+b+c+d+e\n",
    "\n",
    "mysum(1,2,3,4,5)"
   ]
  },
  {
   "cell_type": "code",
   "execution_count": 123,
   "metadata": {},
   "outputs": [],
   "source": [
    "def myfilter(filter_fn, alter_value):\n",
    "    def wrap(fn):\n",
    "        def inner(*args):\n",
    "            values = (i if filter_fn(i) else alter_value for i in args)\n",
    "            return fn(*values)\n",
    "        return inner\n",
    "    return wrap"
   ]
  },
  {
   "cell_type": "code",
   "execution_count": 124,
   "metadata": {},
   "outputs": [
    {
     "data": {
      "text/plain": [
       "6"
      ]
     },
     "execution_count": 124,
     "metadata": {},
     "output_type": "execute_result"
    }
   ],
   "source": [
    "@myfilter(lambda i: i%2==0, 1)\n",
    "def mymulti(a,b,c,d,e):\n",
    "    return a*b*c*d*e\n",
    "\n",
    "mysum(1,2,3,4,5)"
   ]
  },
  {
   "cell_type": "code",
   "execution_count": null,
   "metadata": {
    "collapsed": true
   },
   "outputs": [],
   "source": []
  }
 ],
 "metadata": {
  "kernelspec": {
   "display_name": "Python 3",
   "language": "python",
   "name": "python3"
  },
  "language_info": {
   "codemirror_mode": {
    "name": "ipython",
    "version": 3
   },
   "file_extension": ".py",
   "mimetype": "text/x-python",
   "name": "python",
   "nbconvert_exporter": "python",
   "pygments_lexer": "ipython3",
   "version": "3.5.3"
  }
 },
 "nbformat": 4,
 "nbformat_minor": 2
}
