{
 "cells": [
  {
   "cell_type": "code",
   "execution_count": 1,
   "metadata": {
    "collapsed": true
   },
   "outputs": [],
   "source": [
    "# 추상클래스 \n",
    "# 게임의 모든 캐릭터가 가진 공통 속성을 정의하는 Character 클래스를 정의한다  \n",
    "\n",
    "from abc import *\n",
    "\n",
    "class Character(metaclass = ABCMeta):\n",
    "    def __init__(self):\n",
    "        self.hp = 100\n",
    "        self.attack_power = 20\n",
    "    \n",
    "    def attack(self, other, attack_kind):\n",
    "        other.get_damage(self.attack_power, attack_kind)\n",
    "    \n",
    "    @abstractmethod\n",
    "    def get_damage(self, attack_power, attack_kind):\n",
    "        pass"
   ]
  },
  {
   "cell_type": "code",
   "execution_count": 10,
   "metadata": {
    "collapsed": true
   },
   "outputs": [],
   "source": [
    "# 자식클래스 Player \n",
    "class Player(Character):\n",
    "    def get_damage(self, attack_power, attack_kind):\n",
    "        self.hp -= attack_power"
   ]
  },
  {
   "cell_type": "code",
   "execution_count": 11,
   "metadata": {
    "collapsed": true
   },
   "outputs": [],
   "source": [
    "# 자식클래스 IceMonster, FireMonster\n",
    "class IceMonster(Character):\n",
    "    def get_damage(self, attack_power, attack_kind):\n",
    "        if attack_kind == 'ICE':\n",
    "            self.hp += attack_power\n",
    "        else:\n",
    "            self.hp -= attack_power\n",
    "        \n",
    "    def __str__(self):\n",
    "        return \"Ice Monster's HP : {}\".format(self.hp)\n",
    "    \n",
    "class FireMonster(Character):\n",
    "    def get_damage(self, attack_power, attack_kind):\n",
    "        if attack_kind == 'FIRE':\n",
    "            self.hp += attack_power\n",
    "        else:\n",
    "            self.hp -= attack_power\n",
    "            \n",
    "    def __str__(self):\n",
    "        return \"Fire Monster's HP : {}\".format(self.hp)"
   ]
  },
  {
   "cell_type": "code",
   "execution_count": 12,
   "metadata": {
    "collapsed": true
   },
   "outputs": [],
   "source": [
    "play = Player()\n",
    "ice = IceMonster()\n",
    "fire = FireMonster()"
   ]
  },
  {
   "cell_type": "code",
   "execution_count": 19,
   "metadata": {},
   "outputs": [
    {
     "name": "stdout",
     "output_type": "stream",
     "text": [
      "Ice Monster's HP : 100\n",
      "Fire Monster's HP : 100\n"
     ]
    }
   ],
   "source": [
    "print(ice)\n",
    "print(fire)"
   ]
  },
  {
   "cell_type": "code",
   "execution_count": 22,
   "metadata": {
    "collapsed": true
   },
   "outputs": [],
   "source": [
    "play.attack(ice, 'ICE')\n",
    "play.attack(fire, 'ICE')"
   ]
  },
  {
   "cell_type": "code",
   "execution_count": 23,
   "metadata": {},
   "outputs": [
    {
     "name": "stdout",
     "output_type": "stream",
     "text": [
      "Ice Monster's HP : 140\n",
      "Fire Monster's HP : 80\n"
     ]
    }
   ],
   "source": [
    "print(ice)\n",
    "print(fire)"
   ]
  },
  {
   "cell_type": "code",
   "execution_count": null,
   "metadata": {
    "collapsed": true
   },
   "outputs": [],
   "source": []
  }
 ],
 "metadata": {
  "kernelspec": {
   "display_name": "Python 3",
   "language": "python",
   "name": "python3"
  },
  "language_info": {
   "codemirror_mode": {
    "name": "ipython",
    "version": 3
   },
   "file_extension": ".py",
   "mimetype": "text/x-python",
   "name": "python",
   "nbconvert_exporter": "python",
   "pygments_lexer": "ipython3",
   "version": "3.5.3"
  }
 },
 "nbformat": 4,
 "nbformat_minor": 2
}
