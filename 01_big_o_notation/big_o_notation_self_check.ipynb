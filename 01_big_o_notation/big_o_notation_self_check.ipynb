{
 "cells": [
  {
   "cell_type": "markdown",
   "metadata": {},
   "source": [
    "Write two Python functions to find the minimum number in a list.   \n",
    "The first function should compare each number to every other number on the list. O(n^2).    \n",
    "The second function should be linear O(n)"
   ]
  },
  {
   "cell_type": "code",
   "execution_count": 8,
   "metadata": {
    "collapsed": true
   },
   "outputs": [],
   "source": [
    "# O(n) ? \n",
    "def find_minimum1(li):\n",
    "    minimum = li[0]\n",
    "    for item in li:\n",
    "        if minimum > item:\n",
    "            minimum = item\n",
    "    return minimum\n",
    "    \n",
    "# O(n^2) ? \n",
    "def find_minimum2(li):\n",
    "    minimum = li[0]\n",
    "    for i in range(len(li)):\n",
    "        for j in range(i+1):\n",
    "            if minimum > li[j]:\n",
    "                minimum = li[j]\n",
    "    return minimum    "
   ]
  },
  {
   "cell_type": "code",
   "execution_count": 9,
   "metadata": {},
   "outputs": [
    {
     "name": "stdout",
     "output_type": "stream",
     "text": [
      "1\n",
      "1\n"
     ]
    }
   ],
   "source": [
    "print(find_minimum1([1, 4, 7, 3]))\n",
    "print(find_minimum2([4, 7, 3, 1]))"
   ]
  },
  {
   "cell_type": "markdown",
   "metadata": {},
   "source": [
    "# 선생님 풀이"
   ]
  },
  {
   "cell_type": "code",
   "execution_count": 5,
   "metadata": {},
   "outputs": [
    {
     "name": "stdout",
     "output_type": "stream",
     "text": [
      "0\n",
      "0\n",
      "100\n",
      "size: 1000, time: 0.04005765914916992\n",
      "12\n",
      "size: 2000, time: 0.1397860050201416\n",
      "9\n",
      "size: 3000, time: 0.30785393714904785\n",
      "26\n",
      "size: 4000, time: 0.5385777950286865\n",
      "42\n",
      "size: 5000, time: 0.8591511249542236\n",
      "13\n",
      "size: 6000, time: 1.3523659706115723\n",
      "39\n",
      "size: 7000, time: 1.8072969913482666\n",
      "9\n",
      "size: 8000, time: 2.4000861644744873\n",
      "3\n",
      "size: 9000, time: 2.907371997833252\n",
      "9\n",
      "size: 10000, time: 3.6300699710845947\n"
     ]
    }
   ],
   "source": [
    "# 선생님 풀이 (O^2)\n",
    "import time\n",
    "from random import randrange \n",
    "\n",
    "\n",
    "def findMin(alist):\n",
    "    overallmin = alist[0]\n",
    "    for i in alist:\n",
    "        issmallest = True \n",
    "        for j in alist: # O(n^2) => for문 중첩\n",
    "            if i > j:\n",
    "                issmallest = False\n",
    "        if issmallest:\n",
    "            overallmin = i\n",
    "    return overallmin\n",
    "\n",
    "# 확인\n",
    "print(findMin([5,2,1,0]))\n",
    "print(findMin([0,2,3,4]))\n",
    "\n",
    "# 연산시간 (O(n^2))\n",
    "for listSize in range(1000, 10001, 1000):\n",
    "    alist = [randrange(100000) for _ in range(listSize)]\n",
    "    start = time.time()\n",
    "    print(findMin(alist))\n",
    "    end = time.time()\n",
    "    print(\"size: {}, time: {}\".format(listSize, end-start))"
   ]
  },
  {
   "cell_type": "code",
   "execution_count": 6,
   "metadata": {},
   "outputs": [
    {
     "name": "stdout",
     "output_type": "stream",
     "text": [
      "0\n",
      "0\n",
      "116\n",
      "size: 1000, time: 0.00045490264892578125\n",
      "81\n",
      "size: 2000, time: 0.00023293495178222656\n",
      "31\n",
      "size: 3000, time: 0.0010828971862792969\n",
      "32\n",
      "size: 4000, time: 0.00035881996154785156\n",
      "50\n",
      "size: 5000, time: 0.0006289482116699219\n",
      "8\n",
      "size: 6000, time: 0.0003559589385986328\n",
      "12\n",
      "size: 7000, time: 0.0002491474151611328\n",
      "3\n",
      "size: 8000, time: 0.00042700767517089844\n",
      "31\n",
      "size: 9000, time: 0.0004570484161376953\n",
      "1\n",
      "size: 10000, time: 0.000762939453125\n"
     ]
    }
   ],
   "source": [
    "# 선생님 풀이 (O(n))\n",
    "\n",
    "def findMin(alist):\n",
    "    minsofar = alist[0]\n",
    "    for i in alist: # O(n) alist의 길이만큼 반복, loop 중첩 없음   \n",
    "        if i < minsofar:\n",
    "            minsofar = i \n",
    "    return minsofar\n",
    "\n",
    "# 확인\n",
    "print(findMin([5,2,1,0]))\n",
    "print(findMin([0,2,3,4]))\n",
    "\n",
    "# 연산시간 (O(n))\n",
    "for listSize in range(1000, 10001, 1000):\n",
    "    alist = [randrange(100000) for _ in range(listSize)]\n",
    "    start = time.time()\n",
    "    print(findMin(alist))\n",
    "    end = time.time()\n",
    "    print(\"size: {}, time: {}\".format(listSize, end-start))"
   ]
  },
  {
   "cell_type": "code",
   "execution_count": null,
   "metadata": {
    "collapsed": true
   },
   "outputs": [],
   "source": []
  }
 ],
 "metadata": {
  "kernelspec": {
   "display_name": "Python 3",
   "language": "python",
   "name": "python3"
  },
  "language_info": {
   "codemirror_mode": {
    "name": "ipython",
    "version": 3
   },
   "file_extension": ".py",
   "mimetype": "text/x-python",
   "name": "python",
   "nbconvert_exporter": "python",
   "pygments_lexer": "ipython3",
   "version": "3.6.0"
  }
 },
 "nbformat": 4,
 "nbformat_minor": 2
}
