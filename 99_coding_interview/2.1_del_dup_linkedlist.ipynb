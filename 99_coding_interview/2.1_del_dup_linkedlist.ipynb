{
 "cells": [
  {
   "cell_type": "markdown",
   "metadata": {},
   "source": [
    "- 문제 : Delete Duplicate from linked list"
   ]
  },
  {
   "cell_type": "code",
   "execution_count": 4,
   "metadata": {
    "collapsed": true
   },
   "outputs": [],
   "source": [
    "import unittest\n",
    "\n",
    "class Node:\n",
    "    def __init__(self, item):\n",
    "        self.val = item\n",
    "        self.next = None\n",
    "        \n",
    "class LinkedList:\n",
    "    def __init__(self, item):\n",
    "        self.head = Node(item)\n",
    "        \n",
    "    def add(self, item):\n",
    "        cur = self.head\n",
    "        while cur.next is not None:\n",
    "            cur = cur.next\n",
    "        cur.next = Node(item)\n",
    "        \n",
    "    def delete_duplicate(self):\n",
    "        cur = self.head\n",
    "        dic = {}\n",
    "        prev = None \n",
    "        while cur is not None:\n",
    "            if cur.val in dic:\n",
    "                prev.next = cur.next\n",
    "            else:\n",
    "                dic[cur.val] = True\n",
    "                pre = cur\n",
    "            cur = cur.next\n",
    "    \n",
    "    def printlist(self):\n",
    "        cur = self.head\n",
    "        res = [] \n",
    "        while cur is not None:\n",
    "            res.append(cur.val)\n",
    "            cur = cur.next\n",
    "        return str(res)\n",
    "        \n",
    "class LinkedListTest(unittest.TestCase):\n",
    "    def test(self):\n",
    "        ll = LinkedList(3)\n",
    "        ll.add(4)\n",
    "        ll.add(5)\n",
    "        ll.add(6)\n",
    "        ll.add(4)\n",
    "        ll.add(7)\n",
    "        ll.add(4)\n",
    "        ll.add(6)\n",
    "        ll.add(6)\n",
    "        ll.delete_duplicate()\n",
    "        self.assertEqual(\"[3, 4, 5, 6, 7]\", ll.printlist())            "
   ]
  },
  {
   "cell_type": "code",
   "execution_count": 5,
   "metadata": {},
   "outputs": [
    {
     "data": {
      "text/plain": [
       "<function __main__.LinkedListTest.test>"
      ]
     },
     "execution_count": 5,
     "metadata": {},
     "output_type": "execute_result"
    }
   ],
   "source": []
  },
  {
   "cell_type": "code",
   "execution_count": 6,
   "metadata": {
    "collapsed": true
   },
   "outputs": [],
   "source": [
    "a, b = 1, 2"
   ]
  },
  {
   "cell_type": "code",
   "execution_count": 9,
   "metadata": {},
   "outputs": [],
   "source": [
    "a, b = b, a"
   ]
  },
  {
   "cell_type": "code",
   "execution_count": 12,
   "metadata": {},
   "outputs": [
    {
     "data": {
      "text/plain": [
       "tuple"
      ]
     },
     "execution_count": 12,
     "metadata": {},
     "output_type": "execute_result"
    }
   ],
   "source": [
    "type((1,))"
   ]
  },
  {
   "cell_type": "code",
   "execution_count": null,
   "metadata": {
    "collapsed": true
   },
   "outputs": [],
   "source": []
  }
 ],
 "metadata": {
  "kernelspec": {
   "display_name": "Python 3",
   "language": "python",
   "name": "python3"
  },
  "language_info": {
   "codemirror_mode": {
    "name": "ipython",
    "version": 3
   },
   "file_extension": ".py",
   "mimetype": "text/x-python",
   "name": "python",
   "nbconvert_exporter": "python",
   "pygments_lexer": "ipython3",
   "version": "3.6.0"
  }
 },
 "nbformat": 4,
 "nbformat_minor": 2
}
