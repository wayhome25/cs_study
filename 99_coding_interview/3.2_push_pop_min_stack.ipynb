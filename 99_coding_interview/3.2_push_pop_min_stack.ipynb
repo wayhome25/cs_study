{
 "cells": [
  {
   "cell_type": "code",
   "execution_count": null,
   "metadata": {
    "collapsed": true
   },
   "outputs": [],
   "source": [
    "# O(1) 의 시간복잡도를 가진다는 것은 hash, dictionary 처럼 변수에 직접 접근한다는 의미\n"
   ]
  },
  {
   "cell_type": "code",
   "execution_count": 3,
   "metadata": {},
   "outputs": [
    {
     "name": "stdout",
     "output_type": "stream",
     "text": [
      "3\n",
      "5\n",
      "4\n",
      "4\n"
     ]
    }
   ],
   "source": [
    "class Stack():\n",
    "    def __init__(self):\n",
    "        self.items = []\n",
    "        self.mins = []\n",
    "        self.min = None\n",
    "        \n",
    "    def push(self, item):\n",
    "        self.items.append(item)\n",
    "        self.mins.append(self.min)\n",
    "        if self.min is None or self.min > item:\n",
    "            self.min = item\n",
    "        \n",
    "    def pop(self):\n",
    "        self.items.pop()\n",
    "        self.min = self.mins.pop()\n",
    "    \n",
    "    def get_min(self):\n",
    "        return self.min\n",
    "    \n",
    "    def peak(self):\n",
    "        return self.items[-1]\n",
    "    \n",
    "if __name__ == '__main__':\n",
    "    stack = Stack()\n",
    "    stack.push(7)\n",
    "    stack.push(4)\n",
    "    stack.push(5)\n",
    "    stack.push(3) \n",
    "    print(stack.get_min())\n",
    "    stack.pop()\n",
    "    print(stack.peak())\n",
    "    stack.pop()\n",
    "    print(stack.peak())\n",
    "    print(stack.get_min())\n",
    "    "
   ]
  },
  {
   "cell_type": "code",
   "execution_count": null,
   "metadata": {
    "collapsed": true
   },
   "outputs": [],
   "source": []
  }
 ],
 "metadata": {
  "kernelspec": {
   "display_name": "Python 3",
   "language": "python",
   "name": "python3"
  },
  "language_info": {
   "codemirror_mode": {
    "name": "ipython",
    "version": 3
   },
   "file_extension": ".py",
   "mimetype": "text/x-python",
   "name": "python",
   "nbconvert_exporter": "python",
   "pygments_lexer": "ipython3",
   "version": "3.6.0"
  }
 },
 "nbformat": 4,
 "nbformat_minor": 2
}
