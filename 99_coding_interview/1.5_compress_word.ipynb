{
 "cells": [
  {
   "cell_type": "code",
   "execution_count": 15,
   "metadata": {
    "collapsed": true
   },
   "outputs": [],
   "source": [
    "\"\"\"\n",
    "abbcccccccd -> a1b2c7d1\n",
    "abc -> abc if the compression (a1b1c1) is longer than original, return original\n",
    "\"\"\"\n",
    "\n",
    "def compressword(input):\n",
    "    buffer = None\n",
    "    counter = 1\n",
    "    output = \"\"\n",
    "    for ch in input:\n",
    "        if buffer is None:\n",
    "            buffer = ch\n",
    "            output += ch\n",
    "        elif buffer == ch:\n",
    "            counter += 1\n",
    "        else:\n",
    "            output += str(counter) + ch \n",
    "            counter = 1\n",
    "            buffer = ch\n",
    "    output += str(counter)\n",
    "    if len(output) > len(input):\n",
    "        return input\n",
    "    return output\n",
    "                "
   ]
  },
  {
   "cell_type": "code",
   "execution_count": 16,
   "metadata": {},
   "outputs": [
    {
     "data": {
      "text/plain": [
       "'a2b1c3a2'"
      ]
     },
     "execution_count": 16,
     "metadata": {},
     "output_type": "execute_result"
    }
   ],
   "source": [
    "compressword(\"aabcccaa\")"
   ]
  },
  {
   "cell_type": "code",
   "execution_count": 17,
   "metadata": {
    "collapsed": true
   },
   "outputs": [],
   "source": [
    "# 선생님 풀이\n",
    "\n",
    "def compressword(input):\n",
    "    buffer = None\n",
    "    output = \"\"\n",
    "    cnt = 1\n",
    "    for ch in input:\n",
    "        if buffer is None:\n",
    "            output += ch\n",
    "            buffer = ch\n",
    "        else:\n",
    "            if buffer == ch:\n",
    "                cnt += 1\n",
    "            else:\n",
    "                output += str(cnt)\n",
    "                cnt = 1\n",
    "                output += ch\n",
    "                buffer = ch\n",
    "    output += str(cnt)\n",
    "\n",
    "    if len(output) > len(input):\n",
    "        return input\n",
    "    else:\n",
    "        return output"
   ]
  },
  {
   "cell_type": "code",
   "execution_count": 22,
   "metadata": {},
   "outputs": [
    {
     "data": {
      "text/plain": [
       "'a1b12c2d2'"
      ]
     },
     "execution_count": 22,
     "metadata": {},
     "output_type": "execute_result"
    }
   ],
   "source": [
    "compressword(\"abbbbbbbbbbbbccdd\")"
   ]
  },
  {
   "cell_type": "code",
   "execution_count": null,
   "metadata": {
    "collapsed": true
   },
   "outputs": [],
   "source": []
  }
 ],
 "metadata": {
  "kernelspec": {
   "display_name": "Python 3",
   "language": "python",
   "name": "python3"
  },
  "language_info": {
   "codemirror_mode": {
    "name": "ipython",
    "version": 3
   },
   "file_extension": ".py",
   "mimetype": "text/x-python",
   "name": "python",
   "nbconvert_exporter": "python",
   "pygments_lexer": "ipython3",
   "version": "3.6.0"
  }
 },
 "nbformat": 4,
 "nbformat_minor": 2
}
